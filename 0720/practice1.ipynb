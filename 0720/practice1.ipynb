{
 "metadata": {
  "language_info": {
   "codemirror_mode": {
    "name": "ipython",
    "version": 3
   },
   "file_extension": ".py",
   "mimetype": "text/x-python",
   "name": "python",
   "nbconvert_exporter": "python",
   "pygments_lexer": "ipython3",
   "version": "3.9.6"
  },
  "orig_nbformat": 4,
  "kernelspec": {
   "name": "python3",
   "display_name": "Python 3.9.6 64-bit"
  },
  "interpreter": {
   "hash": "826c1ff5c4179778aab3a3c529716f5482c58a2cdc9450e70eef1a1010bf897b"
  }
 },
 "nbformat": 4,
 "nbformat_minor": 2,
 "cells": [
  {
   "source": [
    "# Practice1\n",
    "## 데이터(data) & 제어문(Control Statement)"
   ],
   "cell_type": "markdown",
   "metadata": {}
  },
  {
   "source": [
    "### 갯수 구하기\n",
    "- 리스트 속 학생 수를 출력하시오."
   ],
   "cell_type": "markdown",
   "metadata": {}
  },
  {
   "cell_type": "code",
   "execution_count": 1,
   "metadata": {},
   "outputs": [
    {
     "output_type": "stream",
     "name": "stdout",
     "text": [
      "3\n"
     ]
    }
   ],
   "source": [
    "names = ['Kim', 'Lee', 'Park']\n",
    "print(len(names))"
   ]
  },
  {
   "source": [
    "### 득표수 구하기\n",
    "- 주어진 리스트는 투표 결과이다. Lee의 득표수를 출력하시오."
   ],
   "cell_type": "markdown",
   "metadata": {}
  },
  {
   "cell_type": "code",
   "execution_count": 2,
   "metadata": {},
   "outputs": [
    {
     "output_type": "execute_result",
     "data": {
      "text/plain": [
       "3"
      ]
     },
     "metadata": {},
     "execution_count": 2
    }
   ],
   "source": [
    "votes = ['Kim', 'Lee', 'Park','Kim', 'Kim', 'Lee', 'Park', 'Lee']\n",
    "votes.count('Lee')"
   ]
  },
  {
   "source": [
    "### 최대/최소 구하기\n",
    "- 주어진 리스트 요소 중 최댓값/최솟값을 출력하시오."
   ],
   "cell_type": "markdown",
   "metadata": {}
  },
  {
   "cell_type": "code",
   "execution_count": 6,
   "metadata": {},
   "outputs": [
    {
     "output_type": "stream",
     "name": "stdout",
     "text": [
      "94\n32\n"
     ]
    }
   ],
   "source": [
    "import numpy as np\n",
    "num_list = np.random.randint(1,101,5)\n",
    "print(max(num_list), min(num_list), sep='\\n')"
   ]
  },
  {
   "source": [
    "### 특정 문자열 제거\n",
    "- 입력으로 짧은 영단어 word가 apple로 주어질 때, 해당 단어에서 'a'를 제거한 결과를 출력하시오."
   ],
   "cell_type": "markdown",
   "metadata": {}
  },
  {
   "cell_type": "code",
   "execution_count": 7,
   "metadata": {},
   "outputs": [
    {
     "output_type": "stream",
     "name": "stdout",
     "text": [
      "pple\n"
     ]
    }
   ],
   "source": [
    "word = 'apple'\n",
    "print(word.replace('a',''))"
   ]
  },
  {
   "cell_type": "code",
   "execution_count": 13,
   "metadata": {},
   "outputs": [
    {
     "output_type": "stream",
     "name": "stdout",
     "text": [
      "pple\n"
     ]
    }
   ],
   "source": [
    "word = 'apple'\n",
    "print(''.join(w for w in word if w != 'a'))"
   ]
  },
  {
   "source": [
    "### 단어 뒤집기\n",
    "- 입력으로 짧은 영단어 word가 apple로 주어질 때, 해당 단어를 역순으로 뒤집은 결과를 출력하시오."
   ],
   "cell_type": "markdown",
   "metadata": {}
  },
  {
   "cell_type": "code",
   "execution_count": 14,
   "metadata": {},
   "outputs": [
    {
     "output_type": "stream",
     "name": "stdout",
     "text": [
      "elppa\n"
     ]
    }
   ],
   "source": [
    "word = 'apple'\n",
    "print(word[::-1])"
   ]
  },
  {
   "cell_type": "code",
   "execution_count": 15,
   "metadata": {},
   "outputs": [
    {
     "output_type": "stream",
     "name": "stdout",
     "text": [
      "elppa\n"
     ]
    }
   ],
   "source": [
    "word = 'apple'\n",
    "print(''.join(reversed(word)))"
   ]
  },
  {
   "cell_type": "code",
   "execution_count": null,
   "metadata": {},
   "outputs": [],
   "source": []
  }
 ]
}