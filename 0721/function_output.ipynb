{
 "cells": [
  {
   "cell_type": "markdown",
   "source": [
    "# 함수 output\r\n",
    "\r\n",
    "## 함수의 리턴(return)\r\n",
    "- 함수는 항상 반환되는 값이 있으며, 어떠한 객체라도 상관 없음\r\n",
    "- 오직 한 개의 객체만 return 됨"
   ],
   "metadata": {}
  },
  {
   "cell_type": "code",
   "execution_count": 1,
   "source": [
    "# 복수의 개체를 return 하는 경우\r\n",
    "def boo(a, b):\r\n",
    "    return a+b, a-b\r\n",
    "\r\n",
    "print(boo(1, 2))\r\n",
    "# 하나의 객체(tuple)를 반환\r\n",
    "print(type(boo(1, 2)))"
   ],
   "outputs": [
    {
     "output_type": "stream",
     "name": "stdout",
     "text": [
      "(3, -1)\n",
      "<class 'tuple'>\n"
     ]
    }
   ],
   "metadata": {}
  },
  {
   "cell_type": "code",
   "execution_count": 2,
   "source": [
    "# 명시적인 return 값이 없는 경우\r\n",
    "def greeting():\r\n",
    "    print('hi')\r\n",
    "\r\n",
    "greeting()\r\n",
    "# 하나의 객체(None)을 반환\r\n",
    "type(greeting())"
   ],
   "outputs": [
    {
     "output_type": "stream",
     "name": "stdout",
     "text": [
      "hi\n",
      "hi\n"
     ]
    },
    {
     "output_type": "execute_result",
     "data": {
      "text/plain": [
       "NoneType"
      ]
     },
     "metadata": {},
     "execution_count": 2
    }
   ],
   "metadata": {}
  },
  {
   "cell_type": "markdown",
   "source": [
    "## return vs print\r\n",
    "- return은 함수 안에서만 사용되는 키워드\r\n",
    "- print는 출력을 위해 사용되는 함수\r\n",
    "- REPL(Read-Eval-Print Loop) 환경에서는 마지막으로 작성된 코드의 리턴 값을 보여주므로 같은 동작을 하는 것으로 착각할 수 있음"
   ],
   "metadata": {}
  },
  {
   "cell_type": "markdown",
   "source": [
    "### [실습] 사각형의 넓이\r\n",
    "> 너비와 높이를 입력 받아 사각형의 넓이와 둘레를 튜플로 반환하는 함수 rectangle을 작성하고, 함수 rectangle을 활용하여 가로30, 세로20 사각형의 넓이와 둘레를 구하시오."
   ],
   "metadata": {}
  },
  {
   "cell_type": "code",
   "execution_count": 3,
   "source": [
    "def rectangle(width, length):\r\n",
    "    area = width * length\r\n",
    "    perimeter = (width + length) * 2\r\n",
    "    return area, perimeter\r\n",
    "\r\n",
    "print(rectangle(30, 20))"
   ],
   "outputs": [
    {
     "output_type": "stream",
     "name": "stdout",
     "text": [
      "(600, 100)\n"
     ]
    }
   ],
   "metadata": {}
  },
  {
   "cell_type": "markdown",
   "source": [
    "### [실습] 함수를 정의하고 값을 반환해보시오.\r\n",
    "> 리스트 두개를 받아 각각 더한 결과를 비교하여 값이 큰 리스트를 반환하는 함수 my_list_max를 만드시오."
   ],
   "metadata": {}
  },
  {
   "cell_type": "code",
   "execution_count": 4,
   "source": [
    "def my_list_max(lst1, lst2):\r\n",
    "    a = 0\r\n",
    "    b = 0\r\n",
    "    for l in lst1:\r\n",
    "        a += l\r\n",
    "        \r\n",
    "    for l in lst2:\r\n",
    "        b += l\r\n",
    "    \r\n",
    "    if a > b:\r\n",
    "        return lst1\r\n",
    "    elif a < b:\r\n",
    "        return lst2\r\n",
    "\r\n",
    "print(my_list_max([10, 3], [5, 9]))"
   ],
   "outputs": [
    {
     "output_type": "stream",
     "name": "stdout",
     "text": [
      "[5, 9]\n"
     ]
    }
   ],
   "metadata": {}
  }
 ],
 "metadata": {
  "orig_nbformat": 4,
  "language_info": {
   "name": "python",
   "version": "3.9.6",
   "mimetype": "text/x-python",
   "codemirror_mode": {
    "name": "ipython",
    "version": 3
   },
   "pygments_lexer": "ipython3",
   "nbconvert_exporter": "python",
   "file_extension": ".py"
  },
  "kernelspec": {
   "name": "python3",
   "display_name": "Python 3.9.6 64-bit"
  },
  "interpreter": {
   "hash": "826c1ff5c4179778aab3a3c529716f5482c58a2cdc9450e70eef1a1010bf897b"
  }
 },
 "nbformat": 4,
 "nbformat_minor": 2
}