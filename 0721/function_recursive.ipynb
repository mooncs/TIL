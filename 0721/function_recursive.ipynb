{
 "cells": [
  {
   "cell_type": "markdown",
   "source": [
    "# 재귀함수(recursive function)\r\n",
    "- 자기 자신을 호출하는 함수\r\n",
    "- 무한한 호출을 목표로 하는 것이 아니며, 알고리즘 설계 및 구현에서 유용하게 활용\r\n",
    "  - 알고리즘 중 재귀 함수로 로직을 표현하기 쉬운 경우가 있다.\r\n",
    "  - 변수의 사용이 줄어들며, 코드의 가독성이 높아진다.\r\n",
    "- 1개 이상의 base case(종료되는 상황)가 존재하고, 수렴하도록 작성\r\n",
    "- 같은 문제를 다른 Input값을 통해서 해결하는 과정\r\n",
    "  - 큰 문제를 해결하기 위해 작은 문제로 좁히고, 작은 문제의 해답을 이용하여 해결\r\n",
    "  - 작은 문제는 base case에 도달하여 재귀함수가 끝날 수 있도록 한다."
   ],
   "metadata": {}
  },
  {
   "cell_type": "markdown",
   "source": [
    "## 재귀함수 주의 사항\r\n",
    "- 재귀함수는 base case에 도달할 때까지 함수를 호출함\r\n",
    "- 메모리 스택이 넘치게 되면(stack overflow) 프로그램이 동작하지 않게 됨\r\n",
    "- 파이썬에서는 최대 재귀 깊이(maximum recursion depth)가 1,000번으로, 호출 횟수가 이를 엄어가게 되면 Recursion Error 발생"
   ],
   "metadata": {}
  },
  {
   "cell_type": "markdown",
   "source": [
    "### [실습] 팩토리얼"
   ],
   "metadata": {}
  },
  {
   "cell_type": "markdown",
   "source": [
    "### 팩토리얼 재귀함수\r\n",
    "- 반복문\r\n",
    "  - n이 1보다 큰 경우 반복문 실행, n은 1씩 감소\r\n",
    "  - 마지막에 n이 1이 되면 더이상 반복문을 돌지 않음\r\n",
    "- 재귀함수\r\n",
    "  - 재귀함수를 호출하며, n은 1씩 감소\r\n",
    "  - 마지막에 n이 1이면 더이상 추가 함수를 호출하지 않음"
   ],
   "metadata": {}
  },
  {
   "cell_type": "code",
   "execution_count": null,
   "source": [
    "# 팩토리얼 재귀\r\n",
    "# 4! = 4*3! = 4*3*2! = 4*3*2*1    f(4) = 4 * f(3)\r\n",
    "# 3! = 3*2! = 3*2*1 = 6           f(3) = 3 * f(2)\r\n",
    "# 2! = 2*1 = 2                    f(2) = 2 * f(1)\r\n",
    "# 1! = 1                          f(1) = 1"
   ],
   "outputs": [],
   "metadata": {}
  },
  {
   "cell_type": "code",
   "execution_count": 1,
   "source": [
    "# 반복문(for) 팩토리얼\r\n",
    "def factorial(n):\r\n",
    "    fac = 1\r\n",
    "    for i in range(2, n+1):\r\n",
    "        fac *= i\r\n",
    "    return fac\r\n",
    "\r\n",
    "factorial(10)"
   ],
   "outputs": [
    {
     "output_type": "execute_result",
     "data": {
      "text/plain": [
       "3628800"
      ]
     },
     "metadata": {},
     "execution_count": 1
    }
   ],
   "metadata": {}
  },
  {
   "cell_type": "code",
   "execution_count": 2,
   "source": [
    "# 반복문(while) 팩토리얼\r\n",
    "def factorial(n):\r\n",
    "    fac = 1\r\n",
    "    while n > 1:\r\n",
    "        fac *= n\r\n",
    "        n -= 1\r\n",
    "    return fac\r\n",
    "\r\n",
    "factorial(10)"
   ],
   "outputs": [
    {
     "output_type": "execute_result",
     "data": {
      "text/plain": [
       "3628800"
      ]
     },
     "metadata": {},
     "execution_count": 2
    }
   ],
   "metadata": {}
  },
  {
   "cell_type": "code",
   "execution_count": 3,
   "source": [
    "# 재귀함수 팩토리얼\r\n",
    "def factorial(n):\r\n",
    "    if n == 1:\r\n",
    "        return n\r\n",
    "    else:\r\n",
    "        return n * factorial(n-1)\r\n",
    "\r\n",
    "factorial(10)"
   ],
   "outputs": [
    {
     "output_type": "execute_result",
     "data": {
      "text/plain": [
       "3628800"
      ]
     },
     "metadata": {},
     "execution_count": 3
    }
   ],
   "metadata": {}
  },
  {
   "cell_type": "markdown",
   "source": [
    "### 최대 재귀 깊이\r\n",
    "\r\n",
    "> hello_python()을 호출하면 아래와 같이 문자열이 계속 출력되다가 RecursionError가 발생한다.\r\n",
    "> \r\n",
    "> 파이썬에서는 최대 재귀 깊이(maximum recursion depth)가 1,000으로 정해져 있기 때문\r\n",
    "\r\n",
    "\r\n",
    "```bash\r\n",
    "Hello, world\r\n",
    "Hello, world\r\n",
    "...\r\n",
    "Hello, world\r\n",
    "---------------------------------------------------------------------------\r\n",
    "RecursionError                            Traceback (most recent call last)\r\n",
    "\r\n",
    "...\r\n",
    "\r\n",
    "<ipython-input-11-2bbb40950c86> in hello()\r\n",
    "      1 def hello():\r\n",
    "      2     print('Hello, world')\r\n",
    "----> 3     hello()\r\n",
    "      4 \r\n",
    "      5 hello()\r\n",
    "\r\n",
    "RecursionError: maximum recursion depth exceeded while calling a Python object\r\n",
    "```"
   ],
   "metadata": {}
  },
  {
   "cell_type": "code",
   "execution_count": null,
   "source": [
    "# Recursion Error\r\n",
    "# def hello():\r\n",
    "#     print('hello, world')\r\n",
    "#     hello()\r\n",
    "\r\n",
    "# hello()"
   ],
   "outputs": [],
   "metadata": {}
  },
  {
   "cell_type": "markdown",
   "source": [
    "### [실습] 피보나치 수열"
   ],
   "metadata": {}
  },
  {
   "cell_type": "code",
   "execution_count": 4,
   "source": [
    "# 반복문(for)1\r\n",
    "# list 이용\r\n",
    "def fibo_for(n):\r\n",
    "    fibo = [1]*n\r\n",
    "    for i in range(n):\r\n",
    "        if i > 1:\r\n",
    "            fibo[i] = fibo[i-2] + fibo[i-1]\r\n",
    "    return fibo[n-1]\r\n",
    "\r\n",
    "fibo_for(10)"
   ],
   "outputs": [
    {
     "output_type": "execute_result",
     "data": {
      "text/plain": [
       "55"
      ]
     },
     "metadata": {},
     "execution_count": 4
    }
   ],
   "metadata": {}
  },
  {
   "cell_type": "code",
   "execution_count": 5,
   "source": [
    "# 반복문(for)2\r\n",
    "# swap 이용\r\n",
    "def fibo_for(n):\r\n",
    "    if n < 2:\r\n",
    "        return n\r\n",
    "    \r\n",
    "    a, b =0, 1\r\n",
    "\r\n",
    "    for i in range(n-1):\r\n",
    "        a, b = b, a+b\r\n",
    "    return b\r\n",
    "\r\n",
    "print(fibo_for(10))"
   ],
   "outputs": [
    {
     "output_type": "stream",
     "name": "stdout",
     "text": [
      "55\n"
     ]
    }
   ],
   "metadata": {}
  },
  {
   "cell_type": "code",
   "execution_count": 6,
   "source": [
    "# 반복문(while)\r\n",
    "def fibo_while(n):\r\n",
    "    a, b = 0, 1\r\n",
    "    while n > 1:\r\n",
    "        a, b = b, a+b\r\n",
    "        n -= 1\r\n",
    "    return b\r\n",
    "\r\n",
    "fibo_while(10)"
   ],
   "outputs": [
    {
     "output_type": "execute_result",
     "data": {
      "text/plain": [
       "55"
      ]
     },
     "metadata": {},
     "execution_count": 6
    }
   ],
   "metadata": {}
  },
  {
   "cell_type": "code",
   "execution_count": 7,
   "source": [
    "# 피보나치 재귀함수1\r\n",
    "# 재귀함수로 작성된 경우 4번째 항의 값을 구하기 위해 호출되는 함수의 개수를 작성하시오. : 20번\r\n",
    "def fib(n):\r\n",
    "    # base case\r\n",
    "    if n < 2:\r\n",
    "        return n\r\n",
    "    else:\r\n",
    "        return fib(n-1) + fib(n-2)\r\n",
    "fib(10)"
   ],
   "outputs": [
    {
     "output_type": "execute_result",
     "data": {
      "text/plain": [
       "55"
      ]
     },
     "metadata": {},
     "execution_count": 7
    }
   ],
   "metadata": {}
  },
  {
   "cell_type": "code",
   "execution_count": 8,
   "source": [
    "# 피보나치 재귀함수2\r\n",
    "def fibonacci(n):\r\n",
    "    if n < 3:\r\n",
    "        return 1\r\n",
    "    else:\r\n",
    "        return fibonacci(n-1) + fibonacci(n-2)\r\n",
    "\r\n",
    "fibonacci(15)"
   ],
   "outputs": [
    {
     "output_type": "execute_result",
     "data": {
      "text/plain": [
       "610"
      ]
     },
     "metadata": {},
     "execution_count": 8
    }
   ],
   "metadata": {}
  }
 ],
 "metadata": {
  "orig_nbformat": 4,
  "language_info": {
   "name": "python",
   "version": "3.9.6",
   "mimetype": "text/x-python",
   "codemirror_mode": {
    "name": "ipython",
    "version": 3
   },
   "pygments_lexer": "ipython3",
   "nbconvert_exporter": "python",
   "file_extension": ".py"
  },
  "kernelspec": {
   "name": "python3",
   "display_name": "Python 3.9.6 64-bit"
  },
  "interpreter": {
   "hash": "826c1ff5c4179778aab3a3c529716f5482c58a2cdc9450e70eef1a1010bf897b"
  }
 },
 "nbformat": 4,
 "nbformat_minor": 2
}