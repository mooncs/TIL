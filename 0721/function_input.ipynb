{
 "cells": [
  {
   "cell_type": "markdown",
   "source": [
    "# 함수 input\r\n",
    "\r\n",
    "## Parameter(매개변수)\r\n",
    "- 함수에 입력으로 전당된 값을 받는 변수\r\n",
    "- def my_func(a, b):  pass\r\n",
    "\r\n",
    "## Arguments(전달인자, 인수)\r\n",
    "- 함수를 호출할 때 함수에 전달되는 입력 값\r\n",
    "- my_func(1, 2)"
   ],
   "metadata": {}
  },
  {
   "cell_type": "markdown",
   "source": [
    "## 위치 인자(Positional Arguments)\r\n",
    "- 기본적으로 함수 호출 시 인자는 위치에 따라 함수 내에 전달된다."
   ],
   "metadata": {}
  },
  {
   "cell_type": "markdown",
   "source": [
    "### [실습] 원기둥의 부피\r\n",
    "> 원기둥의 반지름(r)과 높이(h)를 받아서 부피를 return하는 함수 cylinder()를 작성하고, 반지름이 5 높이가 2일 때의 원기둥의 부피와 반지름 2 높이 5일 떄의 부피를 구하시오."
   ],
   "metadata": {}
  },
  {
   "cell_type": "code",
   "execution_count": 1,
   "source": [
    "def cylinder(r, h):\r\n",
    "    return 3.14 * r * r * h\r\n",
    "\r\n",
    "print(cylinder(5, 2))\r\n",
    "print(cylinder(2, 5))"
   ],
   "outputs": [
    {
     "output_type": "stream",
     "name": "stdout",
     "text": [
      "157.0\n",
      "62.800000000000004\n"
     ]
    }
   ],
   "metadata": {}
  },
  {
   "cell_type": "markdown",
   "source": [
    "## 기본 인자 값(Default Arguments Values)\r\n",
    "- 기본적으로 지정하여 함수 호출 시 인자 값을 설정하지 않도록 한다.\r\n",
    "  - 정의된 것 보다 더 적은 개수의 인자들로 호출 될 수 있다.\r\n",
    "  \r\n",
    "  ```\r\n",
    "  def add(x, y=0):\r\n",
    "    return x + y\r\n",
    "  ```\r\n",
    "- 단, 기본 인자값을 가지는 인자 다음에 기본값이 없는 인자를 사용할 수는 없다."
   ],
   "metadata": {}
  },
  {
   "cell_type": "markdown",
   "source": [
    "### [실습] 기본 인자 값의 활용\r\n",
    "> 이름을 받아서 다음과 같이 인사하는 함수 greeting()을 작성하고, 이름이 길동이면, \"길동, 안녕?\" 이름이 없으면 \"익명, 안녕?\" 으로 출력하시오."
   ],
   "metadata": {}
  },
  {
   "cell_type": "code",
   "execution_count": 2,
   "source": [
    "def greeting(name='익명'):\r\n",
    "    return name + ', 안녕?'\r\n",
    "\r\n",
    "print(greeting('길동'))\r\n",
    "print(greeting())"
   ],
   "outputs": [
    {
     "output_type": "stream",
     "name": "stdout",
     "text": [
      "길동, 안녕?\n",
      "익명, 안녕?\n"
     ]
    }
   ],
   "metadata": {}
  },
  {
   "cell_type": "code",
   "execution_count": 3,
   "source": [
    "# 기본 인자값을 가지는 인자 다음에 기본값이 없는 인자를 사용할 수는 없다.\r\n",
    "def greeting(name='길동', age):\r\n",
    "    return f'{name}은 {age}살입니다.'"
   ],
   "outputs": [
    {
     "output_type": "error",
     "ename": "SyntaxError",
     "evalue": "non-default argument follows default argument (Temp/ipykernel_13016/295644224.py, line 2)",
     "traceback": [
      "\u001b[1;36m  File \u001b[1;32m\"C:\\Users\\csmoo\\AppData\\Local\\Temp/ipykernel_13016/295644224.py\"\u001b[1;36m, line \u001b[1;32m2\u001b[0m\n\u001b[1;33m    def greeting(name='길동', age):\u001b[0m\n\u001b[1;37m                               ^\u001b[0m\n\u001b[1;31mSyntaxError\u001b[0m\u001b[1;31m:\u001b[0m non-default argument follows default argument\n"
     ]
    }
   ],
   "metadata": {}
  },
  {
   "cell_type": "markdown",
   "source": [
    "## 키워드 인자(Keyword Arguments)\r\n",
    "- 직접 변수의 이름으로 특정 인자를 전달할 수 있다.\r\n",
    "- 키워드 인자 다음에 위치 인자를 활용할 수 없다.\r\n",
    "\r\n",
    "  ```\r\n",
    "  def add(x, y):\r\n",
    "    return x + y\r\n",
    "  \r\n",
    "  add(x=2, y=5)\r\n",
    "  add(x, y=5)\r\n",
    "  ```"
   ],
   "metadata": {}
  },
  {
   "cell_type": "code",
   "execution_count": 4,
   "source": [
    "# 키워드 인자 다음에 위치 인자를 활용할 수 없다.\r\n",
    "greeting(age=28, '철수')"
   ],
   "outputs": [
    {
     "output_type": "error",
     "ename": "SyntaxError",
     "evalue": "positional argument follows keyword argument (Temp/ipykernel_13016/165615974.py, line 1)",
     "traceback": [
      "\u001b[1;36m  File \u001b[1;32m\"C:\\Users\\csmoo\\AppData\\Local\\Temp/ipykernel_13016/165615974.py\"\u001b[1;36m, line \u001b[1;32m1\u001b[0m\n\u001b[1;33m    greeting(age=28, '철수')\u001b[0m\n\u001b[1;37m                         ^\u001b[0m\n\u001b[1;31mSyntaxError\u001b[0m\u001b[1;31m:\u001b[0m positional argument follows keyword argument\n"
     ]
    }
   ],
   "metadata": {}
  },
  {
   "cell_type": "markdown",
   "source": [
    "## 가변 인자 리스트(Arbitray Argument Lists)\r\n",
    "- 함수가 임의의 개수 인자로 호출될 수 있도록 지정\r\n",
    "- 인자들은 튜플로 묶여 처리되며, 매개변수에 *을 붙여 표현\r\n",
    "- *args 는 바꿀 수 있지만 관례적으로 바꾸지 않고 사용\r\n",
    "\r\n",
    "    ```\r\n",
    "    def add(*args):\r\n",
    "      for arg in args:\r\n",
    "        print(arg)\r\n",
    "    ```\r\n",
    "> `*args` : 임의의 개수의 위치인자를 받음을 의미한다.\r\n",
    "> \r\n",
    "> 보통, 이 가변 인자 리스트는 매개변수 목록의 마지막에 온다."
   ],
   "metadata": {}
  },
  {
   "cell_type": "code",
   "execution_count": 5,
   "source": [
    "# args는 함수 내부에서 tuple로 처리된다.\r\n",
    "def my_func(*args):\r\n",
    "    return args\r\n",
    "    \r\n",
    "print(my_func(1, 2))\r\n",
    "print(type(my_func(1, 2)))"
   ],
   "outputs": [
    {
     "output_type": "stream",
     "name": "stdout",
     "text": [
      "(1, 2)\n",
      "<class 'tuple'>\n"
     ]
    }
   ],
   "metadata": {}
  },
  {
   "cell_type": "markdown",
   "source": [
    "### [실습] 가변 인자 리스트 사용\r\n",
    "> 정수를 여러 개 받아서 가장 큰 값을 반환(return)하는 함수 my_max()를 작성하고, my_max(-1, -2, -3, -4)을 출력하시오.\r\n",
    ">\r\n",
    "> 단, max() 내장함수 사용은 금지"
   ],
   "metadata": {}
  },
  {
   "cell_type": "code",
   "execution_count": 6,
   "source": [
    "def my_max(*args):\r\n",
    "    max = args[0]\r\n",
    "    for i in range(1, len(args)):\r\n",
    "        if args[i] > max:\r\n",
    "            max = args[i]\r\n",
    "    return max\r\n",
    "\r\n",
    "print(my_max(-1, -2, -3, -4))"
   ],
   "outputs": [
    {
     "output_type": "stream",
     "name": "stdout",
     "text": [
      "-1\n"
     ]
    }
   ],
   "metadata": {}
  },
  {
   "cell_type": "markdown",
   "source": [
    "## 가변 키워드 인자(Arbitray Keyword Arguments)\r\n",
    "- 함수가 임의의 개수 인자를 키워드 인자로 호출될 수 있도록 지정\r\n",
    "- 인자들은 딕셔너리로 묶여 처리되며, 매개변수에 **을 붙여 표현\r\n",
    "  \r\n",
    "  ```\r\n",
    "  def family(**kwargs):\r\n",
    "    for key, value in kwargs.items():\r\n",
    "      print(key, \":\", value)\r\n",
    "\r\n",
    "  family(father='John', mother='Jane', me='John Jr.')\r\n",
    "  ```\r\n",
    "> `**kwargs` : 임의의 개수의 키워드 인자를 받음을 의미한다."
   ],
   "metadata": {}
  },
  {
   "cell_type": "markdown",
   "source": [
    "### 딕셔너리의 성질"
   ],
   "metadata": {}
  },
  {
   "cell_type": "code",
   "execution_count": 7,
   "source": [
    "st = {'a':99, 'b':75, 'c':68}\r\n",
    "# 딕셔너리는 키를 기본으로 가져오는데, 이는 키를 알면 벨류도 자동으로 알 수 있기 때문에\r\n",
    "# for key, value in st:     # error\r\n",
    "    # print(key, value)\r\n",
    "\r\n",
    "for key, value in st.items():\r\n",
    "    print(key, value)\r\n",
    "\r\n",
    "def family(**kwargs):\r\n",
    "    for key, value in kwargs.items():\r\n",
    "        print(key, \":\", value)\r\n",
    "\r\n",
    "family(father='John', mother='Jane', me='John Jr.')"
   ],
   "outputs": [
    {
     "output_type": "stream",
     "name": "stdout",
     "text": [
      "a 99\n",
      "b 75\n",
      "c 68\n",
      "father : John\n",
      "mother : Jane\n",
      "me : John Jr.\n"
     ]
    }
   ],
   "metadata": {}
  },
  {
   "cell_type": "code",
   "execution_count": 8,
   "source": [
    "# 식별자는 숫자만으로는 이루어질 수가 없다. (키워드인자로 넘기면 함수 안에서 식별자로 쓰이기 때문)\r\n",
    "dict(1=1, 2=2)"
   ],
   "outputs": [
    {
     "output_type": "error",
     "ename": "SyntaxError",
     "evalue": "expression cannot contain assignment, perhaps you meant \"==\"? (Temp/ipykernel_13016/4013862639.py, line 3)",
     "traceback": [
      "\u001b[1;36m  File \u001b[1;32m\"C:\\Users\\csmoo\\AppData\\Local\\Temp/ipykernel_13016/4013862639.py\"\u001b[1;36m, line \u001b[1;32m3\u001b[0m\n\u001b[1;33m    dict(1=1, 2=2)\u001b[0m\n\u001b[1;37m         ^\u001b[0m\n\u001b[1;31mSyntaxError\u001b[0m\u001b[1;31m:\u001b[0m expression cannot contain assignment, perhaps you meant \"==\"?\n"
     ]
    }
   ],
   "metadata": {}
  },
  {
   "cell_type": "code",
   "execution_count": 9,
   "source": [
    "# **kwargs가 딕셔너리로 처리되는 것을 확인\r\n",
    "def hello(**kwargs):\r\n",
    "    return kwargs\r\n",
    "\r\n",
    "print(hello(한국어='안녕', 영어='hi', 독일어='Guten Tag'))"
   ],
   "outputs": [
    {
     "output_type": "stream",
     "name": "stdout",
     "text": [
      "{'한국어': '안녕', '영어': 'hi', '독일어': 'Guten Tag'}\n"
     ]
    }
   ],
   "metadata": {}
  },
  {
   "cell_type": "markdown",
   "source": [
    "### [실습] URL 생성기\r\n",
    "\r\n",
    "> my_url() 함수를 만들어, 다음과 같이 완성된 URL을 반환하는 함수를 작성하시오.\r\n",
    ">\r\n",
    "> https://api.go.kr?sidoname=서울&key=asdf&"
   ],
   "metadata": {}
  },
  {
   "cell_type": "code",
   "execution_count": 10,
   "source": [
    "def my_url(sidoname, key):\r\n",
    "    BASE_URL = 'https://api.go.kr?'\r\n",
    "    URL = BASE_URL + f'sidoname={sidoname}&key={key}&'\r\n",
    "    return URL\r\n",
    "\r\n",
    "print(my_url(sidoname='서울', key='asdf'))"
   ],
   "outputs": [
    {
     "output_type": "stream",
     "name": "stdout",
     "text": [
      "https://api.go.kr?sidoname=서울&key=asdf&\n"
     ]
    }
   ],
   "metadata": {}
  },
  {
   "cell_type": "markdown",
   "source": [
    "### [실습] 가변 인자 리스트 사용"
   ],
   "metadata": {}
  },
  {
   "cell_type": "code",
   "execution_count": 11,
   "source": [
    "def get_numbers(a, *args):\r\n",
    "    return a, args\r\n",
    "\r\n",
    "print(get_numbers(1))\r\n",
    "print(get_numbers(1, 2, 3, 4))"
   ],
   "outputs": [
    {
     "output_type": "stream",
     "name": "stdout",
     "text": [
      "(1, ())\n",
      "(1, (2, 3, 4))\n"
     ]
    }
   ],
   "metadata": {}
  },
  {
   "cell_type": "code",
   "execution_count": 12,
   "source": [
    "# 언패킹\r\n",
    "x = [1, 2, 3]\r\n",
    "print(get_numbers(x))\r\n",
    "print(get_numbers(*x))\r\n",
    "print(*x)"
   ],
   "outputs": [
    {
     "output_type": "stream",
     "name": "stdout",
     "text": [
      "([1, 2, 3], ())\n",
      "(1, (2, 3))\n",
      "1 2 3\n"
     ]
    }
   ],
   "metadata": {}
  },
  {
   "cell_type": "code",
   "execution_count": null,
   "source": [
    "# 함수 정의 주의사항\r\n",
    "\r\n",
    "# 기본 인자 값을 가지는 인자 다음에 기본 값이 없는 인자로 정의할 수 없음\r\n",
    "def greeting(name='Jonn', age):\r\n",
    "# SyntaxError: non-default argument follows defaults argument\r\n",
    "\r\n",
    "# 키워드 인자 다음에 위치 인자를 활용할 수는 없음\r\n",
    "add(x=3, 5)\r\n",
    "# SyntaxError: poditional argument follows keyword argument\r\n",
    "\r\n",
    "# 가변 인자리스트가 위치 인자보다 앞쪽에 올 수 없음\r\n",
    "add(*args, x)\r\n",
    "# TypeError: add() missing 1 reauired keyword-only argument: 'x'\r\n",
    "\r\n",
    "# 가변 키워드 인자가 위치 인자보다 앞쪽에 올 수 없음\r\n",
    "my_info(**kwargs, x)\r\n",
    "# SyntaxError: invalid syntax\r\n",
    "\r\n",
    "# 위치인자, *args, **kwargs 함꼐 사용했을 때 올바른 순서\r\n",
    "my_info(x, y, *args, **kwargs)"
   ],
   "outputs": [],
   "metadata": {}
  },
  {
   "cell_type": "code",
   "execution_count": null,
   "source": [
    "# 함수 실습 문제\r\n",
    "# 가변 인자 리스트와 가변 키워드 인자를 각각 활용하여 함수를 정의해보고 타입을 출력 해보시오.\r\n",
    "# python 표준 라이브러리, 외부 라이브러리 소스코드나 문서 등을 살펴보고 함수가 어떻게 정의 되어 있는지 살펴 보시오."
   ],
   "outputs": [],
   "metadata": {}
  }
 ],
 "metadata": {
  "orig_nbformat": 4,
  "language_info": {
   "name": "python",
   "version": "3.9.6",
   "mimetype": "text/x-python",
   "codemirror_mode": {
    "name": "ipython",
    "version": 3
   },
   "pygments_lexer": "ipython3",
   "nbconvert_exporter": "python",
   "file_extension": ".py"
  },
  "kernelspec": {
   "name": "python3",
   "display_name": "Python 3.9.6 64-bit"
  },
  "interpreter": {
   "hash": "826c1ff5c4179778aab3a3c529716f5482c58a2cdc9450e70eef1a1010bf897b"
  }
 },
 "nbformat": 4,
 "nbformat_minor": 2
}