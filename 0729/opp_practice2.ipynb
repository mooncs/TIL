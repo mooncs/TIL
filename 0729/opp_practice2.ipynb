{
 "cells": [
  {
   "cell_type": "markdown",
   "source": [
    "# OOP(Object-Oriented-Programming) Practice 2"
   ],
   "metadata": {}
  },
  {
   "cell_type": "markdown",
   "source": [
    "## Pair Matching Program\r\n",
    "> 페어 프로그래밍은 하나의 컴퓨터에서 두 사람의 프로그래머가 작업하는 방식을 의미한다. \r\n",
    ">\r\n",
    "> SSAFY 1학기 정규 과정에서 프로젝트는 페어 프로그래밍을 통해 진행한다. 진정한 프로그래머가 되기 위해 김싸피는 페어를 매칭하기 위한 프로그램을 작성하려고 한다. 클래스를 활용해 작성하며 포함되는 메서드는 아래와 같다.\r\n",
    ">\r\n",
    "\r\n",
    "> 구성 요소\r\n",
    "> 1. 초기화 메서드는 인자로 학생 이름으로 구성된 리스트를 받아서 인스턴스 변수에 할당한다.\r\n",
    "> 2. `pick(n)` 메서드는 학생들 명단에서 인자 n명 만큼 랜덤으로 추출하여 return한다.\r\n",
    "> 3. `match_pair()` 메서드는 학생들 명단을 랜덤으로 2명씩 매칭해 준다. 이때, 학생들 명단의 수가 홀수명이면 단 한팀만 3명으로 구성한다.\r\n"
   ],
   "metadata": {}
  },
  {
   "cell_type": "code",
   "execution_count": null,
   "source": [
    "class ClassHelper:\r\n",
    "    def __init__(self, students):\r\n",
    "        self.students = students\r\n",
    "\r\n",
    "    def pick(self, num):\r\n",
    "        import random\r\n",
    "        return random.sample(self.students, num)\r\n",
    "\r\n",
    "    def match_pair(self):\r\n",
    "        import random\r\n",
    "        pair_list = []\r\n",
    "        random_student = random.sample(self.students, len(self.students))\r\n",
    "        while len(random_student) > 3:\r\n",
    "            pair_list.append([random_student.pop(), random_student.pop()])\r\n",
    "        pair_list.append(random_student)\r\n",
    "        return pair_list"
   ],
   "outputs": [],
   "metadata": {}
  },
  {
   "cell_type": "code",
   "execution_count": null,
   "source": [
    "ch = ClassHelper(['김씨', '이씨', '조씨', '박씨', '정씨'])\r\n",
    "\r\n",
    "print(ch.pick(1))\r\n",
    "print(ch.pick(1))\r\n",
    "print(ch.pick(2))\r\n",
    "print(ch.pick(3))\r\n",
    "print(ch.pick(4))\r\n",
    "\r\n",
    "ch.match_pair()"
   ],
   "outputs": [],
   "metadata": {}
  },
  {
   "cell_type": "code",
   "execution_count": 1,
   "source": [
    "import random\r\n",
    "class ClassHelper:\r\n",
    "    length = 0\r\n",
    "    copy_stu = []\r\n",
    "    def __init__(self, students):\r\n",
    "        self.students = students\r\n",
    "        ClassHelper.length += len(self.students)\r\n",
    "        ClassHelper.copy_stu = [i for i in range(len(self.students))]\r\n",
    "\r\n",
    "    def pick(self, num):\r\n",
    "        return random.sample(self.students, num)\r\n",
    "\r\n",
    "    def match_pair(self):\r\n",
    "        pair_list = []\r\n",
    "        while ClassHelper.length > 0:\r\n",
    "            pair = []\r\n",
    "            if ClassHelper.length % 2:\r\n",
    "                ran_idx = random.sample(ClassHelper.copy_stu, 3)\r\n",
    "                for idx in ran_idx:\r\n",
    "                    pair.append(self.students[idx])\r\n",
    "                for idx in sorted(ran_idx, reverse=True):\r\n",
    "                    ClassHelper.copy_stu.remove(idx)\r\n",
    "                pair_list.append(pair)    \r\n",
    "                ClassHelper.length -= 3\r\n",
    "\r\n",
    "            else:\r\n",
    "                ran_idx = random.sample(ClassHelper.copy_stu, 2)\r\n",
    "                for idx in ran_idx:\r\n",
    "                    pair.append(self.students[idx])\r\n",
    "                for idx in sorted(ran_idx, reverse=True):\r\n",
    "                    ClassHelper.copy_stu.remove(idx)\r\n",
    "                pair_list.append(pair)  \r\n",
    "                ClassHelper.length -= 2\r\n",
    "                \r\n",
    "        ClassHelper.length += len(self.students)\r\n",
    "        ClassHelper.copy_stu = [i for i in range(len(self.students))]\r\n",
    "        return pair_list"
   ],
   "outputs": [],
   "metadata": {}
  },
  {
   "cell_type": "code",
   "execution_count": 2,
   "source": [
    "ch = ClassHelper(['김씨', '이씨', '조씨', '박씨', '정씨'])"
   ],
   "outputs": [],
   "metadata": {}
  },
  {
   "cell_type": "code",
   "execution_count": 3,
   "source": [
    "print(ch.pick(1))\r\n",
    "print(ch.pick(1))\r\n",
    "print(ch.pick(2))\r\n",
    "print(ch.pick(3))\r\n",
    "print(ch.pick(4))"
   ],
   "outputs": [
    {
     "output_type": "stream",
     "name": "stdout",
     "text": [
      "['이씨']\n",
      "['정씨']\n",
      "['이씨', '김씨']\n",
      "['이씨', '김씨', '조씨']\n",
      "['이씨', '김씨', '정씨', '박씨']\n"
     ]
    }
   ],
   "metadata": {}
  },
  {
   "cell_type": "code",
   "execution_count": 4,
   "source": [
    "ch.match_pair()"
   ],
   "outputs": [
    {
     "output_type": "execute_result",
     "data": {
      "text/plain": [
       "[['이씨', '박씨', '조씨'], ['김씨', '정씨']]"
      ]
     },
     "metadata": {},
     "execution_count": 4
    }
   ],
   "metadata": {}
  },
  {
   "cell_type": "code",
   "execution_count": 5,
   "source": [
    "import random\r\n",
    "class ClassHelper:\r\n",
    "    length = 0\r\n",
    "    copy_stu = []\r\n",
    "    def __init__(self, students):\r\n",
    "        self.students = students\r\n",
    "        ClassHelper.length += len(self.students)\r\n",
    "        ClassHelper.copy_stu = [student for student in self.students]\r\n",
    "\r\n",
    "    def pick(self, num):\r\n",
    "        return random.sample(self.students, num)\r\n",
    "\r\n",
    "    def match_pair(self):\r\n",
    "        pair_list = []\r\n",
    "        while ClassHelper.length > 0:\r\n",
    "            pair = []\r\n",
    "            if ClassHelper.length % 2:\r\n",
    "                ran_idx = random.sample(range(0, ClassHelper.length), 3)\r\n",
    "                for idx in ran_idx:\r\n",
    "                    pair.append(ClassHelper.copy_stu[idx])\r\n",
    "                for idx in sorted(ran_idx, reverse=True):\r\n",
    "                    ClassHelper.copy_stu.pop(idx)\r\n",
    "                pair_list.append(pair)    \r\n",
    "                ClassHelper.length -= 3\r\n",
    "\r\n",
    "            else:\r\n",
    "                ran_idx = random.sample(range(0, ClassHelper.length), 2)\r\n",
    "                for idx in ran_idx:\r\n",
    "                    pair.append(ClassHelper.copy_stu[idx])\r\n",
    "                for idx in sorted(ran_idx, reverse=True):\r\n",
    "                    ClassHelper.copy_stu.pop(idx)\r\n",
    "                pair_list.append(pair)  \r\n",
    "                ClassHelper.length -= 2\r\n",
    "\r\n",
    "        ClassHelper.length += len(self.students)\r\n",
    "        ClassHelper.copy_stu = [student for student in self.students]\r\n",
    "        return pair_list"
   ],
   "outputs": [],
   "metadata": {}
  },
  {
   "cell_type": "code",
   "execution_count": 6,
   "source": [
    "ch = ClassHelper(['김씨', '이씨', '조씨', '박씨', '정씨'])"
   ],
   "outputs": [],
   "metadata": {}
  },
  {
   "cell_type": "code",
   "execution_count": 7,
   "source": [
    "ch.match_pair()"
   ],
   "outputs": [
    {
     "output_type": "execute_result",
     "data": {
      "text/plain": [
       "[['조씨', '박씨', '김씨'], ['정씨', '이씨']]"
      ]
     },
     "metadata": {},
     "execution_count": 7
    }
   ],
   "metadata": {}
  }
 ],
 "metadata": {
  "kernelspec": {
   "name": "python3",
   "display_name": "Python 3.9.6 64-bit"
  },
  "language_info": {
   "codemirror_mode": {
    "name": "ipython",
    "version": 3
   },
   "file_extension": ".py",
   "mimetype": "text/x-python",
   "name": "python",
   "nbconvert_exporter": "python",
   "pygments_lexer": "ipython3",
   "version": "3.9.6"
  },
  "toc": {
   "base_numbering": 1,
   "nav_menu": {},
   "number_sections": true,
   "sideBar": true,
   "skip_h1_title": false,
   "title_cell": "Table of Contents",
   "title_sidebar": "Contents",
   "toc_cell": false,
   "toc_position": {},
   "toc_section_display": true,
   "toc_window_display": false
  },
  "interpreter": {
   "hash": "826c1ff5c4179778aab3a3c529716f5482c58a2cdc9450e70eef1a1010bf897b"
  }
 },
 "nbformat": 4,
 "nbformat_minor": 4
}