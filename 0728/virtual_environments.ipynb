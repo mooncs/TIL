{
 "cells": [
  {
   "cell_type": "markdown",
   "source": [
    "# 가상환경\r\n",
    "- 파이썬 표준 라이브러리가 아닌 외부 패키지와 모듈을 사용하는 경우 모두 pip를 통해 설치를 해야한다.\r\n",
    "- 복수의 프로젝트를 하는 경우 버전이 상이할 수 있다.\r\n",
    "  - 과거 외주 프로젝트 - django 버전 2.x\r\n",
    "  - 신규 회사 프로젝트 - django 버전 3.x\r\n",
    "- 이러한 경우 가상환경을 만들어 프로젝트별로 독립적인 패키지를 관리할 수 있다."
   ],
   "metadata": {}
  },
  {
   "cell_type": "markdown",
   "source": [
    "## venv\r\n",
    "- 가상환경을 만들고 관리하는데 사용되는 모듈 (Python 버전 3.5부터)\r\n",
    "- 특정 디렉토리에 가상환경을 만들고, 고유한 파이썬 패키지 집합을 가질 수 있다.\r\n",
    "  - 특정 폴더에 가상환경이(패키지 집합 폴더 등) 있고\r\n",
    "  - 실행 환경(예-bash)에서 가상환경을 활성화시켜\r\n",
    "  - 해당 폴더에 있는 패키지를 관리/사용한다."
   ],
   "metadata": {}
  },
  {
   "cell_type": "markdown",
   "source": [
    "## 가상환경 생성\r\n",
    "> $ python -m venv 폴더명\r\n",
    ">\r\n",
    "> $ python -m venv venv (관습적으로 폴더명은 venv로 사용한다.)\r\n",
    "- 가상환경을 생성하면, 해당 디렉토리에 별도의 파이썬 패키지가 설치된다.\r\n",
    "- 프로젝트의 최상단에 위치하도록 한다."
   ],
   "metadata": {}
  },
  {
   "cell_type": "markdown",
   "source": [
    "## 가상환경 활성화/비활성화\r\n",
    "> $ source venv/Scripts/activate\r\n",
    "- 아래의 명령어를 통해 가상환경을 활성화\r\n",
    "  - \\<venv>는 가상환경을 포함하는 디렉토리의 경로\r\n",
    "  - 윈도우 > 셀 : cmd.exe > 활성화 명령 : `$ source venv/Scripts/activate` \r\n",
    "  - <image>\r\n",
    "- 가상환경 비활성화는 **$ deactivate** 명령어를 사용\r\n",
    "  - 여러 개의 프로젝트를 한다면 비활성화를 생활화한다."
   ],
   "metadata": {}
  },
  {
   "cell_type": "markdown",
   "source": [],
   "metadata": {}
  }
 ],
 "metadata": {
  "orig_nbformat": 4,
  "language_info": {
   "name": "python"
  }
 },
 "nbformat": 4,
 "nbformat_minor": 2
}