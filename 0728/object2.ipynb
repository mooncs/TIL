{
 "cells": [
  {
   "cell_type": "markdown",
   "source": [
    "# 클래스와 인스턴스"
   ],
   "metadata": {}
  },
  {
   "cell_type": "markdown",
   "source": [
    "## 인스턴스 변수\r\n",
    "- 인스턴스의 속석(attribute)\r\n",
    "- 각 인스턴스들의 고유한 변수\r\n",
    "  - 메서드에서 `self.name`으로 정의\r\n",
    "  - 인스턴스가 생성된 이후 `instance.name`으로 접근 및 할당"
   ],
   "metadata": {}
  },
  {
   "cell_type": "code",
   "execution_count": 1,
   "source": [
    "class Person:\r\n",
    "    def __init__(self, name):\r\n",
    "        # 인스턴스 변수 정의\r\n",
    "        self.name = name"
   ],
   "outputs": [],
   "metadata": {}
  },
  {
   "cell_type": "code",
   "execution_count": 2,
   "source": [
    "harry = Person('harry')\r\n",
    "# 인스턴스 변수 접근\r\n",
    "print(harry.name)"
   ],
   "outputs": [
    {
     "output_type": "stream",
     "name": "stdout",
     "text": [
      "harry\n"
     ]
    }
   ],
   "metadata": {}
  },
  {
   "cell_type": "code",
   "execution_count": 3,
   "source": [
    "# 인스턴스 변수 할당\r\n",
    "harry.name = 'Harry Poter'\r\n",
    "print(harry.name)"
   ],
   "outputs": [
    {
     "output_type": "stream",
     "name": "stdout",
     "text": [
      "Harry Poter\n"
     ]
    }
   ],
   "metadata": {}
  },
  {
   "cell_type": "markdown",
   "source": [
    "## 클래스 변수\r\n",
    "- 클래스 속성(attribute)\r\n",
    "- 모든 인스턴스가 공유\r\n",
    "- 클래스 선언 내부에서 정의\r\n",
    "- `classname.name`으로 접근 및 할당"
   ],
   "metadata": {}
  },
  {
   "cell_type": "code",
   "execution_count": 4,
   "source": [
    "class Circle:\r\n",
    "    # 클래스 변수 정의\r\n",
    "    pi = 3.14"
   ],
   "outputs": [],
   "metadata": {}
  },
  {
   "cell_type": "code",
   "execution_count": 5,
   "source": [
    "c1 = Circle()\r\n",
    "c2 = Circle()\r\n",
    "\r\n",
    "print(Circle.pi)\r\n",
    "print(c1.pi)\r\n",
    "print(c2.pi)"
   ],
   "outputs": [
    {
     "output_type": "stream",
     "name": "stdout",
     "text": [
      "3.14\n",
      "3.14\n",
      "3.14\n"
     ]
    }
   ],
   "metadata": {}
  },
  {
   "cell_type": "markdown",
   "source": [
    "## 인스턴스와 클래스 간의 이름 공간(namespace)\r\n",
    "- 클래스를 정의하면, 클래스와 해당하는 이름 공간 생성\r\n",
    "- 인스턴스를 만들면, 인스턴스 객체가 생성되고 이름 공간 생성\r\n",
    "- 인스턴스에서 특정 속성에 접근하면, 인스턴스-클래스 순으로 탐색"
   ],
   "metadata": {}
  },
  {
   "cell_type": "code",
   "execution_count": 6,
   "source": [
    "# Person 정의\r\n",
    "class Person:\r\n",
    "    name = 'unknown'\r\n",
    "\r\n",
    "    def talk(self):\r\n",
    "        print(self.name)"
   ],
   "outputs": [],
   "metadata": {}
  },
  {
   "cell_type": "code",
   "execution_count": 7,
   "source": [
    "# p1은 인스턴스 변수가 정의되어 있지 않아 클래스 변수(unknown)가 출력된다.\r\n",
    "p1 = Person()\r\n",
    "p1.talk()"
   ],
   "outputs": [
    {
     "output_type": "stream",
     "name": "stdout",
     "text": [
      "unknown\n"
     ]
    }
   ],
   "metadata": {}
  },
  {
   "cell_type": "code",
   "execution_count": 8,
   "source": [
    "# p2 인스턴스 변수 설정 전/후\r\n",
    "# p2는 인스턴스 변수가 정의되어 인스턴스 변수(Kim)가 출력된다.\r\n",
    "p2 = Person()\r\n",
    "p2.talk()\r\n",
    "p2.name = 'Kim'\r\n",
    "p2.talk()"
   ],
   "outputs": [
    {
     "output_type": "stream",
     "name": "stdout",
     "text": [
      "unknown\n",
      "Kim\n"
     ]
    }
   ],
   "metadata": {}
  },
  {
   "cell_type": "code",
   "execution_count": 9,
   "source": [
    "# Person 클래스의 값이 Kim으로 변경된 것이 아니라, p2 인스턴스의 이름 공간에 name이 Kim으로 저장된 것\r\n",
    "print(Person.name)\r\n",
    "print(p1.name)\r\n",
    "print(p2.name)"
   ],
   "outputs": [
    {
     "output_type": "stream",
     "name": "stdout",
     "text": [
      "unknown\n",
      "unknown\n",
      "Kim\n"
     ]
    }
   ],
   "metadata": {}
  },
  {
   "cell_type": "markdown",
   "source": [
    "## 메서드 종류\r\n",
    "- 인스턴스 메서드\r\n",
    "- 클래스 메서드\r\n",
    "- 스태틱 메서드"
   ],
   "metadata": {}
  },
  {
   "cell_type": "markdown",
   "source": [
    "## 인스턴스 메서드\r\n",
    "- 인스턴스가 사용할 메서드\r\n",
    "- 클래스 내부에 정의되는 메서드의 기본\r\n",
    "- 호출시, 첫번째 인자로 인스턴스 자기자신(self)이 전달된다.\r\n",
    "\r\n",
    "  ```python\r\n",
    "  class MyClass:\r\n",
    "    def instance_method(self, arg1, ...):\r\n",
    "\r\n",
    "  my_instance = MyClass()\r\n",
    "  my_instance.instance_method(...)\r\n",
    "  ```"
   ],
   "metadata": {}
  },
  {
   "cell_type": "markdown",
   "source": [
    "## 클래스 메서드\r\n",
    "- 클래스가 사용할 메서드 (클래스 자기 자신의 변수나 속성을 변경하는...)\r\n",
    "- @classmethod 데코레이터를 사용하여 정의\r\n",
    "- 호출시, 첫번째 인자로 클래스(cls)가 전달된다.\r\n",
    "\r\n",
    "  ```python\r\n",
    "  class MyClass:\r\n",
    "    @classmethod\r\n",
    "    def class_method(cls, arg1, ...):\r\n",
    "\r\n",
    "  MyClass.class_method(...)\r\n",
    "  ```"
   ],
   "metadata": {}
  },
  {
   "cell_type": "markdown",
   "source": [
    "## 스태틱 메서드\r\n",
    "- 클래스가 사용할 메서드\r\n",
    "- @staticmethod 데코레이터를 사용하여 정의\r\n",
    "- 호출시, 어떠한 인자도 전달되지 않는다.(클래스 정보에 접근/수정 불가)\r\n",
    "\r\n",
    "  ```python\r\n",
    "  class MyClass:\r\n",
    "    @staticmethod\r\n",
    "    def static_method(arg1, ...):\r\n",
    "\r\n",
    "  MyClass.static_method(...)\r\n",
    "  ```"
   ],
   "metadata": {}
  },
  {
   "cell_type": "code",
   "execution_count": 10,
   "source": [
    "class Korean:\r\n",
    "    nation = 'Republic of Korea'\r\n",
    "    code = 'KR'\r\n",
    "\r\n",
    "    def __init__(self, name, age):\r\n",
    "        self.name = name\r\n",
    "        self.age = age\r\n",
    "    \r\n",
    "    def talk(self):\r\n",
    "        return f'Hello. I\\'m {self.name}.'\r\n",
    "\r\n",
    "    @classmethod\r\n",
    "    def info(cls):\r\n",
    "        return (cls.nation, cls.code)\r\n",
    "\r\n",
    "    @staticmethod\r\n",
    "    def anthem():\r\n",
    "        return '동해물과 백두산이 마르고 닳도록...'"
   ],
   "outputs": [],
   "metadata": {}
  },
  {
   "cell_type": "code",
   "execution_count": 11,
   "source": [
    "# 스태틱메서드\r\n",
    "# 스태틱메서드는 메서드 내부에서 어떠한 객체의 정보도 활용하지 않으며, 클래스가 호출하여 활용\r\n",
    "Korean.anthem()"
   ],
   "outputs": [
    {
     "output_type": "execute_result",
     "data": {
      "text/plain": [
       "'동해물과 백두산이 마르고 닳도록...'"
      ]
     },
     "metadata": {},
     "execution_count": 11
    }
   ],
   "metadata": {}
  },
  {
   "cell_type": "code",
   "execution_count": 12,
   "source": [
    "# 클래스메서드\r\n",
    "# 클래스메서드는 메서드 내부에서 클래스 정보(cls)를 활용, 클래스가 호출하여 활용\r\n",
    "Korean.info()"
   ],
   "outputs": [
    {
     "output_type": "execute_result",
     "data": {
      "text/plain": [
       "('Republic of Korea', 'KR')"
      ]
     },
     "metadata": {},
     "execution_count": 12
    }
   ],
   "metadata": {}
  },
  {
   "cell_type": "code",
   "execution_count": 13,
   "source": [
    "# 인스턴스메서드\r\n",
    "# 인스턴스메서드는 메서드 내부에서 인스턴스 정보(self)를 활용, 인스턴스가 호출하여 활용\r\n",
    "moon = Korean('Ik-chum Moon', 694)\r\n",
    "moon.talk()"
   ],
   "outputs": [
    {
     "output_type": "execute_result",
     "data": {
      "text/plain": [
       "\"Hello. I'm Ik-chum Moon.\""
      ]
     },
     "metadata": {},
     "execution_count": 13
    }
   ],
   "metadata": {}
  },
  {
   "cell_type": "code",
   "execution_count": 15,
   "source": [
    "# 인스턴스는 스태틱메서드, 클래스메서드 호출 가능\r\n",
    "print(moon.anthem())\r\n",
    "print(moon.info())"
   ],
   "outputs": [
    {
     "output_type": "stream",
     "name": "stdout",
     "text": [
      "동해물과 백두산이 마르고 닳도록...\n",
      "('Republic of Korea', 'KR')\n"
     ]
    }
   ],
   "metadata": {}
  },
  {
   "cell_type": "markdown",
   "source": [
    "## 메서드 정리\r\n",
    "- 메서드는 해당 함수에서 어떤 값을 활용하고 변경하는지에 따라 정의할 것\r\n",
    "  - 인스턴스는 모든 메서드를 호출 할 수 있다.\r\n",
    "    - 하지만, `인스턴스의 동작`은 반드시 `인스턴스 메서드`로 정의한다.\r\n",
    "  - 클래스는 `클래스 속성 접근 여부에 따라`, 클래스 메서드나 스태틱 메서드(정적 메서드)로 정의한다."
   ],
   "metadata": {}
  },
  {
   "cell_type": "markdown",
   "source": [
    "## 객체지향 프로그래밍 정리\r\n",
    "- 클래스 구현\r\n",
    "  - 클래스 정의\r\n",
    "  - 데이터 속성 정의 (객체의 정보는 무엇인지)\r\n",
    "  - 메서드 정의 (객체를 어떻게 사용할 것인지)\r\n",
    "- 클래스 활용\r\n",
    "  - 해당 객체 타입의 인스턴스 생성 및 조작\r\n",
    "  \r\n",
    "---"
   ],
   "metadata": {}
  },
  {
   "cell_type": "markdown",
   "source": [
    "# 상속\r\n",
    "- 클래스는 상속이 가능하다.\r\n",
    "  - 모든 파이썬 클래스는 object를 상속 받는다.\r\n",
    "- 상속을 통해 객체 간의 관계를 구축\r\n",
    "- 부모 클래스의 속성, 메서드가 자식 클래스에 상속되므로 코드 재사용성이 높아진다.\r\n",
    "\r\n",
    "  ```python\r\n",
    "  class ChildClass(ParentClass):\r\n",
    "    pass\r\n",
    "  ```"
   ],
   "metadata": {}
  },
  {
   "cell_type": "markdown",
   "source": [
    "## 상속 - 상속 없이 구현 하는 경우1"
   ],
   "metadata": {}
  },
  {
   "cell_type": "code",
   "execution_count": 16,
   "source": [
    "class Person:\r\n",
    "\r\n",
    "    def __init__(self, name, age):\r\n",
    "        self.name = name\r\n",
    "        self.age = age\r\n",
    "    \r\n",
    "    def talk(self):\r\n",
    "        return f'Hello. I\\'m {self.name}.'"
   ],
   "outputs": [],
   "metadata": {}
  },
  {
   "cell_type": "code",
   "execution_count": 17,
   "source": [
    "s1 = Person('Harry', 16)\r\n",
    "s1.talk()"
   ],
   "outputs": [
    {
     "output_type": "execute_result",
     "data": {
      "text/plain": [
       "\"Hello. I'm Harry.\""
      ]
     },
     "metadata": {},
     "execution_count": 17
    }
   ],
   "metadata": {}
  },
  {
   "cell_type": "code",
   "execution_count": 18,
   "source": [
    "p1 = Person('Dumbledore', 116)\r\n",
    "p1.talk()"
   ],
   "outputs": [
    {
     "output_type": "execute_result",
     "data": {
      "text/plain": [
       "\"Hello. I'm Dumbledore.\""
      ]
     },
     "metadata": {},
     "execution_count": 18
    }
   ],
   "metadata": {}
  },
  {
   "cell_type": "code",
   "execution_count": 19,
   "source": [
    "s1.gpa = 4.5"
   ],
   "outputs": [],
   "metadata": {}
  },
  {
   "cell_type": "code",
   "execution_count": 20,
   "source": [
    "s1.department = 'Gryffindor'"
   ],
   "outputs": [],
   "metadata": {}
  },
  {
   "cell_type": "markdown",
   "source": [
    "## 상속 - 상속 없이 구현 하는 경우2"
   ],
   "metadata": {}
  },
  {
   "cell_type": "code",
   "execution_count": 21,
   "source": [
    "class Professor:\r\n",
    "\r\n",
    "    def __init__(self, name, age, department):\r\n",
    "        self.name = name\r\n",
    "        self.age = age\r\n",
    "        self.department = department\r\n",
    "    \r\n",
    "    def talk(self):\r\n",
    "        return f'Hello. I\\'m {self.name}.'\r\n",
    "\r\n",
    "class Student:\r\n",
    "\r\n",
    "    def __init__(self, name, age, gpa):\r\n",
    "        self.name = name\r\n",
    "        self.age = age\r\n",
    "        self.gpa = gpa\r\n",
    "    \r\n",
    "    def talk(self):\r\n",
    "        return f'Hello. I\\'m {self.name}.'"
   ],
   "outputs": [],
   "metadata": {}
  },
  {
   "cell_type": "code",
   "execution_count": 22,
   "source": [
    "p1 = Professor('Dumbledore', 116, 'Gryffindor')\r\n",
    "s1 = Student('Harry', 16, 4.5)"
   ],
   "outputs": [],
   "metadata": {}
  },
  {
   "cell_type": "markdown",
   "source": [
    "## 상속\r\n",
    "- 상속을 통한 메서드 재사용"
   ],
   "metadata": {}
  },
  {
   "cell_type": "code",
   "execution_count": 23,
   "source": [
    "class Person:\r\n",
    "\r\n",
    "    def __init__(self, name, age):\r\n",
    "        self.name = name\r\n",
    "        self.age = age\r\n",
    "    \r\n",
    "    def talk(self):\r\n",
    "        return f'Hello. I\\'m {self.name}.'\r\n",
    "\r\n",
    "\r\n",
    "class Professor(Person):\r\n",
    "\r\n",
    "    def __init__(self, name, age, department):\r\n",
    "        self.name = name\r\n",
    "        self.age = age\r\n",
    "        self.department = department\r\n",
    "\r\n",
    "\r\n",
    "class Student(Person):\r\n",
    "\r\n",
    "    def __init__(self, name, age, gpa):\r\n",
    "        self.name = name\r\n",
    "        self.age = age\r\n",
    "        self.gpa = gpa"
   ],
   "outputs": [],
   "metadata": {}
  },
  {
   "cell_type": "code",
   "execution_count": 24,
   "source": [
    "p1 = Professor('Dumbledore', 116, 'Gryffindor')\r\n",
    "s1 = Student('Harry', 16, 4.5)"
   ],
   "outputs": [],
   "metadata": {}
  },
  {
   "cell_type": "code",
   "execution_count": 26,
   "source": [
    "# 부모 Person 클래스의 talk 메서드를 활용\r\n",
    "print( p1.talk() )\r\n",
    "print( s1.talk() )"
   ],
   "outputs": [
    {
     "output_type": "stream",
     "name": "stdout",
     "text": [
      "Hello. I'm Dumbledore.\n",
      "Hello. I'm Harry.\n"
     ]
    }
   ],
   "metadata": {}
  },
  {
   "cell_type": "code",
   "execution_count": null,
   "source": [],
   "outputs": [],
   "metadata": {}
  }
 ],
 "metadata": {
  "orig_nbformat": 4,
  "language_info": {
   "name": "python",
   "version": "3.9.6",
   "mimetype": "text/x-python",
   "codemirror_mode": {
    "name": "ipython",
    "version": 3
   },
   "pygments_lexer": "ipython3",
   "nbconvert_exporter": "python",
   "file_extension": ".py"
  },
  "kernelspec": {
   "name": "python3",
   "display_name": "Python 3.9.6 64-bit"
  },
  "interpreter": {
   "hash": "826c1ff5c4179778aab3a3c529716f5482c58a2cdc9450e70eef1a1010bf897b"
  }
 },
 "nbformat": 4,
 "nbformat_minor": 2
}