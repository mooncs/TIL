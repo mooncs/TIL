{
 "cells": [
  {
   "cell_type": "markdown",
   "source": [
    "# 객체 비교"
   ],
   "metadata": {}
  },
  {
   "cell_type": "markdown",
   "source": [
    "## == & is\r\n",
    "> ==\r\n",
    "- 동등한(equal)\r\n",
    "- 변수가 참조하는 객체가 동등한(내용이 같은) 경우 True\r\n",
    "- 두 객체가 같아 보이지만 실제로 동일한 대상을 가리키고 있다고 확인해 준 것은 아니다.\r\n",
    "\r\n",
    "> is\r\n",
    "- 동일한(identical)\r\n",
    "- 두 변수가 동일한 객체를 가리키는 경우 True\r\n",
    "\r\n",
    "---"
   ],
   "metadata": {}
  },
  {
   "cell_type": "markdown",
   "source": [
    "# 클래스 변수와 인스턴스 변수"
   ],
   "metadata": {}
  },
  {
   "cell_type": "markdown",
   "source": [
    "> 클래스 변수\r\n",
    "- 클래스 정의 안에(+인스턴스 메서드 밖에) 선언\r\n",
    "- 특정 클래스 인스턴스에 묶여 있지 않다.\r\n",
    "- 클래스 자체의 내용을 저장\r\n",
    "- 같은 클래스에서 생성된 모든 객체는 동일한 클래스 변수를 공유\r\n",
    "\r\n",
    "> 인스턴스 변수\r\n",
    "- 항상 특정 인스턴스에 묶여 있다.\r\n",
    "- 클래스에 저장되지 않고 클래스에서 생성된 개별 객체에 저장\r\n",
    "- 인스턴스 마다 완전히 독립적이므로 변수의 값을 수정하면 오로지 해당 객체에만 영향을 미친다."
   ],
   "metadata": {}
  },
  {
   "cell_type": "markdown",
   "source": [
    "## 클래스 변수와 인스턴스 변수의 함정"
   ],
   "metadata": {}
  },
  {
   "cell_type": "code",
   "execution_count": 1,
   "source": [
    "class Cat:\r\n",
    "    num_tails = 1           # 클래스 변수\r\n",
    "\r\n",
    "    def __init__(self, name):\r\n",
    "        self.name = name    # 인스턴스 변수"
   ],
   "outputs": [],
   "metadata": {}
  },
  {
   "cell_type": "code",
   "execution_count": 2,
   "source": [
    "# 새 Cat 인스턴스를 만들고 각 인스턴스는 name이라는 인스턴스 변수를 얻는다.\r\n",
    "emma = Cat('emma')\r\n",
    "daniel = Cat('daniel')\r\n",
    "print(emma.name)\r\n",
    "print(daniel.name)"
   ],
   "outputs": [
    {
     "output_type": "stream",
     "name": "stdout",
     "text": [
      "emma\n",
      "daniel\n"
     ]
    }
   ],
   "metadata": {}
  },
  {
   "cell_type": "code",
   "execution_count": 3,
   "source": [
    "# 각 Cat 인스턴스 또는 클래스 자체에서 직접 클래스 변수(num_tails)에 접근 가능\r\n",
    "print(emma.num_tails)\r\n",
    "print(daniel.num_tails)\r\n",
    "print(Cat.num_tails)"
   ],
   "outputs": [
    {
     "output_type": "stream",
     "name": "stdout",
     "text": [
      "1\n",
      "1\n",
      "1\n"
     ]
    }
   ],
   "metadata": {}
  },
  {
   "cell_type": "code",
   "execution_count": 4,
   "source": [
    "# 그러나 클래스를 통해 인스턴스 변수에 접근할 수 없다.\r\n",
    "# 인스턴스 변수는 각 객체 인스턴스에 특정되고 __init__생성자가 실행될 때 만들어 진다.(클래스 자체에는 존재하지 않는다.)\r\n",
    "\r\n",
    "print(Cat.name)"
   ],
   "outputs": [
    {
     "output_type": "error",
     "ename": "AttributeError",
     "evalue": "type object 'Cat' has no attribute 'name'",
     "traceback": [
      "\u001b[1;31m---------------------------------------------------------------------------\u001b[0m",
      "\u001b[1;31mAttributeError\u001b[0m                            Traceback (most recent call last)",
      "\u001b[1;32m~\\AppData\\Local\\Temp/ipykernel_6076/3997652280.py\u001b[0m in \u001b[0;36m<module>\u001b[1;34m\u001b[0m\n\u001b[0;32m      2\u001b[0m \u001b[1;31m# 인스턴스 변수는 각 객체 인스턴스에 특정되고 __init__생성자가 실행될 때 만들어 진다.(클래스 자체에는 존재하지 않는다.)\u001b[0m\u001b[1;33m\u001b[0m\u001b[1;33m\u001b[0m\u001b[1;33m\u001b[0m\u001b[0m\n\u001b[0;32m      3\u001b[0m \u001b[1;33m\u001b[0m\u001b[0m\n\u001b[1;32m----> 4\u001b[1;33m \u001b[0mprint\u001b[0m\u001b[1;33m(\u001b[0m\u001b[0mCat\u001b[0m\u001b[1;33m.\u001b[0m\u001b[0mname\u001b[0m\u001b[1;33m)\u001b[0m\u001b[1;33m\u001b[0m\u001b[1;33m\u001b[0m\u001b[0m\n\u001b[0m",
      "\u001b[1;31mAttributeError\u001b[0m: type object 'Cat' has no attribute 'name'"
     ]
    }
   ],
   "metadata": {}
  },
  {
   "cell_type": "code",
   "execution_count": null,
   "source": [],
   "outputs": [],
   "metadata": {}
  }
 ],
 "metadata": {
  "orig_nbformat": 4,
  "language_info": {
   "name": "python",
   "version": "3.9.6",
   "mimetype": "text/x-python",
   "codemirror_mode": {
    "name": "ipython",
    "version": 3
   },
   "pygments_lexer": "ipython3",
   "nbconvert_exporter": "python",
   "file_extension": ".py"
  },
  "kernelspec": {
   "name": "python3",
   "display_name": "Python 3.9.6 64-bit"
  },
  "interpreter": {
   "hash": "826c1ff5c4179778aab3a3c529716f5482c58a2cdc9450e70eef1a1010bf897b"
  }
 },
 "nbformat": 4,
 "nbformat_minor": 2
}