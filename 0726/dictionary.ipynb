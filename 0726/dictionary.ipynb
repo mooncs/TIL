{
 "cells": [
  {
   "cell_type": "markdown",
   "source": [
    "# 순서가 있는 데이터 구조\r\n",
    "- 문자열(stirng)\r\n",
    "- 리스트(list)\r\n",
    "\r\n",
    "# 순서가 없는 데이터 구조\r\n",
    "- 세트(set)\r\n",
    "- 딕셔너리(dictionary)"
   ],
   "metadata": {}
  },
  {
   "cell_type": "markdown",
   "source": [
    "# 딕셔너리\r\n",
    "- Key와 Value로 구성된 데이터 구조\r\n",
    "\r\n",
    "## 딕셔너리의 특징\r\n",
    "- 변경할 수 있고(mutable)\r\n",
    "- 순서가 없고(unordered)\r\n",
    "- 순회 가능한(iterable)"
   ],
   "metadata": {}
  },
  {
   "cell_type": "markdown",
   "source": [
    "## 조회\r\n",
    "> **.get(key[,default])**\r\n",
    "- key를 통해 value를 가져온다.\r\n",
    "- KeyError가 발생하지 않으며, default 값을 설정할 수 있다.(기본 : None)\r\n"
   ],
   "metadata": {}
  },
  {
   "cell_type": "code",
   "execution_count": 1,
   "source": [
    "fruits = {'apple':'사과', 'banana':'바나나', 'lemon':'레몬'}\r\n",
    "print(fruits.get('pineapple'))\r\n",
    "print(fruits.get('apple'))\r\n",
    "print(fruits.get('pineapple', 0))"
   ],
   "outputs": [
    {
     "output_type": "stream",
     "name": "stdout",
     "text": [
      "None\n",
      "사과\n",
      "0\n"
     ]
    }
   ],
   "metadata": {}
  },
  {
   "cell_type": "markdown",
   "source": [
    "## 추가 및 삭제\r\n",
    "> **.pop(key[,default])**\r\n",
    "- key가 dict에 있으면 제거하고 해당 값을 반환\r\n",
    "- 그렇지 않으면 defult를 반환\r\n",
    "- key가 없을때, default 값이 없으면 KeyError"
   ],
   "metadata": {}
  },
  {
   "cell_type": "code",
   "execution_count": 2,
   "source": [
    "fruits = {'apple':'사과', 'banana':'바나나', 'lemon':'레몬'}\r\n",
    "data = fruits.pop('apple')\r\n",
    "print(data, fruits)"
   ],
   "outputs": [
    {
     "output_type": "stream",
     "name": "stdout",
     "text": [
      "사과 {'banana': '바나나', 'lemon': '레몬'}\n"
     ]
    }
   ],
   "metadata": {}
  },
  {
   "cell_type": "code",
   "execution_count": 3,
   "source": [
    "fruits = {'apple':'사과', 'banana':'바나나', 'lemon':'레몬'}\r\n",
    "data = fruits.pop('pineapple')\r\n",
    "print(data, fruits)"
   ],
   "outputs": [
    {
     "output_type": "error",
     "ename": "KeyError",
     "evalue": "'pineapple'",
     "traceback": [
      "\u001b[1;31m---------------------------------------------------------------------------\u001b[0m",
      "\u001b[1;31mKeyError\u001b[0m                                  Traceback (most recent call last)",
      "\u001b[1;32m~\\AppData\\Local\\Temp/ipykernel_14704/2190214619.py\u001b[0m in \u001b[0;36m<module>\u001b[1;34m\u001b[0m\n\u001b[0;32m      1\u001b[0m \u001b[0mfruits\u001b[0m \u001b[1;33m=\u001b[0m \u001b[1;33m{\u001b[0m\u001b[1;34m'apple'\u001b[0m\u001b[1;33m:\u001b[0m\u001b[1;34m'사과'\u001b[0m\u001b[1;33m,\u001b[0m \u001b[1;34m'banana'\u001b[0m\u001b[1;33m:\u001b[0m\u001b[1;34m'바나나'\u001b[0m\u001b[1;33m,\u001b[0m \u001b[1;34m'lemon'\u001b[0m\u001b[1;33m:\u001b[0m\u001b[1;34m'레몬'\u001b[0m\u001b[1;33m}\u001b[0m\u001b[1;33m\u001b[0m\u001b[1;33m\u001b[0m\u001b[0m\n\u001b[1;32m----> 2\u001b[1;33m \u001b[0mdata\u001b[0m \u001b[1;33m=\u001b[0m \u001b[0mfruits\u001b[0m\u001b[1;33m.\u001b[0m\u001b[0mpop\u001b[0m\u001b[1;33m(\u001b[0m\u001b[1;34m'pineapple'\u001b[0m\u001b[1;33m)\u001b[0m\u001b[1;33m\u001b[0m\u001b[1;33m\u001b[0m\u001b[0m\n\u001b[0m\u001b[0;32m      3\u001b[0m \u001b[0mprint\u001b[0m\u001b[1;33m(\u001b[0m\u001b[0mdata\u001b[0m\u001b[1;33m,\u001b[0m \u001b[0mfruits\u001b[0m\u001b[1;33m)\u001b[0m\u001b[1;33m\u001b[0m\u001b[1;33m\u001b[0m\u001b[0m\n",
      "\u001b[1;31mKeyError\u001b[0m: 'pineapple'"
     ]
    }
   ],
   "metadata": {}
  },
  {
   "cell_type": "code",
   "execution_count": 4,
   "source": [
    "fruits = {'apple':'사과', 'banana':'바나나', 'lemon':'레몬'}\r\n",
    "data = fruits.pop('pineapple', 0)\r\n",
    "print(data, fruits)"
   ],
   "outputs": [
    {
     "output_type": "stream",
     "name": "stdout",
     "text": [
      "0 {'apple': '사과', 'banana': '바나나', 'lemon': '레몬'}\n"
     ]
    }
   ],
   "metadata": {}
  },
  {
   "cell_type": "markdown",
   "source": [
    "## 추가 및 삭제\r\n",
    "> **.update()**\r\n",
    "- 값을 제공하는 key, value로 덮어쓴다."
   ],
   "metadata": {}
  },
  {
   "cell_type": "code",
   "execution_count": 6,
   "source": [
    "fruits = {'apple':'사', 'banana':'바나나', 'lemon':'레몬'}\r\n",
    "fruits.update(apple='사과')\r\n",
    "print(fruits)"
   ],
   "outputs": [
    {
     "output_type": "stream",
     "name": "stdout",
     "text": [
      "{'apple': '사과', 'banana': '바나나', 'lemon': '레몬'}\n"
     ]
    }
   ],
   "metadata": {}
  },
  {
   "cell_type": "markdown",
   "source": [
    "## 딕셔너리 순회\r\n",
    "- 딕셔너리는 기본적으로 key를 순회하며, key를 통해 값을 활용"
   ],
   "metadata": {}
  },
  {
   "cell_type": "code",
   "execution_count": 7,
   "source": [
    "grades = {'Kim':80, 'Lee':90}\r\n",
    "for student in grades:\r\n",
    "    print(student)"
   ],
   "outputs": [
    {
     "output_type": "stream",
     "name": "stdout",
     "text": [
      "Kim\n",
      "Lee\n"
     ]
    }
   ],
   "metadata": {}
  },
  {
   "cell_type": "code",
   "execution_count": 8,
   "source": [
    "grades = {'Kim':80, 'Lee':90}\r\n",
    "for student in grades:\r\n",
    "    print(student, grades[student])"
   ],
   "outputs": [
    {
     "output_type": "stream",
     "name": "stdout",
     "text": [
      "Kim 80\n",
      "Lee 90\n"
     ]
    }
   ],
   "metadata": {}
  },
  {
   "cell_type": "markdown",
   "source": [
    "## 딕셔너리 순회\r\n",
    "- 추가 메서드를 활용하여 순회할 수 있다.\r\n",
    "> **keys()**\r\n",
    "- key로 구성된 경과\r\n",
    "> **values()**\r\n",
    "- value로 구성된 경과 \r\n",
    "> **items()**\r\n",
    "- (key, value)의 튜플로 구성된 경과"
   ],
   "metadata": {}
  },
  {
   "cell_type": "code",
   "execution_count": 9,
   "source": [
    "grades = {'Kim':80, 'Lee':90}\r\n",
    "print(grades.keys())\r\n",
    "print(grades.values())\r\n",
    "print(grades.items())"
   ],
   "outputs": [
    {
     "output_type": "stream",
     "name": "stdout",
     "text": [
      "dict_keys(['Kim', 'Lee'])\n",
      "dict_values([80, 90])\n",
      "dict_items([('Kim', 80), ('Lee', 90)])\n"
     ]
    }
   ],
   "metadata": {}
  },
  {
   "cell_type": "code",
   "execution_count": 10,
   "source": [
    "grades = {'Kim':80, 'Lee':90}\r\n",
    "for name, score in grades.items():\r\n",
    "    print(name, score)"
   ],
   "outputs": [
    {
     "output_type": "stream",
     "name": "stdout",
     "text": [
      "Kim 80\n",
      "Lee 90\n"
     ]
    }
   ],
   "metadata": {}
  },
  {
   "cell_type": "markdown",
   "source": [
    "## Dictionary comprehension\r\n",
    "- 표현식과 제어문을 통해 특정한 값을 가진 딕셔너리를 생성하는 법\r\n",
    "> {key:value for <변수> in \\<iterable>}\r\n",
    ">\r\n",
    "> {key:value for <변수> in \\<iterable> if <조건식>}"
   ],
   "metadata": {}
  },
  {
   "cell_type": "markdown",
   "source": [
    "## Dictionary comprehension 실습\r\n",
    "> 다음의 딕셔너리에서 값이 70 이상으로 구성된 딕셔너리를 작성하시오."
   ],
   "metadata": {}
  },
  {
   "cell_type": "code",
   "execution_count": 11,
   "source": [
    "dusts = {'서울':99, '대전':58, '대구':66, '부산':82}\r\n",
    "result = {}\r\n",
    "for key, value in dusts.items():\r\n",
    "    if value > 70:\r\n",
    "        result[key] = value\r\n",
    "print(result)"
   ],
   "outputs": [
    {
     "output_type": "stream",
     "name": "stdout",
     "text": [
      "{'서울': 99, '부산': 82}\n"
     ]
    }
   ],
   "metadata": {}
  },
  {
   "cell_type": "code",
   "execution_count": 12,
   "source": [
    "print({key:value for key, value in dusts.items() if value>70})"
   ],
   "outputs": [
    {
     "output_type": "stream",
     "name": "stdout",
     "text": [
      "{'서울': 99, '부산': 82}\n"
     ]
    }
   ],
   "metadata": {}
  }
 ],
 "metadata": {
  "orig_nbformat": 4,
  "language_info": {
   "name": "python",
   "version": "3.9.6",
   "mimetype": "text/x-python",
   "codemirror_mode": {
    "name": "ipython",
    "version": 3
   },
   "pygments_lexer": "ipython3",
   "nbconvert_exporter": "python",
   "file_extension": ".py"
  },
  "kernelspec": {
   "name": "python3",
   "display_name": "Python 3.9.6 64-bit"
  },
  "interpreter": {
   "hash": "826c1ff5c4179778aab3a3c529716f5482c58a2cdc9450e70eef1a1010bf897b"
  }
 },
 "nbformat": 4,
 "nbformat_minor": 2
}