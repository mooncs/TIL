{
 "cells": [
  {
   "cell_type": "markdown",
   "source": [
    "# 순서가 있는 데이터 구조\r\n",
    "- 문자열(stirng)\r\n",
    "- 리스트(list)\r\n",
    "\r\n",
    "# 순서가 없는 데이터 구조\r\n",
    "- 세트(set)\r\n",
    "- 딕셔너리(dictionary)"
   ],
   "metadata": {}
  },
  {
   "cell_type": "markdown",
   "source": [
    "# 리스트\r\n",
    "- 순서가 있는 시퀀스, 인덱스로 접근\r\n",
    "## 리스트 특징\r\n",
    "- 변경할 수 있고(mutable)\r\n",
    "- 순서가 있고(ordered)\r\n",
    "- 순회 가능한(iterable)"
   ],
   "metadata": {}
  },
  {
   "cell_type": "markdown",
   "source": [
    "## 값 추가 및 삭제\r\n",
    "> **.append(x)**\r\n",
    "- 리스트에 값을 추가"
   ],
   "metadata": {}
  },
  {
   "cell_type": "code",
   "execution_count": 1,
   "source": [
    "cafe = ['starbucks', 'hollys', 'ediya']\r\n",
    "print(cafe)\r\n",
    "cafe.append('coffebean')\r\n",
    "print(cafe)"
   ],
   "outputs": [
    {
     "output_type": "stream",
     "name": "stdout",
     "text": [
      "['starbucks', 'hollys', 'ediya']\n",
      "['starbucks', 'hollys', 'ediya', 'coffebean']\n"
     ]
    }
   ],
   "metadata": {}
  },
  {
   "cell_type": "markdown",
   "source": [
    "## 값 추가 및 삭제\r\n",
    "> **.extned(iterable)**\r\n",
    "- 리스트에 iterable의 항목을 추가"
   ],
   "metadata": {}
  },
  {
   "cell_type": "code",
   "execution_count": 2,
   "source": [
    "cafe = ['starbucks', 'hollys', 'ediya']\r\n",
    "print(cafe)\r\n",
    "cafe.extend(['coffebean'])\r\n",
    "print(cafe)"
   ],
   "outputs": [
    {
     "output_type": "stream",
     "name": "stdout",
     "text": [
      "['starbucks', 'hollys', 'ediya']\n",
      "['starbucks', 'hollys', 'ediya', 'coffebean']\n"
     ]
    }
   ],
   "metadata": {}
  },
  {
   "cell_type": "code",
   "execution_count": 3,
   "source": [
    "cafe = ['starbucks', 'hollys', 'ediya']\r\n",
    "print(cafe)\r\n",
    "cafe += ['coffebean']\r\n",
    "print(cafe)"
   ],
   "outputs": [
    {
     "output_type": "stream",
     "name": "stdout",
     "text": [
      "['starbucks', 'hollys', 'ediya']\n",
      "['starbucks', 'hollys', 'ediya', 'coffebean']\n"
     ]
    }
   ],
   "metadata": {}
  },
  {
   "cell_type": "code",
   "execution_count": 4,
   "source": [
    "cafe = ['starbucks', 'hollys', 'ediya']\r\n",
    "print(cafe)\r\n",
    "cafe.extend('coffebean')\r\n",
    "print(cafe)"
   ],
   "outputs": [
    {
     "output_type": "stream",
     "name": "stdout",
     "text": [
      "['starbucks', 'hollys', 'ediya']\n",
      "['starbucks', 'hollys', 'ediya', 'c', 'o', 'f', 'f', 'e', 'b', 'e', 'a', 'n']\n"
     ]
    }
   ],
   "metadata": {}
  },
  {
   "cell_type": "markdown",
   "source": [
    "## 값 추가 및 삭제\r\n",
    "> **.insert(i, x)**\r\n",
    "- 정해진 위치 i에 x를 추가"
   ],
   "metadata": {}
  },
  {
   "cell_type": "code",
   "execution_count": 8,
   "source": [
    "cafe = ['starbucks', 'hollys', 'ediya']\r\n",
    "print(cafe)\r\n",
    "cafe.insert(1, 'coffebean')\r\n",
    "print(cafe)"
   ],
   "outputs": [
    {
     "output_type": "stream",
     "name": "stdout",
     "text": [
      "['starbucks', 'hollys', 'ediya']\n",
      "['starbucks', 'coffebean', 'hollys', 'ediya']\n"
     ]
    }
   ],
   "metadata": {}
  },
  {
   "cell_type": "code",
   "execution_count": 7,
   "source": [
    "cafe = ['starbucks', 'hollys', 'ediya']\r\n",
    "print(cafe)\r\n",
    "# 리스트 길이보다 큰 경우 맨 뒤에 위치\r\n",
    "cafe.insert(10000, 'coffebean')\r\n",
    "print(cafe)"
   ],
   "outputs": [
    {
     "output_type": "stream",
     "name": "stdout",
     "text": [
      "['starbucks', 'hollys', 'ediya']\n",
      "['starbucks', 'hollys', 'ediya', 'coffebean']\n"
     ]
    }
   ],
   "metadata": {}
  },
  {
   "cell_type": "markdown",
   "source": [
    "## 값 추가 및 삭제\r\n",
    "> **.remove(x)**\r\n",
    "- 리스트에서 값이 x인 것 삭제"
   ],
   "metadata": {}
  },
  {
   "cell_type": "code",
   "execution_count": 9,
   "source": [
    "cafe = ['starbucks', 'hollys', 'ediya']\r\n",
    "print(cafe)\r\n",
    "cafe.remove('ediya')\r\n",
    "print(cafe)"
   ],
   "outputs": [
    {
     "output_type": "stream",
     "name": "stdout",
     "text": [
      "['starbucks', 'hollys', 'ediya']\n",
      "['starbucks', 'hollys']\n"
     ]
    }
   ],
   "metadata": {}
  },
  {
   "cell_type": "code",
   "execution_count": 10,
   "source": [
    "cafe = ['starbucks', 'hollys', 'ediya']\r\n",
    "print(cafe)\r\n",
    "# 없는 것을 삭제할 경우 ValueError\r\n",
    "cafe.remove('e')\r\n",
    "print(cafe)"
   ],
   "outputs": [
    {
     "output_type": "stream",
     "name": "stdout",
     "text": [
      "['starbucks', 'hollys', 'ediya']\n"
     ]
    },
    {
     "output_type": "error",
     "ename": "ValueError",
     "evalue": "list.remove(x): x not in list",
     "traceback": [
      "\u001b[1;31m---------------------------------------------------------------------------\u001b[0m",
      "\u001b[1;31mValueError\u001b[0m                                Traceback (most recent call last)",
      "\u001b[1;32m~\\AppData\\Local\\Temp/ipykernel_21380/3672693579.py\u001b[0m in \u001b[0;36m<module>\u001b[1;34m\u001b[0m\n\u001b[0;32m      2\u001b[0m \u001b[0mprint\u001b[0m\u001b[1;33m(\u001b[0m\u001b[0mcafe\u001b[0m\u001b[1;33m)\u001b[0m\u001b[1;33m\u001b[0m\u001b[1;33m\u001b[0m\u001b[0m\n\u001b[0;32m      3\u001b[0m \u001b[1;31m# 없는 것을 삭제할 경우 ValueError\u001b[0m\u001b[1;33m\u001b[0m\u001b[1;33m\u001b[0m\u001b[1;33m\u001b[0m\u001b[0m\n\u001b[1;32m----> 4\u001b[1;33m \u001b[0mcafe\u001b[0m\u001b[1;33m.\u001b[0m\u001b[0mremove\u001b[0m\u001b[1;33m(\u001b[0m\u001b[1;34m'e'\u001b[0m\u001b[1;33m)\u001b[0m\u001b[1;33m\u001b[0m\u001b[1;33m\u001b[0m\u001b[0m\n\u001b[0m\u001b[0;32m      5\u001b[0m \u001b[0mprint\u001b[0m\u001b[1;33m(\u001b[0m\u001b[0mcafe\u001b[0m\u001b[1;33m)\u001b[0m\u001b[1;33m\u001b[0m\u001b[1;33m\u001b[0m\u001b[0m\n",
      "\u001b[1;31mValueError\u001b[0m: list.remove(x): x not in list"
     ]
    }
   ],
   "metadata": {}
  },
  {
   "cell_type": "markdown",
   "source": [
    "## 값 추가 및 삭제\r\n",
    "> **.pop(i)**\r\n",
    "- 정해진 위치 i에 있는 값을 삭제하고, 그 항목을 반환함\r\n",
    "- i가 지정되지 않으면, 마지막 항목을 삭제하고 반환함"
   ],
   "metadata": {}
  },
  {
   "cell_type": "code",
   "execution_count": 11,
   "source": [
    "numbers = ['hi', 1, 2, 3]\r\n",
    "print(numbers)\r\n",
    "numbers.pop()\r\n",
    "print(numbers)"
   ],
   "outputs": [
    {
     "output_type": "stream",
     "name": "stdout",
     "text": [
      "['hi', 1, 2, 3]\n",
      "['hi', 1, 2]\n"
     ]
    }
   ],
   "metadata": {}
  },
  {
   "cell_type": "code",
   "execution_count": 17,
   "source": [
    "numbers = ['hi', 1, 2, 3]\r\n",
    "print(numbers)\r\n",
    "# 반환을 확인\r\n",
    "x = numbers.pop(0)\r\n",
    "print(numbers)\r\n",
    "print(x)"
   ],
   "outputs": [
    {
     "output_type": "stream",
     "name": "stdout",
     "text": [
      "['hi', 1, 2, 3]\n",
      "[1, 2, 3]\n",
      "hi\n"
     ]
    }
   ],
   "metadata": {}
  },
  {
   "cell_type": "markdown",
   "source": [
    "## 값 추가 및 삭제\r\n",
    "> **.clear()**\r\n",
    "- 모든 항목을 삭제함"
   ],
   "metadata": {}
  },
  {
   "cell_type": "code",
   "execution_count": 13,
   "source": [
    "numbers = [1, 2, 3]\r\n",
    "print(numbers)\r\n",
    "numbers.clear()\r\n",
    "print(numbers)"
   ],
   "outputs": [
    {
     "output_type": "stream",
     "name": "stdout",
     "text": [
      "[1, 2, 3]\n",
      "[]\n"
     ]
    }
   ],
   "metadata": {}
  },
  {
   "cell_type": "markdown",
   "source": [
    "## 탐색 및 정렬\r\n",
    "> **.index(x)**\r\n",
    "- x값을 찾아 해당 index 값을 반환"
   ],
   "metadata": {}
  },
  {
   "cell_type": "code",
   "execution_count": 14,
   "source": [
    "numbers = [1, 2, 3]\r\n",
    "print(numbers)\r\n",
    "print(numbers.index(2))\r\n",
    "# 없는 값일 경우, ValueError\r\n",
    "print(numbers.index(1000))"
   ],
   "outputs": [
    {
     "output_type": "stream",
     "name": "stdout",
     "text": [
      "[1, 2, 3]\n",
      "1\n"
     ]
    },
    {
     "output_type": "error",
     "ename": "ValueError",
     "evalue": "1000 is not in list",
     "traceback": [
      "\u001b[1;31m---------------------------------------------------------------------------\u001b[0m",
      "\u001b[1;31mValueError\u001b[0m                                Traceback (most recent call last)",
      "\u001b[1;32m~\\AppData\\Local\\Temp/ipykernel_21380/2040846338.py\u001b[0m in \u001b[0;36m<module>\u001b[1;34m\u001b[0m\n\u001b[0;32m      3\u001b[0m \u001b[0mprint\u001b[0m\u001b[1;33m(\u001b[0m\u001b[0mnumbers\u001b[0m\u001b[1;33m.\u001b[0m\u001b[0mindex\u001b[0m\u001b[1;33m(\u001b[0m\u001b[1;36m2\u001b[0m\u001b[1;33m)\u001b[0m\u001b[1;33m)\u001b[0m\u001b[1;33m\u001b[0m\u001b[1;33m\u001b[0m\u001b[0m\n\u001b[0;32m      4\u001b[0m \u001b[1;31m# 없는 값일 경우, ValueError\u001b[0m\u001b[1;33m\u001b[0m\u001b[1;33m\u001b[0m\u001b[1;33m\u001b[0m\u001b[0m\n\u001b[1;32m----> 5\u001b[1;33m \u001b[0mprint\u001b[0m\u001b[1;33m(\u001b[0m\u001b[0mnumbers\u001b[0m\u001b[1;33m.\u001b[0m\u001b[0mindex\u001b[0m\u001b[1;33m(\u001b[0m\u001b[1;36m1000\u001b[0m\u001b[1;33m)\u001b[0m\u001b[1;33m)\u001b[0m\u001b[1;33m\u001b[0m\u001b[1;33m\u001b[0m\u001b[0m\n\u001b[0m",
      "\u001b[1;31mValueError\u001b[0m: 1000 is not in list"
     ]
    }
   ],
   "metadata": {}
  },
  {
   "cell_type": "markdown",
   "source": [
    "## 탐색 및 정렬\r\n",
    "> **.count(x)**\r\n",
    "- 원하는 값의 개수를 반환"
   ],
   "metadata": {}
  },
  {
   "cell_type": "code",
   "execution_count": 15,
   "source": [
    "numbers = [1, 2, 3, 2, 1, 2]\r\n",
    "print(numbers.count(2))\r\n",
    "print(numbers.count(1000))"
   ],
   "outputs": [
    {
     "output_type": "stream",
     "name": "stdout",
     "text": [
      "3\n",
      "0\n"
     ]
    }
   ],
   "metadata": {}
  },
  {
   "cell_type": "markdown",
   "source": [
    "## 탐색 및 정렬\r\n",
    "> **.sort()**\r\n",
    "\r\n",
    "- 원하는 리스트를 정렬\r\n",
    "- sorted 함수와 비교!!"
   ],
   "metadata": {}
  },
  {
   "cell_type": "code",
   "execution_count": 18,
   "source": [
    "numbers = [1, 3, 5, 4, 6, 2]\r\n",
    "# sort는 None을 반환\r\n",
    "result = numbers.sort()\r\n",
    "print(numbers, result)"
   ],
   "outputs": [
    {
     "output_type": "stream",
     "name": "stdout",
     "text": [
      "[1, 2, 3, 4, 5, 6] None\n"
     ]
    }
   ],
   "metadata": {}
  },
  {
   "cell_type": "code",
   "execution_count": 19,
   "source": [
    "numbers = [1, 3, 5, 4, 6, 2]\r\n",
    "# sorted는 정렬한 리스트를 반환\r\n",
    "result = sorted(numbers)\r\n",
    "print(numbers, result)"
   ],
   "outputs": [
    {
     "output_type": "stream",
     "name": "stdout",
     "text": [
      "[1, 3, 5, 4, 6, 2] [1, 2, 3, 4, 5, 6]\n"
     ]
    }
   ],
   "metadata": {}
  },
  {
   "cell_type": "markdown",
   "source": [
    "## 탐색 및 정렬\r\n",
    "> **.reverse()**\r\n",
    "- 순서를 반대로 뒤집는다.(정렬하는 것은 아니다.)"
   ],
   "metadata": {}
  },
  {
   "cell_type": "code",
   "execution_count": 20,
   "source": [
    "numbers = [1, 3, 5, 4, 6, 2]\r\n",
    "result = numbers.reverse()\r\n",
    "print(numbers, result)"
   ],
   "outputs": [
    {
     "output_type": "stream",
     "name": "stdout",
     "text": [
      "[2, 6, 4, 5, 3, 1] None\n"
     ]
    }
   ],
   "metadata": {}
  },
  {
   "cell_type": "markdown",
   "source": [
    "()\r\n",
    "print(numbers, result)"
   ],
   "metadata": {}
  },
  {
   "cell_type": "markdown",
   "source": [
    "## 리스트 복사 확인"
   ],
   "metadata": {}
  },
  {
   "cell_type": "code",
   "execution_count": 23,
   "source": [
    "ori_list = [1, 2, 3]\r\n",
    "copy_list = ori_list\r\n",
    "print(ori_list, copy_list)"
   ],
   "outputs": [
    {
     "output_type": "stream",
     "name": "stdout",
     "text": [
      "[1, 2, 3] [1, 2, 3]\n"
     ]
    }
   ],
   "metadata": {}
  },
  {
   "cell_type": "code",
   "execution_count": 24,
   "source": [
    "# 리스트의 복사는 같은 리스트의 주소를 참조\r\n",
    "# 해당 주소의 일부 값을 변경하는 경우 이를 참조하는 모든 변수에 영향\r\n",
    "copy_list[0] = 'hello'\r\n",
    "print(ori_list, copy_list)"
   ],
   "outputs": [
    {
     "output_type": "stream",
     "name": "stdout",
     "text": [
      "['hello', 2, 3] ['hello', 2, 3]\n"
     ]
    }
   ],
   "metadata": {}
  },
  {
   "cell_type": "markdown",
   "source": [
    "## 리스트 복사 - 얕은 복사(shallow copy)\r\n",
    "- Slice 연산자를 활용하여 같은 원소를 가진 리스트만 연산된 경과를 복사(다른 주소)"
   ],
   "metadata": {}
  },
  {
   "cell_type": "code",
   "execution_count": 25,
   "source": [
    "a = [1, 2, 3]\r\n",
    "b = a[:]\r\n",
    "print(a, b)\r\n",
    "b[0] = 6\r\n",
    "print(a, b)"
   ],
   "outputs": [
    {
     "output_type": "stream",
     "name": "stdout",
     "text": [
      "[1, 2, 3] [1, 2, 3]\n",
      "[1, 2, 3] [6, 2, 3]\n"
     ]
    }
   ],
   "metadata": {}
  },
  {
   "cell_type": "markdown",
   "source": [
    "## 리스트 복사 - 얕은 복사(shallow copy)\r\n",
    "- list()를 활용하여 같은 원소를 가진 리스트만 연산된 경과를 복사(다른 주소)"
   ],
   "metadata": {}
  },
  {
   "cell_type": "code",
   "execution_count": 26,
   "source": [
    "a = [1, 2, 3]\r\n",
    "b = list(a)\r\n",
    "print(a, b)\r\n",
    "b[0] = 6\r\n",
    "print(a, b)"
   ],
   "outputs": [
    {
     "output_type": "stream",
     "name": "stdout",
     "text": [
      "[1, 2, 3] [1, 2, 3]\n",
      "[1, 2, 3] [6, 2, 3]\n"
     ]
    }
   ],
   "metadata": {}
  },
  {
   "cell_type": "markdown",
   "source": [
    "## 리스트 얕은 복사 주의사항!!"
   ],
   "metadata": {}
  },
  {
   "cell_type": "code",
   "execution_count": 27,
   "source": [
    "# 복사하는 리스트의 원소가 주소를 참조하는 경우\r\n",
    "a = [1, 2, [3, 4]]\r\n",
    "b = a[:]\r\n",
    "print(a, b)\r\n",
    "b[2][0] = 6\r\n",
    "print(a, b)"
   ],
   "outputs": [
    {
     "output_type": "stream",
     "name": "stdout",
     "text": [
      "[1, 2, [3, 4]] [1, 2, [3, 4]]\n",
      "[1, 2, [6, 4]] [1, 2, [6, 4]]\n"
     ]
    }
   ],
   "metadata": {}
  },
  {
   "cell_type": "markdown",
   "source": [
    "## 리스트 복사 - 깊은 복사(deep copy)"
   ],
   "metadata": {}
  },
  {
   "cell_type": "code",
   "execution_count": 28,
   "source": [
    "import copy\r\n",
    "a = [1, 2, [3, 4]]\r\n",
    "b = copy.deepcopy(a)\r\n",
    "print(a, b)\r\n",
    "b[2][0] = 6\r\n",
    "print(a, b)"
   ],
   "outputs": [
    {
     "output_type": "stream",
     "name": "stdout",
     "text": [
      "[1, 2, [3, 4]] [1, 2, [3, 4]]\n",
      "[1, 2, [3, 4]] [1, 2, [6, 4]]\n"
     ]
    }
   ],
   "metadata": {}
  },
  {
   "cell_type": "markdown",
   "source": [
    "## List comprehension\r\n",
    "- 표현식과 제어문을 통해 특정한 값을 가진 리스트를 생성하는 법\r\n",
    "> [\\<expression> for <변수> in \\<iterable>]\r\n",
    ">\r\n",
    "> [\\<expression> for <변수> in \\<iterable> if <조건식>]"
   ],
   "metadata": {}
  },
  {
   "cell_type": "markdown",
   "source": [
    "## List comprehension 실습\r\n",
    "> 1~3의 세제곱의 결과가 담긴 리스트를 만드시오."
   ],
   "metadata": {}
  },
  {
   "cell_type": "code",
   "execution_count": 29,
   "source": [
    "cubic_list = []\r\n",
    "for number in range(1, 4):\r\n",
    "    cubic_list.append(number ** 3)\r\n",
    "print(cubic_list)"
   ],
   "outputs": [
    {
     "output_type": "stream",
     "name": "stdout",
     "text": [
      "[1, 8, 27]\n"
     ]
    }
   ],
   "metadata": {}
  },
  {
   "cell_type": "code",
   "execution_count": 30,
   "source": [
    "print([number**3 for number in range(1,4)])"
   ],
   "outputs": [
    {
     "output_type": "stream",
     "name": "stdout",
     "text": [
      "[1, 8, 27]\n"
     ]
    }
   ],
   "metadata": {}
  },
  {
   "cell_type": "markdown",
   "source": [
    "## List comprehension 실습\r\n",
    "> 1~3중 짝수의 세제곱의 결과가 담긴 리스트를 만드시오."
   ],
   "metadata": {}
  },
  {
   "cell_type": "code",
   "execution_count": 34,
   "source": [
    "cubic_list = []\r\n",
    "for number in range(1, 4):\r\n",
    "    if number % 2 == 0:\r\n",
    "        cubic_list.append(number ** 3)\r\n",
    "print(cubic_list)"
   ],
   "outputs": [
    {
     "output_type": "stream",
     "name": "stdout",
     "text": [
      "[8]\n"
     ]
    }
   ],
   "metadata": {}
  },
  {
   "cell_type": "code",
   "execution_count": 35,
   "source": [
    "print([number**3 for number in range(1,4) if number % 2 ==0])"
   ],
   "outputs": [
    {
     "output_type": "stream",
     "name": "stdout",
     "text": [
      "[8]\n"
     ]
    }
   ],
   "metadata": {}
  },
  {
   "cell_type": "markdown",
   "source": [
    "## List comprehension 실습\r\n",
    "> 다음의 반복문을 List comprehension으로 표현하시오."
   ],
   "metadata": {}
  },
  {
   "cell_type": "code",
   "execution_count": 36,
   "source": [
    "girls = ['jane', 'ashley']\r\n",
    "boys = ['justin', 'eric']\r\n",
    "\r\n",
    "pair = []\r\n",
    "for boy in boys:\r\n",
    "    for girl in girls:\r\n",
    "        pair.append((boy, girl))\r\n",
    "\r\n",
    "print(pair)"
   ],
   "outputs": [
    {
     "output_type": "stream",
     "name": "stdout",
     "text": [
      "[('justin', 'jane'), ('justin', 'ashley'), ('eric', 'jane'), ('eric', 'ashley')]\n"
     ]
    }
   ],
   "metadata": {}
  },
  {
   "cell_type": "code",
   "execution_count": 37,
   "source": [
    "print([(boy, girl) for boy in boys for girl in girls])"
   ],
   "outputs": [
    {
     "output_type": "stream",
     "name": "stdout",
     "text": [
      "[('justin', 'jane'), ('justin', 'ashley'), ('eric', 'jane'), ('eric', 'ashley')]\n"
     ]
    }
   ],
   "metadata": {}
  },
  {
   "cell_type": "markdown",
   "source": [
    "## Built-in Function -map\r\n",
    "> **map(function, iterable)**\r\n",
    "- 순회 가능한 데이터구조(iterable)의 모든 요소에 함수(function)적용하고, 그 결과를 map object로 반환"
   ],
   "metadata": {}
  },
  {
   "cell_type": "code",
   "execution_count": 38,
   "source": [
    "numbers = [1, 2, 3]\r\n",
    "result = map(str, numbers)\r\n",
    "print(result, type(result))"
   ],
   "outputs": [
    {
     "output_type": "stream",
     "name": "stdout",
     "text": [
      "<map object at 0x00000238C7A64430> <class 'map'>\n"
     ]
    }
   ],
   "metadata": {}
  },
  {
   "cell_type": "code",
   "execution_count": 39,
   "source": [
    "# list 형변환을 통해 결과 직접 확인\r\n",
    "list(result)"
   ],
   "outputs": [
    {
     "output_type": "execute_result",
     "data": {
      "text/plain": [
       "['1', '2', '3']"
      ]
     },
     "metadata": {},
     "execution_count": 39
    }
   ],
   "metadata": {}
  },
  {
   "cell_type": "code",
   "execution_count": 41,
   "source": [
    "n, m = map(int, input().split())\r\n",
    "\r\n",
    "print(n, m)\r\n",
    "print(type(n), type(m))"
   ],
   "outputs": [
    {
     "output_type": "stream",
     "name": "stdout",
     "text": [
      "3 5\n",
      "<class 'int'> <class 'int'>\n"
     ]
    }
   ],
   "metadata": {}
  },
  {
   "cell_type": "markdown",
   "source": [
    "## Built-in Function -filter\r\n",
    "> **filter(function, iterable)**\r\n",
    "- 순회 가능한 데이터구조(iterable)의 모든 요소에 함수(function)적용하고, 그 결과가 True인 것들을 filter object로 반환"
   ],
   "metadata": {}
  },
  {
   "cell_type": "code",
   "execution_count": 42,
   "source": [
    "def odd(n):\r\n",
    "    return n % 2\r\n",
    "\r\n",
    "numbers = [1, 2, 3]\r\n",
    "result = filter(odd, numbers)\r\n",
    "print(result, type(result))"
   ],
   "outputs": [
    {
     "output_type": "stream",
     "name": "stdout",
     "text": [
      "<filter object at 0x00000238C773D340> <class 'filter'>\n"
     ]
    }
   ],
   "metadata": {}
  },
  {
   "cell_type": "code",
   "execution_count": 43,
   "source": [
    "list(result)"
   ],
   "outputs": [
    {
     "output_type": "execute_result",
     "data": {
      "text/plain": [
       "[1, 3]"
      ]
     },
     "metadata": {},
     "execution_count": 43
    }
   ],
   "metadata": {}
  },
  {
   "cell_type": "markdown",
   "source": [
    "## Built-in Function -zip\r\n",
    "> **zip(\\*\\*iterables)**\r\n",
    "- 복수의 데이터구조(iterable)를 모아 튜플을 원소로 하는 zip object를 반환"
   ],
   "metadata": {}
  },
  {
   "cell_type": "code",
   "execution_count": 44,
   "source": [
    "girls = ['jane', 'ashley']\r\n",
    "boys = ['justin', 'eric']\r\n",
    "pair = zip(girls, boys)\r\n",
    "print(pair, type(pair))"
   ],
   "outputs": [
    {
     "output_type": "stream",
     "name": "stdout",
     "text": [
      "<zip object at 0x00000238C790DAC0> <class 'zip'>\n"
     ]
    }
   ],
   "metadata": {}
  },
  {
   "cell_type": "code",
   "execution_count": 45,
   "source": [
    "list(pair)"
   ],
   "outputs": [
    {
     "output_type": "execute_result",
     "data": {
      "text/plain": [
       "[('jane', 'justin'), ('ashley', 'eric')]"
      ]
     },
     "metadata": {},
     "execution_count": 45
    }
   ],
   "metadata": {}
  }
 ],
 "metadata": {
  "orig_nbformat": 4,
  "language_info": {
   "name": "python",
   "version": "3.9.6",
   "mimetype": "text/x-python",
   "codemirror_mode": {
    "name": "ipython",
    "version": 3
   },
   "pygments_lexer": "ipython3",
   "nbconvert_exporter": "python",
   "file_extension": ".py"
  },
  "kernelspec": {
   "name": "python3",
   "display_name": "Python 3.9.6 64-bit"
  },
  "interpreter": {
   "hash": "826c1ff5c4179778aab3a3c529716f5482c58a2cdc9450e70eef1a1010bf897b"
  }
 },
 "nbformat": 4,
 "nbformat_minor": 2
}