{
 "cells": [
  {
   "cell_type": "markdown",
   "source": [
    "# 순서가 있는 데이터 구조\r\n",
    "- 문자열(stirng)\r\n",
    "- 리스트(list)\r\n",
    "\r\n",
    "# 순서가 없는 데이터 구조\r\n",
    "- 세트(set)\r\n",
    "- 딕셔너리(dictionary)"
   ],
   "metadata": {}
  },
  {
   "cell_type": "markdown",
   "source": [
    "# 문자열(String)\r\n",
    "\r\n",
    "## 문자들의 나열(sequence of characters)\r\n",
    "\r\n",
    "## 문자열의 특징\r\n",
    "- 변경할 수 없고(immutable)\r\n",
    "- 순서가 있고(ordered)\r\n",
    "- 순회 가능한(iterable)"
   ],
   "metadata": {}
  },
  {
   "cell_type": "code",
   "execution_count": 1,
   "source": [
    "# immutable\r\n",
    "sentence = 'my string?'\r\n",
    "sentence[-1] = '!'"
   ],
   "outputs": [
    {
     "output_type": "error",
     "ename": "TypeError",
     "evalue": "'str' object does not support item assignment",
     "traceback": [
      "\u001b[1;31m---------------------------------------------------------------------------\u001b[0m",
      "\u001b[1;31mTypeError\u001b[0m                                 Traceback (most recent call last)",
      "\u001b[1;32m~\\AppData\\Local\\Temp/ipykernel_17748/972128465.py\u001b[0m in \u001b[0;36m<module>\u001b[1;34m\u001b[0m\n\u001b[0;32m      1\u001b[0m \u001b[1;31m# immutable\u001b[0m\u001b[1;33m\u001b[0m\u001b[1;33m\u001b[0m\u001b[1;33m\u001b[0m\u001b[0m\n\u001b[0;32m      2\u001b[0m \u001b[0ma\u001b[0m \u001b[1;33m=\u001b[0m \u001b[1;34m'my string?'\u001b[0m\u001b[1;33m\u001b[0m\u001b[1;33m\u001b[0m\u001b[0m\n\u001b[1;32m----> 3\u001b[1;33m \u001b[0ma\u001b[0m\u001b[1;33m[\u001b[0m\u001b[1;33m-\u001b[0m\u001b[1;36m1\u001b[0m\u001b[1;33m]\u001b[0m \u001b[1;33m=\u001b[0m \u001b[1;34m'!'\u001b[0m\u001b[1;33m\u001b[0m\u001b[1;33m\u001b[0m\u001b[0m\n\u001b[0m",
      "\u001b[1;31mTypeError\u001b[0m: 'str' object does not support item assignment"
     ]
    }
   ],
   "metadata": {}
  },
  {
   "cell_type": "code",
   "execution_count": 2,
   "source": [
    "# iterable\r\n",
    "sentence = 'my string?'\r\n",
    "for s in sentence:\r\n",
    "    print(s, end=' ')"
   ],
   "outputs": [
    {
     "output_type": "stream",
     "name": "stdout",
     "text": [
      "m y   s t r i n g ? "
     ]
    }
   ],
   "metadata": {}
  },
  {
   "cell_type": "markdown",
   "source": [
    "## 문자열 인덱스(Index)\r\n",
    "- 파이썬에서 문자열은 아래와 같이 접근할 수 있다.\r\n",
    "> ' a  b  c'\r\n",
    ">\r\n",
    ">   0  1  2\r\n",
    ">\r\n",
    ">  -3 -2 -1"
   ],
   "metadata": {}
  },
  {
   "cell_type": "markdown",
   "source": [
    "## 문자열 자르기(Slicing)\r\n",
    "- 파이썬에서 문자열은 아래와 같이 자를 수 있다.\r\n",
    "> string[start:stop:step]"
   ],
   "metadata": {}
  },
  {
   "cell_type": "code",
   "execution_count": 3,
   "source": [
    "sentence = 'abcdefghij'\r\n",
    "# index2부터 index4까지\r\n",
    "sentence[2:5]"
   ],
   "outputs": [
    {
     "output_type": "execute_result",
     "data": {
      "text/plain": [
       "'cde'"
      ]
     },
     "metadata": {},
     "execution_count": 3
    }
   ],
   "metadata": {}
  },
  {
   "cell_type": "code",
   "execution_count": 4,
   "source": [
    "# index-6부터 index-3까지\r\n",
    "sentence[-6:-2]"
   ],
   "outputs": [
    {
     "output_type": "execute_result",
     "data": {
      "text/plain": [
       "'efgh'"
      ]
     },
     "metadata": {},
     "execution_count": 4
    }
   ],
   "metadata": {}
  },
  {
   "cell_type": "code",
   "execution_count": 5,
   "source": [
    "# index2부터 index-5까지\r\n",
    "sentence[2:-4]"
   ],
   "outputs": [
    {
     "output_type": "execute_result",
     "data": {
      "text/plain": [
       "'cdef'"
      ]
     },
     "metadata": {},
     "execution_count": 5
    }
   ],
   "metadata": {}
  },
  {
   "cell_type": "code",
   "execution_count": 6,
   "source": [
    "# index2부터 index4까지 2칸씩\r\n",
    "sentence[2:5:2]"
   ],
   "outputs": [
    {
     "output_type": "execute_result",
     "data": {
      "text/plain": [
       "'ce'"
      ]
     },
     "metadata": {},
     "execution_count": 6
    }
   ],
   "metadata": {}
  },
  {
   "cell_type": "code",
   "execution_count": 7,
   "source": [
    "# index-6부터 index-3까지 3칸씩\r\n",
    "sentence[-6:-2:3]"
   ],
   "outputs": [
    {
     "output_type": "execute_result",
     "data": {
      "text/plain": [
       "'eh'"
      ]
     },
     "metadata": {},
     "execution_count": 7
    }
   ],
   "metadata": {}
  },
  {
   "cell_type": "code",
   "execution_count": 8,
   "source": [
    "# 처음부터 index2까지\r\n",
    "print(sentence[:3])\r\n",
    "# index5부터 끝까지\r\n",
    "print(sentence[5:])"
   ],
   "outputs": [
    {
     "output_type": "stream",
     "name": "stdout",
     "text": [
      "abc\n",
      "fghij\n"
     ]
    }
   ],
   "metadata": {}
  },
  {
   "cell_type": "code",
   "execution_count": 9,
   "source": [
    "# 처음부터 끝까지\r\n",
    "print(sentence[::])     # sentence[0:len(sentence):1]과 동일\r\n",
    "# 처음부터 끝까지 역순으로\r\n",
    "print(sentence[::-1])   # sentence[-1:-(len(sentence)+1):-1]과 동일"
   ],
   "outputs": [
    {
     "output_type": "stream",
     "name": "stdout",
     "text": [
      "abcdefghij\n",
      "jihgfedcba\n"
     ]
    }
   ],
   "metadata": {}
  },
  {
   "cell_type": "markdown",
   "source": [
    "## 문자열의 나열(sequence of characters)\r\n",
    "\r\n",
    "## 문자열의 특징\r\n",
    "- 변경할 수 없고(immutable)\r\n",
    "- 순서가 있고(ordered)\r\n",
    "- 순회 가능한(iterable)"
   ],
   "metadata": {}
  },
  {
   "cell_type": "markdown",
   "source": [
    "## 문자열 조회/탐색\r\n",
    "> **.find(x)**\r\n",
    "- x의 첫 번째 위치를 반환. 없으면, -1을 반환."
   ],
   "metadata": {}
  },
  {
   "cell_type": "code",
   "execution_count": 11,
   "source": [
    "print('apple'.find('p'))"
   ],
   "outputs": [
    {
     "output_type": "stream",
     "name": "stdout",
     "text": [
      "1\n"
     ]
    }
   ],
   "metadata": {}
  },
  {
   "cell_type": "code",
   "execution_count": 12,
   "source": [
    "print('apple'.find('k'))"
   ],
   "outputs": [
    {
     "output_type": "stream",
     "name": "stdout",
     "text": [
      "-1\n"
     ]
    }
   ],
   "metadata": {}
  },
  {
   "cell_type": "markdown",
   "source": [
    "## 문자열 조회/탐색\r\n",
    "> **.index(x)**\r\n",
    "- x의 첫 번째 위치를 반환. 없으면, 오류발생."
   ],
   "metadata": {}
  },
  {
   "cell_type": "code",
   "execution_count": 13,
   "source": [
    "print('apple'.index('p'))"
   ],
   "outputs": [
    {
     "output_type": "stream",
     "name": "stdout",
     "text": [
      "1\n"
     ]
    }
   ],
   "metadata": {}
  },
  {
   "cell_type": "code",
   "execution_count": 14,
   "source": [
    "print('apple'.index('k'))"
   ],
   "outputs": [
    {
     "output_type": "error",
     "ename": "ValueError",
     "evalue": "substring not found",
     "traceback": [
      "\u001b[1;31m---------------------------------------------------------------------------\u001b[0m",
      "\u001b[1;31mValueError\u001b[0m                                Traceback (most recent call last)",
      "\u001b[1;32m~\\AppData\\Local\\Temp/ipykernel_17748/547923846.py\u001b[0m in \u001b[0;36m<module>\u001b[1;34m\u001b[0m\n\u001b[1;32m----> 1\u001b[1;33m \u001b[0mprint\u001b[0m\u001b[1;33m(\u001b[0m\u001b[1;34m'apple'\u001b[0m\u001b[1;33m.\u001b[0m\u001b[0mindex\u001b[0m\u001b[1;33m(\u001b[0m\u001b[1;34m'k'\u001b[0m\u001b[1;33m)\u001b[0m\u001b[1;33m)\u001b[0m\u001b[1;33m\u001b[0m\u001b[1;33m\u001b[0m\u001b[0m\n\u001b[0m",
      "\u001b[1;31mValueError\u001b[0m: substring not found"
     ]
    }
   ],
   "metadata": {}
  },
  {
   "cell_type": "markdown",
   "source": [
    "## 문자열 변경\r\n",
    "> **.replace(old, new[, count])**\r\n",
    "- 바꿀 대상 글자를 새로운 글자로 바꿔서 반환\r\n",
    "- 선택적 인자 count를 지정하면, 해당 개수만큼만 시행"
   ],
   "metadata": {}
  },
  {
   "cell_type": "markdown",
   "source": [
    "### 배커스-나우르 표기법\r\n",
    "- [] : 선택적 인자, optional"
   ],
   "metadata": {}
  },
  {
   "cell_type": "code",
   "execution_count": 15,
   "source": [
    "'aoole'.replace('o', 'p')"
   ],
   "outputs": [
    {
     "output_type": "execute_result",
     "data": {
      "text/plain": [
       "'apple'"
      ]
     },
     "metadata": {},
     "execution_count": 15
    }
   ],
   "metadata": {}
  },
  {
   "cell_type": "code",
   "execution_count": 16,
   "source": [
    "'ayyly'.replace('y', 'p', 2)"
   ],
   "outputs": [
    {
     "output_type": "execute_result",
     "data": {
      "text/plain": [
       "'apply'"
      ]
     },
     "metadata": {},
     "execution_count": 16
    }
   ],
   "metadata": {}
  },
  {
   "cell_type": "markdown",
   "source": [
    "## 문자열 변경\r\n",
    "> **strip([chars])**\r\n",
    "- 양쪽을 제거하거나(strip), 왼쪽을 제거하거나(lstrip), 오른쪽을 제거하거나(rstrip)\r\n",
    "- 문자열을 지정하지 않으면 공백을 제거"
   ],
   "metadata": {}
  },
  {
   "cell_type": "code",
   "execution_count": 17,
   "source": [
    "'   wow!\\n'.strip()"
   ],
   "outputs": [
    {
     "output_type": "execute_result",
     "data": {
      "text/plain": [
       "'wow!'"
      ]
     },
     "metadata": {},
     "execution_count": 17
    }
   ],
   "metadata": {}
  },
  {
   "cell_type": "code",
   "execution_count": 18,
   "source": [
    "'   wow!\\n'.lstrip()"
   ],
   "outputs": [
    {
     "output_type": "execute_result",
     "data": {
      "text/plain": [
       "'wow!\\n'"
      ]
     },
     "metadata": {},
     "execution_count": 18
    }
   ],
   "metadata": {}
  },
  {
   "cell_type": "code",
   "execution_count": 19,
   "source": [
    "'   wow!\\n'.rstrip()"
   ],
   "outputs": [
    {
     "output_type": "execute_result",
     "data": {
      "text/plain": [
       "'   wow!'"
      ]
     },
     "metadata": {},
     "execution_count": 19
    }
   ],
   "metadata": {}
  },
  {
   "cell_type": "code",
   "execution_count": 20,
   "source": [
    "print('hello????'.strip('?'))\r\n",
    "print('hello????'.lstrip('?'))\r\n",
    "print('hello????'.rstrip('?'))"
   ],
   "outputs": [
    {
     "output_type": "stream",
     "name": "stdout",
     "text": [
      "hello\n",
      "hello????\n",
      "hello\n"
     ]
    }
   ],
   "metadata": {}
  },
  {
   "cell_type": "markdown",
   "source": [
    "## 문자열 변경\r\n",
    "> **.split(chars)**\r\n",
    "- 문자열을 특정한 단위로 나눠 리스트로 반환"
   ],
   "metadata": {}
  },
  {
   "cell_type": "code",
   "execution_count": 21,
   "source": [
    "'a,b,c'.split('-')"
   ],
   "outputs": [
    {
     "output_type": "execute_result",
     "data": {
      "text/plain": [
       "['a,b,c']"
      ]
     },
     "metadata": {},
     "execution_count": 21
    }
   ],
   "metadata": {}
  },
  {
   "cell_type": "code",
   "execution_count": 22,
   "source": [
    "'a,b,c'.split(',')"
   ],
   "outputs": [
    {
     "output_type": "execute_result",
     "data": {
      "text/plain": [
       "['a', 'b', 'c']"
      ]
     },
     "metadata": {},
     "execution_count": 22
    }
   ],
   "metadata": {}
  },
  {
   "cell_type": "markdown",
   "source": [
    "## 문자열 변경\r\n",
    "> **'separator'.join(iterable)**\r\n",
    "- 반복가능한(iterable) 컨테이너 요소들을 구분자(separator)로 합쳐 문자열 반환"
   ],
   "metadata": {}
  },
  {
   "cell_type": "code",
   "execution_count": 30,
   "source": [
    "'!'.join('34')"
   ],
   "outputs": [
    {
     "output_type": "execute_result",
     "data": {
      "text/plain": [
       "'3!4'"
      ]
     },
     "metadata": {},
     "execution_count": 30
    }
   ],
   "metadata": {}
  },
  {
   "cell_type": "code",
   "execution_count": 31,
   "source": [
    "' '.join('hello')"
   ],
   "outputs": [
    {
     "output_type": "execute_result",
     "data": {
      "text/plain": [
       "'h e l l o'"
      ]
     },
     "metadata": {},
     "execution_count": 31
    }
   ],
   "metadata": {}
  },
  {
   "cell_type": "markdown",
   "source": [
    "## 문자열 변경\r\n",
    "> **.capitalize() : 앞글자만 대문자로**\r\n",
    ">\r\n",
    "> **.title() : '나 공백 이후를 대문자로**\r\n",
    ">\r\n",
    "> **.upper() : 모두 대문자로**\r\n",
    ">\r\n",
    "> **.lower() : 모두 소문자로**\r\n",
    ">\r\n",
    "> **.swapcase() : 대<->소문자로 변경**"
   ],
   "metadata": {}
  },
  {
   "cell_type": "code",
   "execution_count": 35,
   "source": [
    "msg = 'hI! Everyone, I\\'m kim'\r\n",
    "print(msg)\r\n",
    "print('capitalize()', msg.capitalize(), sep=' : ')\r\n",
    "print('title()', msg.title(), sep=' : ')\r\n",
    "print('upper()', msg.upper(), sep=' : ')\r\n",
    "print('lower()', msg.lower(), sep=' : ')\r\n",
    "print('swapcase()', msg.swapcase(), sep=' : ')"
   ],
   "outputs": [
    {
     "output_type": "stream",
     "name": "stdout",
     "text": [
      "hI! Everyone, I'm kim\n",
      "capitalize() : Hi! everyone, i'm kim\n",
      "title() : Hi! Everyone, I'M Kim\n",
      "upper() : HI! EVERYONE, I'M KIM\n",
      "lower() : hi! everyone, i'm kim\n",
      "swapcase() : Hi! eVERYONE, i'M KIM\n"
     ]
    }
   ],
   "metadata": {}
  },
  {
   "cell_type": "markdown",
   "source": [
    "## 문자열 관련 검증 메소드\r\n",
    "> **.isalpha() : 알파벳 문자 여부**\r\n",
    "> - 단순 알파벳이 아닌 유니코드 상 Letter(한국어도 포함)\r\n",
    ">\r\n",
    "> **.isupper() : 대문자 여부**\r\n",
    ">\r\n",
    "> **.islower() : 소문자 여부**\r\n",
    ">\r\n",
    "> **.istitle() : 타이틀 형식 여부**"
   ],
   "metadata": {}
  },
  {
   "cell_type": "code",
   "execution_count": 38,
   "source": [
    "print(\"'abc'.isalpha()\", 'abc'.isalpha(), sep=' : ')\r\n",
    "print(\"'ㄱㄴㄷ'.isalpha()\", 'ㄱㄴㄷ'.isalpha(), sep=' : ')\r\n",
    "print(\"'Abc'.isupper()\", 'Abc'.isupper(), sep=' : ')\r\n",
    "print(\"'abc'.islower()\", 'abc'.islower(), sep=' : ')\r\n",
    "print(\"'Title Title!'.istitle()\", 'Title Title!'.istitle(), sep=' : ')"
   ],
   "outputs": [
    {
     "output_type": "stream",
     "name": "stdout",
     "text": [
      "'abc'.isalpha() : True\n",
      "'ㄱㄴㄷ'.isalpha() : True\n",
      "'Abc'.isupper() : False\n",
      "'abc'.islower() : True\n",
      "'Title Title!'.istitle() : True\n"
     ]
    }
   ],
   "metadata": {}
  },
  {
   "cell_type": "markdown",
   "source": [
    "## 문자열 관련 검증 메소드\r\n",
    "> **.isdecimal() <= .isdigit() <= .isnumeric()**\r\n",
    "- isdecimal() 함수는 주어진 문자열이 int형으로 변환이 가능한지 알아내는 함수이기 때문에 특수문자 중 숫자모양을 숫자로 치지 않는다\r\n",
    "- isdigit() 함수는 단일 글자가 '숫자' 모양으로 생겼으면 무조건 True를 반환하는 함수. 즉, 숫자처럼 생긴 '모든 글자'를 숫자로 친다.\r\n",
    "- isnumeric() 함수는 숫자값 표현에 해당하는 문자열까지 인정한다. 제곱근 및 분수, 거듭제곱 특수문자도 isnumeric() 함수는 True를 반환하는 것을 알 수 있다."
   ],
   "metadata": {}
  },
  {
   "cell_type": "code",
   "execution_count": 40,
   "source": [
    "print(\"'3²'.isdecimal()\", '3²'.isdecimal(), sep=' : ')\r\n",
    "print(\"'3²'.isdigit()\", '3²'.isdigit(), sep=' : ')\r\n",
    "print(\"'3²'.isnumeric()\", '3²'.isnumeric(), sep=' : ')"
   ],
   "outputs": [
    {
     "output_type": "stream",
     "name": "stdout",
     "text": [
      "'3²'.isdecimal() : False\n",
      "'3²'.isdigit() : True\n",
      "'3²'.isnumeric() : True\n"
     ]
    }
   ],
   "metadata": {}
  },
  {
   "cell_type": "code",
   "execution_count": 41,
   "source": [
    "print(\"'⑨④'.isdecimal()\", '⑨④'.isdecimal(), sep=' : ')\r\n",
    "print(\"'⑨④'.isdigit()\", '⑨④'.isdigit(), sep=' : ')\r\n",
    "print(\"'⑨④'.isnumeric()\", '⑨④'.isnumeric(), sep=' : ')"
   ],
   "outputs": [
    {
     "output_type": "stream",
     "name": "stdout",
     "text": [
      "'⑨④'.isdecimal() : False\n",
      "'⑨④'.isdigit() : True\n",
      "'⑨④'.isnumeric() : True\n"
     ]
    }
   ],
   "metadata": {}
  },
  {
   "cell_type": "code",
   "execution_count": 42,
   "source": [
    "print(\"'½'.isdecimal()\", '½'.isdecimal(), sep=' : ')\r\n",
    "print(\"'½'.isdigit()\", '½'.isdigit(), sep=' : ')\r\n",
    "print(\"'½'.isnumeric()\", '½'.isnumeric(), sep=' : ')"
   ],
   "outputs": [
    {
     "output_type": "stream",
     "name": "stdout",
     "text": [
      "'½'.isdecimal() : False\n",
      "'½'.isdigit() : False\n",
      "'½'.isnumeric() : True\n"
     ]
    }
   ],
   "metadata": {}
  }
 ],
 "metadata": {
  "orig_nbformat": 4,
  "language_info": {
   "name": "python",
   "version": "3.9.6",
   "mimetype": "text/x-python",
   "codemirror_mode": {
    "name": "ipython",
    "version": 3
   },
   "pygments_lexer": "ipython3",
   "nbconvert_exporter": "python",
   "file_extension": ".py"
  },
  "kernelspec": {
   "name": "python3",
   "display_name": "Python 3.9.6 64-bit"
  },
  "interpreter": {
   "hash": "826c1ff5c4179778aab3a3c529716f5482c58a2cdc9450e70eef1a1010bf897b"
  }
 },
 "nbformat": 4,
 "nbformat_minor": 2
}