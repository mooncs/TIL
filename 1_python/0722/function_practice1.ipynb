{
 "cells": [
  {
   "cell_type": "markdown",
   "source": [
    "# Practice 1\r\n",
    "- 함수"
   ],
   "metadata": {}
  },
  {
   "cell_type": "markdown",
   "source": [
    "## 1. abs() 직접 구현하기\r\n",
    "\r\n",
    "- 절댓값은 숫자형 자료(int, float)가 들어오면 절댓값을 반환하고, 복소수형 자료(complex)가 들어오면 해당하는 자료의 크기를 반환한다. \r\n",
    "- 파이썬 내장 함수 `abs()`를 직접 구현한 `my_abs()`를 작성하시오.\r\n",
    "\r\n",
    "---\r\n",
    "\r\n",
    "**abs() 공식문서**\r\n",
    "<center>\r\n",
    "    <img src=\"https://user-images.githubusercontent.com/52446416/61273106-b6ee5c00-a7e3-11e9-8ec2-a086b0bc584f.png\", alt=\"\">\r\n",
    "</center>\r\n",
    "\r\n",
    "\r\n",
    "**[참고사항]**\r\n",
    "<center>\r\n",
    "    <img src=\"https://user-images.githubusercontent.com/52446416/61273105-b655c580-a7e3-11e9-9859-0a9ffdecdf7d.png\", alt=\"\">\r\n",
    "</center>\r\n",
    "\r\n",
    "[예시]\r\n",
    "\r\n",
    "```python\r\n",
    "my_abs(3+4j) #=> 5.0\r\n",
    "my_abs(-0.0) #=> 0.0\r\n",
    "my_abs(-5) #=> 5\r\n",
    "```"
   ],
   "metadata": {}
  },
  {
   "cell_type": "code",
   "execution_count": 1,
   "source": [
    "def my_abs(x):\r\n",
    "    # 복소수가 들어올 경우 정수와 대소 비교가 불가능하기 때문에, 복소수 조건문 우선 실행\r\n",
    "    if type(x) == complex:\r\n",
    "        a = x.real\r\n",
    "        b = x.imag\r\n",
    "        return (a**2 + b**2)**0.5\r\n",
    "    elif x < 0:\r\n",
    "        return -x\r\n",
    "    elif x > 0:\r\n",
    "        return x\r\n",
    "    elif x == 0:\r\n",
    "        return 0"
   ],
   "outputs": [],
   "metadata": {}
  },
  {
   "cell_type": "code",
   "execution_count": 2,
   "source": [
    "print(my_abs(3+4j))\r\n",
    "print(my_abs(-0.0))\r\n",
    "print(my_abs(-5))\r\n",
    "print(abs(3+4j), abs(-0.0), abs(-5))"
   ],
   "outputs": [
    {
     "output_type": "stream",
     "name": "stdout",
     "text": [
      "5.0\n",
      "0\n",
      "5\n",
      "5.0 0.0 5\n"
     ]
    }
   ],
   "metadata": {}
  },
  {
   "cell_type": "code",
   "execution_count": 3,
   "source": [
    "def my_abs(x):\r\n",
    "    if type(x) == complex:\r\n",
    "        return (x.real**2 + x.imag**2) ** (1/2)\r\n",
    "    else : \r\n",
    "        if x == 0:\r\n",
    "            return x**2\r\n",
    "        if x < 0:\r\n",
    "            return -x\r\n",
    "        else:\r\n",
    "            return x"
   ],
   "outputs": [],
   "metadata": {}
  },
  {
   "cell_type": "code",
   "execution_count": 4,
   "source": [
    "print(my_abs(3+4j))\r\n",
    "print(my_abs(-0.0))\r\n",
    "print(my_abs(-5))\r\n",
    "print(abs(3+4j), abs(-0.0), abs(-5))"
   ],
   "outputs": [
    {
     "output_type": "stream",
     "name": "stdout",
     "text": [
      "5.0\n",
      "0.0\n",
      "5\n",
      "5.0 0.0 5\n"
     ]
    }
   ],
   "metadata": {}
  },
  {
   "cell_type": "markdown",
   "source": [
    "## 2. all() 직접 구현하기\r\n",
    "\r\n",
    "- `all()`은 인자로 받는 iterable(range, list)의 모든 요소가 참이거나 비어있으면 True를 반환한다. \r\n",
    "- 파이썬 내장 함수 `all()`을 직접 구현한 `my_all()`을 작성하시오.\r\n",
    "\r\n",
    "\r\n",
    "[예시]\r\n",
    "\r\n",
    "```python\r\n",
    "my_all([]) #=> True\r\n",
    "my_all([1, 2, 5, '6']) #=> True\r\n",
    "my_all([[], 2, 5, '6']) #=> False\r\n",
    "```"
   ],
   "metadata": {}
  },
  {
   "cell_type": "code",
   "execution_count": 5,
   "source": [
    "def my_all(elements):\r\n",
    "    # 빈 elements가 들어오면 for문 반복 불가, 따라서 기본값 True 설정\r\n",
    "    check = True\r\n",
    "    for element in elements:\r\n",
    "        # element가 False이면 값을 False로 변경 후 반복문 종료\r\n",
    "        if bool(element) == False:\r\n",
    "            check = False\r\n",
    "            # 하나라도 False면 False를 반환하므로 다음을 더 반복해볼 필요가 없다.\r\n",
    "            break\r\n",
    "    return check"
   ],
   "outputs": [],
   "metadata": {}
  },
  {
   "cell_type": "code",
   "execution_count": 6,
   "source": [
    "print(my_all([]))\r\n",
    "print(my_all([1, 2, 5, '6']))\r\n",
    "print(my_all([[], 2, 5, '6']))\r\n",
    "print(all([]), all([1, 2, 5, '6']), all([[], 2, 5, '6']))"
   ],
   "outputs": [
    {
     "output_type": "stream",
     "name": "stdout",
     "text": [
      "True\n",
      "True\n",
      "False\n",
      "True True False\n"
     ]
    }
   ],
   "metadata": {}
  },
  {
   "cell_type": "code",
   "execution_count": 7,
   "source": [
    "# True, False가 대응되는 숫자를 활용\r\n",
    "def my_all(elements):\r\n",
    "    # 빈 elements가 들어오면 for문 반복 불가, 따라서 기본값 True(1) 설정\r\n",
    "    check = 1\r\n",
    "    for element in elements:\r\n",
    "        check *= bool(element)\r\n",
    "    # 0이면 False를 반환, 1이면 True를 반환    \r\n",
    "    return bool(check)"
   ],
   "outputs": [],
   "metadata": {}
  },
  {
   "cell_type": "code",
   "execution_count": 8,
   "source": [
    "print(my_all([]))\r\n",
    "print(my_all([1, 2, 5, '6']))\r\n",
    "print(my_all([[], 2, 5, '6']))\r\n",
    "print(all([]), all([1, 2, 5, '6']), all([[], 2, 5, '6']))"
   ],
   "outputs": [
    {
     "output_type": "stream",
     "name": "stdout",
     "text": [
      "True\n",
      "True\n",
      "False\n",
      "True True False\n"
     ]
    }
   ],
   "metadata": {}
  },
  {
   "cell_type": "code",
   "execution_count": 9,
   "source": [
    "def my_all(elements):\r\n",
    "    ans = True\r\n",
    "\r\n",
    "    for element in elements:\r\n",
    "        # element가 거짓이라면\r\n",
    "        if not element:\r\n",
    "            ans = False\r\n",
    "            break\r\n",
    "    \r\n",
    "    return ans"
   ],
   "outputs": [],
   "metadata": {}
  },
  {
   "cell_type": "code",
   "execution_count": 10,
   "source": [
    "print(my_all([]))\r\n",
    "print(my_all([1, 2, 5, '6']))\r\n",
    "print(my_all([[], 2, 5, '6']))\r\n",
    "print(all([]), all([1, 2, 5, '6']), all([[], 2, 5, '6']))"
   ],
   "outputs": [
    {
     "output_type": "stream",
     "name": "stdout",
     "text": [
      "True\n",
      "True\n",
      "False\n",
      "True True False\n"
     ]
    }
   ],
   "metadata": {}
  },
  {
   "cell_type": "code",
   "execution_count": 11,
   "source": [
    "def my_all(elements):\r\n",
    "    for element in elements:\r\n",
    "        # element가 거짓이라면\r\n",
    "        if not element:\r\n",
    "            return False    \r\n",
    "    return True"
   ],
   "outputs": [],
   "metadata": {}
  },
  {
   "cell_type": "code",
   "execution_count": 12,
   "source": [
    "print(my_all([]))\r\n",
    "print(my_all([1, 2, 5, '6']))\r\n",
    "print(my_all([[], 2, 5, '6']))\r\n",
    "print(all([]), all([1, 2, 5, '6']), all([[], 2, 5, '6']))"
   ],
   "outputs": [
    {
     "output_type": "stream",
     "name": "stdout",
     "text": [
      "True\n",
      "True\n",
      "False\n",
      "True True False\n"
     ]
    }
   ],
   "metadata": {}
  },
  {
   "cell_type": "code",
   "execution_count": null,
   "source": [
    "# [추가] 이중 for문을 빠져나가고 싶다.\r\n",
    "arr = [[1,2,3],[4,5,6],[7,8,9]]\r\n",
    "\r\n",
    "check = 6\r\n",
    "flag = False\r\n",
    "\r\n",
    "for i in range(len(arr)):\r\n",
    "    for j in range(len(arr[i])):\r\n",
    "        if arr[i][j] == check:\r\n",
    "            flag =True\r\n",
    "            # 6을 찾아도 [7,8,9]를 수행한다.\r\n",
    "            break\r\n",
    "    # 6을 찾으면 종료!!\r\n",
    "    if flag:\r\n",
    "        break \r\n",
    "\r\n",
    "######################################################\r\n",
    "# 함수에서 return을 이용해서 이중 for문을 끝내는 것\r\n",
    "def search_number(arr):\r\n",
    "    for i in range(len(arr)):\r\n",
    "        for j in range(len(arr[i])):\r\n",
    "            if arr[i][j] == check:\r\n",
    "                return True\r\n",
    "    return False\r\n"
   ],
   "outputs": [],
   "metadata": {}
  },
  {
   "cell_type": "markdown",
   "source": [
    "## 3. any() 직접 구현하기\r\n",
    "\r\n",
    "- `any()`는 인자로 받는 iterable(range, list)의 요소 중 하나라도 참이면 True를 반환하고, 비어있으면 False를 반환한다. \r\n",
    "- 파이썬 내장 함수 `any()`을 직접 구현한 `my_any()` 함수를 작성하시오.\r\n",
    "\r\n",
    "[예시]\r\n",
    "\r\n",
    "```python\r\n",
    "my_any([1, 2, 5, '6']) #=> True\r\n",
    "my_any([[], 2, 5, '6']) #=> True\r\n",
    "my_any([0]) #=> False\r\n",
    "```"
   ],
   "metadata": {}
  },
  {
   "cell_type": "code",
   "execution_count": 13,
   "source": [
    "def my_any(elements):\r\n",
    "    # 빈 elements가 들어오면 for문 반복 불가, 따라서 기본값 False 설정\r\n",
    "    check = False\r\n",
    "    for element in elements:\r\n",
    "        # element가 True이면 값을 True로 변경 후 반복문 종료\r\n",
    "        if bool(element) == True:\r\n",
    "            check = True\r\n",
    "            # 하나라도 True면 True를 반환하므로 다음을 더 반복해볼 필요가 없다.\r\n",
    "            break\r\n",
    "    return check"
   ],
   "outputs": [],
   "metadata": {}
  },
  {
   "cell_type": "code",
   "execution_count": 14,
   "source": [
    "print(my_any([1, 2, 5, '6']))\r\n",
    "print(my_any([[], 2, 5, '6']))\r\n",
    "print(my_any([0]))\r\n",
    "print(any([1, 2, 5, '6']), any([[], 2, 5, '6']), any([0]))"
   ],
   "outputs": [
    {
     "output_type": "stream",
     "name": "stdout",
     "text": [
      "True\n",
      "True\n",
      "False\n",
      "True True False\n"
     ]
    }
   ],
   "metadata": {}
  },
  {
   "cell_type": "code",
   "execution_count": 15,
   "source": [
    "# True, False가 대응되는 숫자를 활용\r\n",
    "def my_any(elements):\r\n",
    "    # 빈 elements가 들어오면 for문 반복 불가, 따라서 기본값 False(0) 설정\r\n",
    "    check = 0\r\n",
    "    for element in elements:\r\n",
    "        if bool(element):\r\n",
    "            check = 1\r\n",
    "            # 하나라도 True면 True를 반환하므로 다음을 더 반복해볼 필요가 없다.\r\n",
    "            break\r\n",
    "    # 0이면 False를 반환, 1이면 True를 반환    \r\n",
    "    return bool(check)"
   ],
   "outputs": [],
   "metadata": {}
  },
  {
   "cell_type": "code",
   "execution_count": 16,
   "source": [
    "print(my_any([1, 2, 5, '6']))\r\n",
    "print(my_any([[], 2, 5, '6']))\r\n",
    "print(my_any([0]))\r\n",
    "print(any([1, 2, 5, '6']), any([[], 2, 5, '6']), any([0]))"
   ],
   "outputs": [
    {
     "output_type": "stream",
     "name": "stdout",
     "text": [
      "True\n",
      "True\n",
      "False\n",
      "True True False\n"
     ]
    }
   ],
   "metadata": {}
  },
  {
   "cell_type": "code",
   "execution_count": 17,
   "source": [
    "def my_any(elements):\r\n",
    "    for element in elements:\r\n",
    "        if element:\r\n",
    "            return True\r\n",
    "    return False"
   ],
   "outputs": [],
   "metadata": {}
  },
  {
   "cell_type": "code",
   "execution_count": 18,
   "source": [
    "print(my_any([1, 2, 5, '6']))\r\n",
    "print(my_any([[], 2, 5, '6']))\r\n",
    "print(my_any([0]))\r\n",
    "print(any([1, 2, 5, '6']), any([[], 2, 5, '6']), any([0]))"
   ],
   "outputs": [
    {
     "output_type": "stream",
     "name": "stdout",
     "text": [
      "True\n",
      "True\n",
      "False\n",
      "True True False\n"
     ]
    }
   ],
   "metadata": {}
  }
 ],
 "metadata": {
  "kernelspec": {
   "name": "python3",
   "display_name": "Python 3.9.6 64-bit"
  },
  "language_info": {
   "codemirror_mode": {
    "name": "ipython",
    "version": 3
   },
   "file_extension": ".py",
   "mimetype": "text/x-python",
   "name": "python",
   "nbconvert_exporter": "python",
   "pygments_lexer": "ipython3",
   "version": "3.9.6"
  },
  "toc": {
   "base_numbering": 1,
   "nav_menu": {},
   "number_sections": true,
   "sideBar": true,
   "skip_h1_title": false,
   "title_cell": "Table of Contents",
   "title_sidebar": "Contents",
   "toc_cell": false,
   "toc_position": {},
   "toc_section_display": true,
   "toc_window_display": false
  },
  "interpreter": {
   "hash": "826c1ff5c4179778aab3a3c529716f5482c58a2cdc9450e70eef1a1010bf897b"
  }
 },
 "nbformat": 4,
 "nbformat_minor": 4
}