{
 "cells": [
  {
   "cell_type": "markdown",
   "source": [
    "# Practice 1\r\n",
    "\r\n",
    "- 복잡한 자료구조의 (2차원 리스트) 반복문"
   ],
   "metadata": {}
  },
  {
   "cell_type": "markdown",
   "source": [
    "## 1. 복잡한 리스트의 합\r\n",
    "- 주어진 아래의 리스트를 반복하여 숫자의 합을 반환하시오.\r\n",
    "\r\n",
    "---\r\n",
    "**[예시 입력]**\r\n",
    "\r\n",
    "```python\r\n",
    "numbers = [\r\n",
    "    [1, 4],\r\n",
    "    [10, 5],\r\n",
    "    [20, 30]    \r\n",
    "]\r\n",
    "\r\n",
    "sum_list(numbers)\r\n",
    "```\r\n",
    "\r\n",
    "**예시 출력**\r\n",
    "```python\r\n",
    "# 70\r\n",
    "```"
   ],
   "metadata": {}
  },
  {
   "cell_type": "code",
   "execution_count": 1,
   "source": [
    "numbers = [\r\n",
    "    [1, 4],\r\n",
    "    [10, 5],\r\n",
    "    [20, 30]\r\n",
    "    ]"
   ],
   "outputs": [],
   "metadata": {}
  },
  {
   "cell_type": "markdown",
   "source": [
    "> for문을 활용한 풀이"
   ],
   "metadata": {}
  },
  {
   "cell_type": "code",
   "execution_count": 2,
   "source": [
    "def sum_list(numbers):\r\n",
    "    total = 0\r\n",
    "    for number in numbers:\r\n",
    "        total += sum(number)\r\n",
    "    return total"
   ],
   "outputs": [],
   "metadata": {}
  },
  {
   "cell_type": "code",
   "execution_count": 3,
   "source": [
    "def sum_list(numbers):\r\n",
    "    total = 0\r\n",
    "    for number in numbers:\r\n",
    "        for n in number:\r\n",
    "            total += n\r\n",
    "    return total"
   ],
   "outputs": [],
   "metadata": {}
  },
  {
   "cell_type": "code",
   "execution_count": 4,
   "source": [
    "print(sum_list(numbers))"
   ],
   "outputs": [
    {
     "output_type": "stream",
     "name": "stdout",
     "text": [
      "70\n"
     ]
    }
   ],
   "metadata": {}
  },
  {
   "cell_type": "markdown",
   "source": [
    "> Index로 접근하여 풀이"
   ],
   "metadata": {}
  },
  {
   "cell_type": "code",
   "execution_count": 5,
   "source": [
    "def sum_list_index(numbers):\r\n",
    "    total = 0\r\n",
    "    for m in range(len(numbers)):\r\n",
    "        for n in range(len(numbers[m])):\r\n",
    "            total += numbers[m][n]\r\n",
    "    return total"
   ],
   "outputs": [],
   "metadata": {}
  },
  {
   "cell_type": "code",
   "execution_count": 6,
   "source": [
    "print(sum_list_index(numbers))"
   ],
   "outputs": [
    {
     "output_type": "stream",
     "name": "stdout",
     "text": [
      "70\n"
     ]
    }
   ],
   "metadata": {}
  },
  {
   "cell_type": "markdown",
   "source": [
    "> while문을 활용한 풀이"
   ],
   "metadata": {}
  },
  {
   "cell_type": "code",
   "execution_count": 7,
   "source": [
    "def sum_list_while(numbers):\r\n",
    "    cnt = 0\r\n",
    "    total = 0\r\n",
    "    while cnt < len(numbers):\r\n",
    "        for number in numbers:\r\n",
    "            for n in number:\r\n",
    "                total += n\r\n",
    "            cnt += 1\r\n",
    "    return total"
   ],
   "outputs": [],
   "metadata": {}
  },
  {
   "cell_type": "code",
   "execution_count": 8,
   "source": [
    "print(sum_list_while(numbers))"
   ],
   "outputs": [
    {
     "output_type": "stream",
     "name": "stdout",
     "text": [
      "70\n"
     ]
    }
   ],
   "metadata": {}
  },
  {
   "cell_type": "markdown",
   "source": [
    "## 2. 시험 점수\r\n",
    "\r\n",
    "* A반 학생들의 점수는 아래와 같고, students 리스트에 저장되어 있다.\r\n",
    "\r\n",
    "    * A학생(국어 100점, 수학 80점, 영어 100점)\r\n",
    "    * B학생(국어 90점, 수학 90점, 영어 60점)\r\n",
    "    * C학생(국어 80점, 수학 80점, 영어 80점)\r\n",
    "\r\n",
    "### 2-1. 학생별 출력\r\n",
    "\r\n",
    "* 아래의 리스트를 반복하여 `학생별 총합`을 순서대로 `출력`하시오.\r\n",
    "\r\n",
    "* `sum` 함수 사용 금지\r\n",
    "\r\n",
    "---\r\n",
    "**[예시 입력]**\r\n",
    "\r\n",
    "```python\r\n",
    "students = [\r\n",
    " [100, 80, 100],\r\n",
    " [90, 90, 60],\r\n",
    " [80, 80, 80]\r\n",
    "]\r\n",
    "```\r\n",
    "\r\n",
    "**[예시 출력]**\r\n",
    "```\r\n",
    "280\r\n",
    "240\r\n",
    "240\r\n",
    "```"
   ],
   "metadata": {}
  },
  {
   "cell_type": "code",
   "execution_count": 9,
   "source": [
    "students = [\r\n",
    " [100, 80, 100],\r\n",
    " [90, 90, 60],\r\n",
    " [80, 80, 80]\r\n",
    "]"
   ],
   "outputs": [],
   "metadata": {}
  },
  {
   "cell_type": "code",
   "execution_count": 10,
   "source": [
    "for scores in students:\r\n",
    "    total = 0\r\n",
    "    for score in scores:\r\n",
    "        total += score\r\n",
    "    print(total)"
   ],
   "outputs": [
    {
     "output_type": "stream",
     "name": "stdout",
     "text": [
      "280\n",
      "240\n",
      "240\n"
     ]
    }
   ],
   "metadata": {}
  },
  {
   "cell_type": "markdown",
   "source": [
    "### 2-2. 과목별 출력\r\n",
    "\r\n",
    "* 아래의 리스트를 반복하여 `과목별 총합`을 순서대로 `출력`하시오.\r\n",
    "* `sum` 함수 사용 금지\r\n",
    "\r\n",
    "---\r\n",
    "**[예시 입력]**\r\n",
    "\r\n",
    "```python\r\n",
    "students = [\r\n",
    " [100, 80, 100],\r\n",
    " [90, 90, 60],\r\n",
    " [80, 80, 80]\r\n",
    "]\r\n",
    "```\r\n",
    "\r\n",
    "**[예시 출력]**\r\n",
    "```\r\n",
    "270\r\n",
    "250\r\n",
    "240\r\n",
    "```"
   ],
   "metadata": {}
  },
  {
   "cell_type": "code",
   "execution_count": 11,
   "source": [
    "students = [\r\n",
    " [100, 80, 100],\r\n",
    " [90, 90, 60],\r\n",
    " [80, 80, 80]\r\n",
    "]"
   ],
   "outputs": [],
   "metadata": {}
  },
  {
   "cell_type": "code",
   "execution_count": 12,
   "source": [
    "for m in range(len(students)):\r\n",
    "    total = 0\r\n",
    "    for n in range(len(students[m])):\r\n",
    "        total += students[n][m]\r\n",
    "    print(total)"
   ],
   "outputs": [
    {
     "output_type": "stream",
     "name": "stdout",
     "text": [
      "270\n",
      "250\n",
      "240\n"
     ]
    }
   ],
   "metadata": {}
  }
 ],
 "metadata": {
  "kernelspec": {
   "name": "python3",
   "display_name": "Python 3.9.6 64-bit"
  },
  "language_info": {
   "codemirror_mode": {
    "name": "ipython",
    "version": 3
   },
   "file_extension": ".py",
   "mimetype": "text/x-python",
   "name": "python",
   "nbconvert_exporter": "python",
   "pygments_lexer": "ipython3",
   "version": "3.9.6"
  },
  "toc": {
   "base_numbering": 1,
   "nav_menu": {},
   "number_sections": true,
   "sideBar": true,
   "skip_h1_title": false,
   "title_cell": "Table of Contents",
   "title_sidebar": "Contents",
   "toc_cell": false,
   "toc_position": {},
   "toc_section_display": true,
   "toc_window_display": false
  },
  "interpreter": {
   "hash": "826c1ff5c4179778aab3a3c529716f5482c58a2cdc9450e70eef1a1010bf897b"
  }
 },
 "nbformat": 4,
 "nbformat_minor": 4
}