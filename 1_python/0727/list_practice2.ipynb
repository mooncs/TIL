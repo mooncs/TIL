{
 "cells": [
  {
   "cell_type": "markdown",
   "source": [
    "# Practice 2\r\n",
    "- 자료 구조 "
   ],
   "metadata": {}
  },
  {
   "cell_type": "markdown",
   "source": [
    "## 1. 모든 위치\r\n",
    "\r\n",
    "- 주어진 문자열(text)에서 제시된 알파벳(alphabet)의 등장 위치를 리스트로 반환하시오.\r\n",
    "- 해당 알파벳이 등장하지 않으면, -1을 반환하시오.\r\n",
    "\r\n",
    "---\r\n",
    "\r\n",
    "[예시]\r\n",
    "\r\n",
    "```python\r\n",
    "print(my_find('apple', 'p')) # [1, 2]\r\n",
    "print(my_find('a', 'p'))     # -1\r\n",
    "```\r\n"
   ],
   "metadata": {}
  },
  {
   "cell_type": "code",
   "execution_count": 1,
   "source": [
    "def my_find(text, alphabet):\r\n",
    "    if alphabet in text:\r\n",
    "        location = [i for i in range(len(text)) if text[i] == alphabet]\r\n",
    "        return location\r\n",
    "    return -1"
   ],
   "outputs": [],
   "metadata": {}
  },
  {
   "cell_type": "code",
   "execution_count": 2,
   "source": [
    "print(my_find('apple', 'p'))\r\n",
    "print(my_find('a', 'p'))"
   ],
   "outputs": [
    {
     "output_type": "stream",
     "name": "stdout",
     "text": [
      "[1, 2]\n",
      "-1\n"
     ]
    }
   ],
   "metadata": {}
  },
  {
   "cell_type": "markdown",
   "source": [
    "## 2. 출석 체크\r\n",
    "\r\n",
    "- 주어진 학생 n과 출석한 학생명부 students 문자열이 있다. 결석한 학생들로 구성된 문자열을 반환하시오.\r\n",
    "- n이 7일 때, 1 2 3 4 5 6 7의 출석 번호가 부여되고,\r\n",
    "- '1 3 5'는 출석한 학생 명부이다. \r\n",
    "- 즉, 결석한 학생 명부 '2 4 6 7'을 return 해야 한다.\r\n",
    "\r\n",
    "---\r\n",
    "\r\n",
    "[예시]\r\n",
    "\r\n",
    "```python\r\n",
    "print(check(7, '1 3 5')) # 2 4 6 7\r\n",
    "```"
   ],
   "metadata": {}
  },
  {
   "cell_type": "code",
   "execution_count": 3,
   "source": [
    "def check(n, students):\r\n",
    "    student = list( map(int, students.split()) )\r\n",
    "    absent = ' '.join( [str(i) for i in range(1, n+1) if i not in student] )\r\n",
    "    return absent"
   ],
   "outputs": [],
   "metadata": {}
  },
  {
   "cell_type": "code",
   "execution_count": 4,
   "source": [
    "print(check(7, '1 3 5')) # 2 4 6 7"
   ],
   "outputs": [
    {
     "output_type": "stream",
     "name": "stdout",
     "text": [
      "2 4 6 7\n"
     ]
    }
   ],
   "metadata": {
    "ExecuteTime": {
     "end_time": "2020-07-22T07:58:30.841852Z",
     "start_time": "2020-07-22T07:58:30.838924Z"
    }
   }
  }
 ],
 "metadata": {
  "kernelspec": {
   "name": "python3",
   "display_name": "Python 3.9.6 64-bit"
  },
  "language_info": {
   "codemirror_mode": {
    "name": "ipython",
    "version": 3
   },
   "file_extension": ".py",
   "mimetype": "text/x-python",
   "name": "python",
   "nbconvert_exporter": "python",
   "pygments_lexer": "ipython3",
   "version": "3.9.6"
  },
  "toc": {
   "base_numbering": 1,
   "nav_menu": {},
   "number_sections": true,
   "sideBar": true,
   "skip_h1_title": false,
   "title_cell": "Table of Contents",
   "title_sidebar": "Contents",
   "toc_cell": false,
   "toc_position": {},
   "toc_section_display": true,
   "toc_window_display": false
  },
  "interpreter": {
   "hash": "826c1ff5c4179778aab3a3c529716f5482c58a2cdc9450e70eef1a1010bf897b"
  }
 },
 "nbformat": 4,
 "nbformat_minor": 4
}