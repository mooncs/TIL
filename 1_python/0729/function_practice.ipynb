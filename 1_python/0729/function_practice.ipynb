{
 "cells": [
  {
   "cell_type": "markdown",
   "source": [
    "# function Practice"
   ],
   "metadata": {}
  },
  {
   "cell_type": "markdown",
   "source": [
    "## 1. 종합소득세 계산하기\r\n",
    "\r\n",
    "> A라는 나라에서는 종합소득세는 과세표준 금액 구간에 따라 다른 세율이 적용된다.\r\n",
    "> \r\n",
    "> 즉, 1,300만원을 벌었을 경우 `1,200*0.06 + 100*0.15`를 계산한 결과가 납부해야 하는 세액이다. \r\n",
    "> \r\n",
    "> 납부해야하는 세금의 결과를 반환하는 함수 `tax()`를 작성하시오."
   ],
   "metadata": {}
  },
  {
   "cell_type": "markdown",
   "source": [
    "|과세표준액|세율|\r\n",
    "|-------|---|\r\n",
    "|1,200이하|6%|\r\n",
    "|1,200 ~ 4,600|15%|\r\n",
    "|4,600 ~ |35%|"
   ],
   "metadata": {}
  },
  {
   "cell_type": "code",
   "execution_count": 1,
   "source": [
    "def tax(won):\r\n",
    "    if won <= 1200:\r\n",
    "        return won*0.06\r\n",
    "    elif won <= 4600:\r\n",
    "        return 72 + (won-1200)*0.15\r\n",
    "    elif won <= 8800:\r\n",
    "        return 582 + (won-4600)*0.35"
   ],
   "outputs": [],
   "metadata": {}
  },
  {
   "cell_type": "code",
   "execution_count": 2,
   "source": [
    "print(tax(1200))    # 72.0\r\n",
    "print(tax(4600))    # 528.0\r\n",
    "print(tax(5000))    # 722.0"
   ],
   "outputs": [
    {
     "output_type": "stream",
     "name": "stdout",
     "text": [
      "72.0\n",
      "582.0\n",
      "722.0\n"
     ]
    }
   ],
   "metadata": {}
  },
  {
   "cell_type": "markdown",
   "source": [
    "## 2. 카쉐어링 요금 계산하기\r\n",
    "\r\n",
    "> 카쉐어링 서비스는 요금을 다음과 같이 계산한다. \r\n",
    "> \r\n",
    "> 1. 대여는 10분 단위로 가능하다.\r\n",
    "> 2. 대여 요금 : 10분당 1,200원\r\n",
    ">\r\n",
    "> 3. 보험료 : 30분당 525원 (50분을 빌리면, 1시간으로 계산)\r\n",
    ">\r\n",
    "> 4. 주행 요금 : km당 170원 (주행 요금은 100km가 넘어가면, 넘어간 부분에 대하여 할인이 50% 적용)\r\n",
    ">\r\n",
    "> 예) 160km를 달렸으면, 170\\*100 + 85 \\*60\r\n",
    ">\r\n",
    "> 양의 정수인 대여시간(분)과 주행거리를 받아 계산 결과를 반환하는 함수 `fee()`를 작성하시오.\r\n"
   ],
   "metadata": {}
  },
  {
   "cell_type": "code",
   "execution_count": 3,
   "source": [
    "def fee(minute, distance):\r\n",
    "    total = 0\r\n",
    "\r\n",
    "    # 주행요금 더하기\r\n",
    "    if distance > 100:\r\n",
    "        total += 17000 + (distance-100)*85\r\n",
    "    else:\r\n",
    "        total += distance*170\r\n",
    "\r\n",
    "    # 대여요금 더하기\r\n",
    "    if minute % 10:\r\n",
    "        total += (minute//10+1)*1200\r\n",
    "    else:\r\n",
    "        total += (minute//10)*1200\r\n",
    "\r\n",
    "    # 보험료 더하기\r\n",
    "    if minute % 30:\r\n",
    "        total += (minute//30+1)*525\r\n",
    "    else:\r\n",
    "        total += (minute//30)*525\r\n",
    "\r\n",
    "    return total"
   ],
   "outputs": [],
   "metadata": {}
  },
  {
   "cell_type": "code",
   "execution_count": 4,
   "source": [
    "print(fee(600, 50))     # 91000\r\n",
    "print(fee(600, 110))    # 100350"
   ],
   "outputs": [
    {
     "output_type": "stream",
     "name": "stdout",
     "text": [
      "91000\n",
      "100350\n"
     ]
    }
   ],
   "metadata": {}
  },
  {
   "cell_type": "code",
   "execution_count": 5,
   "source": [
    "# math.ceil 사용\r\n",
    "import math\r\n",
    "\r\n",
    "def fee(minute, distance):\r\n",
    "    total = 0\r\n",
    "\r\n",
    "    # 주행요금 더하기\r\n",
    "    if distance > 100:\r\n",
    "        total += 17000 + (distance-100)*85\r\n",
    "    else:\r\n",
    "        total += distance*170\r\n",
    "\r\n",
    "    # 대여요금 더하기\r\n",
    "    if minute % 10:\r\n",
    "        total += math.ceil(minute/10)*1200\r\n",
    "    else:\r\n",
    "        total += (minute/10)*1200\r\n",
    "\r\n",
    "    # 보험료 더하기\r\n",
    "    if minute % 30:\r\n",
    "        total += math.ceil(minute/30)*525\r\n",
    "    else:\r\n",
    "        total += (minute/30)*525\r\n",
    "\r\n",
    "    return int(total)"
   ],
   "outputs": [],
   "metadata": {}
  },
  {
   "cell_type": "code",
   "execution_count": 6,
   "source": [
    "print(fee(600, 50))\r\n",
    "print(fee(600, 110))"
   ],
   "outputs": [
    {
     "output_type": "stream",
     "name": "stdout",
     "text": [
      "91000\n",
      "100350\n"
     ]
    }
   ],
   "metadata": {}
  },
  {
   "cell_type": "markdown",
   "source": [
    "## 3. 문자열 탐색\r\n",
    "\r\n",
    "> 문자열 요소로만 이루어진 리스트를 넣었을 때, 문자열 길이가 2 이상이고 주어진 문자열의 첫번째와 마지막 문자가 같은 문자열의 수를 카운트하는 함수 `start_end()`를 작성하시오."
   ],
   "metadata": {}
  },
  {
   "cell_type": "code",
   "execution_count": 7,
   "source": [
    "def start_end(words):\r\n",
    "    cnt = 0\r\n",
    "    for word in words:\r\n",
    "        if len(word)>=2 and word[0]==word[-1]:\r\n",
    "            cnt += 1\r\n",
    "    return cnt"
   ],
   "outputs": [],
   "metadata": {}
  },
  {
   "cell_type": "code",
   "execution_count": 8,
   "source": [
    "print(start_end(['level', 'asdwe', 's', 'abceda', 'gsdwrtfg']))     # 3"
   ],
   "outputs": [
    {
     "output_type": "stream",
     "name": "stdout",
     "text": [
      "3\n"
     ]
    }
   ],
   "metadata": {}
  },
  {
   "cell_type": "markdown",
   "source": [
    "## 4. Collatz 추측\r\n",
    "\r\n",
    "> 1937년 Collatz란 사람에 의해 제기된 이 추측은, 주어진 수가 1이 될때까지 다음 작업을 반복하면, 모든 수를 1로 만들 수 있다는 추측이다. 그 원리는 아래와 같다.\r\n",
    ">\r\n",
    "> 1. 입력된 수가 짝수라면 2로 나눈다. \r\n",
    "> 2. 입력된 수가 홀수라면 3을 곱하고 1을 더한다.\r\n",
    "> 3. 결과로 나온 수에 같은 작업을 1이 될 때까지 반복한다.\r\n",
    ">\r\n",
    ">  예를 들어, 입력된 수가 6이라면 6 → 3 → 10 → 5 → 16 → 8 → 4 → 2 → 1 이 되어 총 8번 만에 1이 된다.\r\n",
    ">\r\n",
    "> 위 작업을 몇 번이나 반복해야하는지 반환하는 함수 `collatz()`를 작성하시오 (단, 작업을 500번을 반복해도 1이 되지 않는다면 –1을 반환)"
   ],
   "metadata": {}
  },
  {
   "cell_type": "code",
   "execution_count": 9,
   "source": [
    "def collatz(num):\r\n",
    "    cnt = 0\r\n",
    "    while num != 1:\r\n",
    "        if num % 2:\r\n",
    "            num = num*3 + 1\r\n",
    "            cnt += 1\r\n",
    "        else:\r\n",
    "            num = num/2\r\n",
    "            cnt += 1\r\n",
    "        if cnt > 500:\r\n",
    "            return -1\r\n",
    "    return cnt"
   ],
   "outputs": [],
   "metadata": {}
  },
  {
   "cell_type": "code",
   "execution_count": 10,
   "source": [
    "print(collatz(6))           # 8\r\n",
    "print(collatz(16))          # 4\r\n",
    "print(collatz(27))          # 111\r\n",
    "print(collatz(626331))      # -1"
   ],
   "outputs": [
    {
     "output_type": "stream",
     "name": "stdout",
     "text": [
      "8\n",
      "4\n",
      "111\n",
      "-1\n"
     ]
    }
   ],
   "metadata": {}
  },
  {
   "cell_type": "markdown",
   "source": [
    "## 5. 딕셔너리 뒤집기\r\n",
    "\r\n",
    "> 딕셔너리는 기본적으로 key와 value로 이뤄져있다.\r\n",
    ">\r\n",
    "> 딕셔너리를 입력받아 value와 key를 뒤집은 결과를 반환하는 함수 `dict_invert()`를 작성하시오."
   ],
   "metadata": {}
  },
  {
   "cell_type": "code",
   "execution_count": 11,
   "source": [
    "def dict_invert(my_dict):\r\n",
    "    invert_dict   = {}\r\n",
    "    invert_values = []\r\n",
    "\r\n",
    "    for key, value in my_dict.items():\r\n",
    "        if list(my_dict.values()).count(value)>1:\r\n",
    "            invert_values.append(key)\r\n",
    "            invert_dict[value] = invert_values\r\n",
    "            \r\n",
    "        else:\r\n",
    "            invert_dict[value] = [key]\r\n",
    "        \r\n",
    "    return invert_dict"
   ],
   "outputs": [],
   "metadata": {}
  },
  {
   "cell_type": "code",
   "execution_count": 12,
   "source": [
    "print(dict_invert({1: 10, 2: 20, 3: 30}))           # {10: [1], 20: [2], 30: [3]}\r\n",
    "print(dict_invert({1: 10, 2: 20, 3: 30, 4: 30}))    # {10: [1], 20: [2], 30: [3, 4]}\r\n",
    "print(dict_invert({1: True, 2: True, 3: True}))     # {True: [1, 2, 3]}"
   ],
   "outputs": [
    {
     "output_type": "stream",
     "name": "stdout",
     "text": [
      "{10: [1], 20: [2], 30: [3]}\n",
      "{10: [1], 20: [2], 30: [3, 4]}\n",
      "{True: [1, 2, 3]}\n"
     ]
    }
   ],
   "metadata": {}
  },
  {
   "cell_type": "code",
   "execution_count": 13,
   "source": [
    "def dict_invert2(my_dict):\r\n",
    "    invert_dict = {}\r\n",
    "    for key, value in my_dict.items():\r\n",
    "        if value not in invert_dict:\r\n",
    "            invert_dict[value] = [key]\r\n",
    "        else:\r\n",
    "            invert_dict[value].append(key)\r\n",
    "    return invert_dict"
   ],
   "outputs": [],
   "metadata": {}
  },
  {
   "cell_type": "code",
   "execution_count": 14,
   "source": [
    "print(dict_invert2({1: 10, 2: 20, 3: 30}))           # {10: [1], 20: [2], 30: [3]}\r\n",
    "print(dict_invert2({1: 10, 2: 20, 3: 30, 4: 30}))    # {10: [1], 20: [2], 30: [3, 4]}\r\n",
    "print(dict_invert2({1: True, 2: True, 3: True}))     # {True: [1, 2, 3]}"
   ],
   "outputs": [
    {
     "output_type": "stream",
     "name": "stdout",
     "text": [
      "{10: [1], 20: [2], 30: [3]}\n",
      "{10: [1], 20: [2], 30: [3, 4]}\n",
      "{True: [1, 2, 3]}\n"
     ]
    }
   ],
   "metadata": {}
  },
  {
   "cell_type": "code",
   "execution_count": 15,
   "source": [
    "# fail[1]\r\n",
    "def dict_invert(my_dict):\r\n",
    "    return {value:[key] for key, value in my_dict.items()}"
   ],
   "outputs": [],
   "metadata": {}
  },
  {
   "cell_type": "code",
   "execution_count": 16,
   "source": [
    "print(dict_invert({1: 10, 2: 20, 3: 30}))\r\n",
    "print(dict_invert({1: 10, 2: 20, 3: 30, 4: 30}))\r\n",
    "print(dict_invert({1: True, 2: True, 3: True}))"
   ],
   "outputs": [
    {
     "output_type": "stream",
     "name": "stdout",
     "text": [
      "{10: [1], 20: [2], 30: [3]}\n",
      "{10: [1], 20: [2], 30: [4]}\n",
      "{True: [3]}\n"
     ]
    }
   ],
   "metadata": {}
  }
 ],
 "metadata": {
  "kernelspec": {
   "name": "python3",
   "display_name": "Python 3.9.6 64-bit"
  },
  "language_info": {
   "codemirror_mode": {
    "name": "ipython",
    "version": 3
   },
   "file_extension": ".py",
   "mimetype": "text/x-python",
   "name": "python",
   "nbconvert_exporter": "python",
   "pygments_lexer": "ipython3",
   "version": "3.9.6"
  },
  "toc": {
   "base_numbering": 1,
   "nav_menu": {},
   "number_sections": true,
   "sideBar": true,
   "skip_h1_title": false,
   "title_cell": "Table of Contents",
   "title_sidebar": "Contents",
   "toc_cell": false,
   "toc_position": {},
   "toc_section_display": true,
   "toc_window_display": false
  },
  "interpreter": {
   "hash": "826c1ff5c4179778aab3a3c529716f5482c58a2cdc9450e70eef1a1010bf897b"
  }
 },
 "nbformat": 4,
 "nbformat_minor": 4
}