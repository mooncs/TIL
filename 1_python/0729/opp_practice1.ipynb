{
 "cells": [
  {
   "cell_type": "markdown",
   "source": [
    "# OOP(Object-Oriented-Programming) Practice 1"
   ],
   "metadata": {}
  },
  {
   "cell_type": "markdown",
   "source": [
    "## Doggy\r\n",
    "\r\n",
    "> 개의 속성과 행위를 정의하는 Doggy 클래스 만들기\r\n",
    ">\r\n",
    "> 구성 요소\r\n",
    ">\r\n",
    "> 1. 초기화 메서드는 인자로 개의 이름과 견종을 받아서 인스턴스 변수에 할당한다.\r\n",
    ">\r\n",
    "> 2. 클래스 변수는 태어난 개의 숫자와 현재 있는 개의 숫자를 기록하는 변수로 구성한다.\r\n",
    ">     - 개가 태어나면 `num_of_dogs`와 `birth_of_dogs`의 값이 각 1씩 증가한다.\r\n",
    ">     - 개가 죽으면 `num_of_dogs`의 값이 1 감소한다.\r\n",
    "> 3. 개는 각자의 이름과 나이가 있다.\r\n",
    "> 4. `bark()` 메서드를 호출하면 개는 짖을 수 있다.\r\n",
    "> 5. `get_status()` 메서드를 호출하면 `birth_of_dogs`와 `num_of_dogs`의 수를 출력할 수 있다."
   ],
   "metadata": {}
  },
  {
   "cell_type": "code",
   "execution_count": 2,
   "source": [
    "class Doggy:\r\n",
    "    num_of_dogs = 0\r\n",
    "    birth_of_dogs = 0\r\n",
    "\r\n",
    "    def __init__(self, name, age):\r\n",
    "        self.name = name\r\n",
    "        self.age = age\r\n",
    "        Doggy.num_of_dogs += 1\r\n",
    "        Doggy.birth_of_dogs += 1\r\n",
    "\r\n",
    "    def bark(self):\r\n",
    "        return '왈왈'\r\n",
    "\r\n",
    "    @classmethod\r\n",
    "    def get_status(cls):\r\n",
    "        return f'Birth: {cls.birth_of_dogs}, Current: {cls.num_of_dogs}'\r\n",
    "\r\n",
    "    def __del__(self):\r\n",
    "        Doggy.num_of_dogs -= 1\r\n"
   ],
   "outputs": [],
   "metadata": {}
  },
  {
   "cell_type": "code",
   "execution_count": 3,
   "source": [
    "d1 = Doggy('왕배', '그레이하운드')\r\n",
    "d2 = Doggy('만복', '웰시코기')\r\n",
    "d3 = Doggy('코코', '포메라니안')\r\n",
    "\r\n",
    "print(d1.bark())\r\n",
    "print(d2.bark())\r\n",
    "print(d3.bark())\r\n",
    "\r\n",
    "print(Doggy.get_status())"
   ],
   "outputs": [
    {
     "output_type": "stream",
     "name": "stdout",
     "text": [
      "왈왈\n",
      "왈왈\n",
      "왈왈\n",
      "Birth: 3, Current: 3\n"
     ]
    }
   ],
   "metadata": {}
  }
 ],
 "metadata": {
  "kernelspec": {
   "name": "python3",
   "display_name": "Python 3.9.6 64-bit"
  },
  "language_info": {
   "codemirror_mode": {
    "name": "ipython",
    "version": 3
   },
   "file_extension": ".py",
   "mimetype": "text/x-python",
   "name": "python",
   "nbconvert_exporter": "python",
   "pygments_lexer": "ipython3",
   "version": "3.9.6"
  },
  "toc": {
   "base_numbering": 1,
   "nav_menu": {},
   "number_sections": true,
   "sideBar": true,
   "skip_h1_title": false,
   "title_cell": "Table of Contents",
   "title_sidebar": "Contents",
   "toc_cell": false,
   "toc_position": {},
   "toc_section_display": true,
   "toc_window_display": false
  },
  "interpreter": {
   "hash": "826c1ff5c4179778aab3a3c529716f5482c58a2cdc9450e70eef1a1010bf897b"
  }
 },
 "nbformat": 4,
 "nbformat_minor": 4
}