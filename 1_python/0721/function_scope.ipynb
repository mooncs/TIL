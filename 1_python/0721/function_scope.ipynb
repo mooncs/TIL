{
 "cells": [
  {
   "cell_type": "markdown",
   "source": [
    "# 함수 scope\r\n",
    "\r\n",
    "## 함수 scope\r\n",
    "- 함수는 코드 내부에 지역 스코프(local scope)를 생성하며, 그외의 공간인 전역 스코프(global scope)로 구분\r\n",
    "- 스코프\r\n",
    "  - 전역 스코프(global scope) : 코드 어디에서든 참조할 수 있는 공간\r\n",
    "  - 지역 스코프(local scope) : 함수가 만든 스코프, 함수 내부에서만 참조 가능\r\n",
    "- 변수\r\n",
    "  - 전역 변수(global variable) : 전역 스코프에 정의된 변수\r\n",
    "  - 지역 변수(local variable) : 지역 스코프에 정의된 변수"
   ],
   "metadata": {}
  },
  {
   "cell_type": "markdown",
   "source": [
    "## 변수 수명주기(lifecycle)\r\n",
    "- 변수는 각자의 수명주기(lifecycle)가 존재\r\n",
    "  - 빌트인 스코프(built-in scope)\r\n",
    "    - 파이썬이 실행된 이후부터 영원히 유지\r\n",
    "  - 전역 스코프(global scope)\r\n",
    "    - 모듈이 호출된 시점 이후 혹은 인터프리터가 끝날 떄까지 유지\r\n",
    "  - 지역 스코프(local scope)\r\n",
    "    - 함수가 호출될 때 생성되고, 함수가 종료될 때까지 유지"
   ],
   "metadata": {}
  },
  {
   "cell_type": "code",
   "execution_count": 1,
   "source": [
    "# 함수 스코프 예시\r\n",
    "def func():\r\n",
    "    a = 20\r\n",
    "    print('local', a)\r\n",
    "\r\n",
    "#local 20\r\n",
    "func()\r\n",
    "# NameError: name 'a' is not defined\r\n",
    "print('global', a)"
   ],
   "outputs": [
    {
     "output_type": "stream",
     "name": "stdout",
     "text": [
      "local 20\n"
     ]
    },
    {
     "output_type": "error",
     "ename": "NameError",
     "evalue": "name 'a' is not defined",
     "traceback": [
      "\u001b[1;31m---------------------------------------------------------------------------\u001b[0m",
      "\u001b[1;31mNameError\u001b[0m                                 Traceback (most recent call last)",
      "\u001b[1;32m~\\AppData\\Local\\Temp/ipykernel_3740/703164364.py\u001b[0m in \u001b[0;36m<module>\u001b[1;34m\u001b[0m\n\u001b[0;32m      7\u001b[0m \u001b[0mfunc\u001b[0m\u001b[1;33m(\u001b[0m\u001b[1;33m)\u001b[0m\u001b[1;33m\u001b[0m\u001b[1;33m\u001b[0m\u001b[0m\n\u001b[0;32m      8\u001b[0m \u001b[1;31m# NameError: name 'a' is not defined\u001b[0m\u001b[1;33m\u001b[0m\u001b[1;33m\u001b[0m\u001b[1;33m\u001b[0m\u001b[0m\n\u001b[1;32m----> 9\u001b[1;33m \u001b[0mprint\u001b[0m\u001b[1;33m(\u001b[0m\u001b[1;34m'global'\u001b[0m\u001b[1;33m,\u001b[0m \u001b[0ma\u001b[0m\u001b[1;33m)\u001b[0m\u001b[1;33m\u001b[0m\u001b[1;33m\u001b[0m\u001b[0m\n\u001b[0m",
      "\u001b[1;31mNameError\u001b[0m: name 'a' is not defined"
     ]
    }
   ],
   "metadata": {}
  },
  {
   "cell_type": "markdown",
   "source": [
    "## 이름 검색 규칙(Name Resolution)\r\n",
    "- 파이썬에서 사용되는 이름(식별자)들은 이름공간(namespace)에 저장되어 있다.\r\n",
    "- 아래와 같은 순서로 이름을 찾아나가며, LEGB Rule이라고 부른다.\r\n",
    "  - Local scope     : 함수\r\n",
    "  - Enclosed scope  : 특정 함수의 상위 함수\r\n",
    "  - Global scope    : 함수 밖의 변수, Import 모듈\r\n",
    "  - Built-in scope  : 파이썬 안에 내장되어 있는 함수 또는 속성\r\n",
    "- 즉, 함수 내에서는 바깥 스코프의 변수에 접근 가능하나 수정은 할 수 없다."
   ],
   "metadata": {}
  },
  {
   "cell_type": "code",
   "execution_count": 2,
   "source": [
    "# LEGB 예시\r\n",
    "\r\n",
    "a = 0\r\n",
    "b = 1\r\n",
    "\r\n",
    "def enclosed():\r\n",
    "    a = 10\r\n",
    "    c = 3\r\n",
    "    def local(c):\r\n",
    "        print(a, b, c)\r\n",
    "    local(300)\r\n",
    "    print(a, b, c)\r\n",
    "\r\n",
    "enclosed()\r\n",
    "\r\n",
    "print(a, b)"
   ],
   "outputs": [
    {
     "output_type": "stream",
     "name": "stdout",
     "text": [
      "10 1 300\n",
      "10 1 3\n",
      "0 1\n"
     ]
    }
   ],
   "metadata": {}
  },
  {
   "cell_type": "code",
   "execution_count": 3,
   "source": [
    "# LEGB 예시2\r\n",
    "\r\n",
    "print(sum)\r\n",
    "print(sum(range(2)))\r\n",
    "sum = 5\r\n",
    "print(sum)\r\n",
    "# TypeError: 'int' object is not callable\r\n",
    "# LEGB에 의해 Built-in scope의 내장 함수보다 5가 먼저 탐색\r\n",
    "print(sum(range(2)))"
   ],
   "outputs": [
    {
     "output_type": "stream",
     "name": "stdout",
     "text": [
      "<built-in function sum>\n",
      "1\n",
      "5\n"
     ]
    },
    {
     "output_type": "error",
     "ename": "TypeError",
     "evalue": "'int' object is not callable",
     "traceback": [
      "\u001b[1;31m---------------------------------------------------------------------------\u001b[0m",
      "\u001b[1;31mTypeError\u001b[0m                                 Traceback (most recent call last)",
      "\u001b[1;32m~\\AppData\\Local\\Temp/ipykernel_3740/685452878.py\u001b[0m in \u001b[0;36m<module>\u001b[1;34m\u001b[0m\n\u001b[0;32m      7\u001b[0m \u001b[1;31m# TypeError: 'int' object is not callable\u001b[0m\u001b[1;33m\u001b[0m\u001b[1;33m\u001b[0m\u001b[1;33m\u001b[0m\u001b[0m\n\u001b[0;32m      8\u001b[0m \u001b[1;31m# LEGB에 의해 Built-in scope의 내장 함수보다 5가 먼저 탐색\u001b[0m\u001b[1;33m\u001b[0m\u001b[1;33m\u001b[0m\u001b[1;33m\u001b[0m\u001b[0m\n\u001b[1;32m----> 9\u001b[1;33m \u001b[0mprint\u001b[0m\u001b[1;33m(\u001b[0m\u001b[0msum\u001b[0m\u001b[1;33m(\u001b[0m\u001b[0mrange\u001b[0m\u001b[1;33m(\u001b[0m\u001b[1;36m2\u001b[0m\u001b[1;33m)\u001b[0m\u001b[1;33m)\u001b[0m\u001b[1;33m)\u001b[0m\u001b[1;33m\u001b[0m\u001b[1;33m\u001b[0m\u001b[0m\n\u001b[0m",
      "\u001b[1;31mTypeError\u001b[0m: 'int' object is not callable"
     ]
    }
   ],
   "metadata": {}
  },
  {
   "cell_type": "markdown",
   "source": [
    "## global\r\n",
    "- 현재 코드 블록 전체에 적용되며, 나열된 식별자(이름)들이 전역 변수임을 나타낸다.\r\n",
    "  - global에 나열된 이름은 같은 코드 블록에서 global 앞에 등장할 수 없다.\r\n",
    "  - global에 나열된 이름은 매개변수, for 루프대상, 클래스/함수 정의 등으로 정의되지 않아야 한다."
   ],
   "metadata": {}
  },
  {
   "cell_type": "code",
   "execution_count": 4,
   "source": [
    "# global 예시\r\n",
    "\r\n",
    "# 함수 내부에서 글로벌 변수 변경하기\r\n",
    "a = 10\r\n",
    "def func1():\r\n",
    "    global a\r\n",
    "    a = 3\r\n",
    "\r\n",
    "print(a)\r\n",
    "func1()\r\n",
    "print(a)"
   ],
   "outputs": [
    {
     "output_type": "stream",
     "name": "stdout",
     "text": [
      "10\n",
      "3\n"
     ]
    }
   ],
   "metadata": {}
  },
  {
   "cell_type": "code",
   "execution_count": 5,
   "source": [
    "# global 변수 사용 제한 예시\r\n",
    "\r\n",
    "# global에 나열된 이름은 같은 코드 블록에서 global 앞에 등장할 수 없다.\r\n",
    "# SyntaxError: name 'a' is used prior to global declaration\r\n",
    "a = 10\r\n",
    "def func1():\r\n",
    "    print(a)\r\n",
    "    global a\r\n",
    "    a = 3\r\n",
    "\r\n",
    "print(a)\r\n",
    "func1()\r\n",
    "print(a)"
   ],
   "outputs": [
    {
     "output_type": "error",
     "ename": "SyntaxError",
     "evalue": "name 'a' is used prior to global declaration (Temp/ipykernel_3740/3089744017.py, line 8)",
     "traceback": [
      "\u001b[1;36m  File \u001b[1;32m\"C:\\Users\\csmoo\\AppData\\Local\\Temp/ipykernel_3740/3089744017.py\"\u001b[1;36m, line \u001b[1;32m8\u001b[0m\n\u001b[1;33m    global a\u001b[0m\n\u001b[1;37m    ^\u001b[0m\n\u001b[1;31mSyntaxError\u001b[0m\u001b[1;31m:\u001b[0m name 'a' is used prior to global declaration\n"
     ]
    }
   ],
   "metadata": {}
  },
  {
   "cell_type": "code",
   "execution_count": 6,
   "source": [
    "# global 변수 사용 제한 예시2\r\n",
    "\r\n",
    "# global에 나열된 이름은 매개변수, for 루프대상, 클래스/함수 정의 등으로 정의되지 않아야 한다.\r\n",
    "# SyntaxError: name 'a' is parameter and global\r\n",
    "a = 10\r\n",
    "def func1(a):\r\n",
    "    global a\r\n",
    "    a = 3\r\n",
    "\r\n",
    "print(a)\r\n",
    "func1(3)\r\n",
    "print(a)"
   ],
   "outputs": [
    {
     "output_type": "error",
     "ename": "SyntaxError",
     "evalue": "name 'a' is parameter and global (Temp/ipykernel_3740/2014266680.py, line 7)",
     "traceback": [
      "\u001b[1;36m  File \u001b[1;32m\"C:\\Users\\csmoo\\AppData\\Local\\Temp/ipykernel_3740/2014266680.py\"\u001b[1;36m, line \u001b[1;32m7\u001b[0m\n\u001b[1;33m    global a\u001b[0m\n\u001b[1;37m    ^\u001b[0m\n\u001b[1;31mSyntaxError\u001b[0m\u001b[1;31m:\u001b[0m name 'a' is parameter and global\n"
     ]
    }
   ],
   "metadata": {}
  },
  {
   "cell_type": "markdown",
   "source": [
    "## nonlocal\r\n",
    "- 전역을 제외하고 가장 가까운 (둘러 싸고 있는) 스코프의 변수를 연결하도록 한다.\r\n",
    "  - nonlocal에 나열된 이름은 같은 코드 블록에서 nonlocal 앞에 등잘할 수 없다.\r\n",
    "  - nonlocal에 나열된 이름은 매개변수, for 루프대상, 클래스/함수 정의 등으로 정의되지 않아야 한다.\r\n",
    "- global과는 달리 이미 존재하는 이름과의 연결만 가능하다."
   ],
   "metadata": {}
  },
  {
   "cell_type": "code",
   "execution_count": 7,
   "source": [
    "# nonlocal 예시\r\n",
    "\r\n",
    "# enclosed scope(func1)의 변수 x의 변경\r\n",
    "x = 0\r\n",
    "def func1():\r\n",
    "    x = 1\r\n",
    "    def func2():\r\n",
    "        nonlocal x\r\n",
    "        x = 2\r\n",
    "    func2()\r\n",
    "    print(x)\r\n",
    "\r\n",
    "func1()\r\n",
    "print(x)"
   ],
   "outputs": [
    {
     "output_type": "stream",
     "name": "stdout",
     "text": [
      "2\n",
      "0\n"
     ]
    }
   ],
   "metadata": {}
  },
  {
   "cell_type": "code",
   "execution_count": 8,
   "source": [
    "# 선언된 적 없는 변수의 활용\r\n",
    "def func1():\r\n",
    "    global out\r\n",
    "    out = 3\r\n",
    "\r\n",
    "func1()\r\n",
    "print(out)"
   ],
   "outputs": [
    {
     "output_type": "stream",
     "name": "stdout",
     "text": [
      "3\n"
     ]
    }
   ],
   "metadata": {}
  },
  {
   "cell_type": "code",
   "execution_count": 9,
   "source": [
    "# 선언된 적 없는 변수의 활용\r\n",
    "\r\n",
    "# nonlocal은 이름공간상에 존재하는 변수만 가능\r\n",
    "# SyntaxError: no binding for nonlocal 'y' found\r\n",
    "def func1():\r\n",
    "    def func2():\r\n",
    "        nonlocal y\r\n",
    "        y = 2\r\n",
    "    func2()\r\n",
    "    print(y)\r\n",
    "\r\n",
    "func1()"
   ],
   "outputs": [
    {
     "output_type": "error",
     "ename": "SyntaxError",
     "evalue": "no binding for nonlocal 'y' found (Temp/ipykernel_3740/1471129424.py, line 7)",
     "traceback": [
      "\u001b[1;36m  File \u001b[1;32m\"C:\\Users\\csmoo\\AppData\\Local\\Temp/ipykernel_3740/1471129424.py\"\u001b[1;36m, line \u001b[1;32m7\u001b[0m\n\u001b[1;33m    nonlocal y\u001b[0m\n\u001b[1;37m    ^\u001b[0m\n\u001b[1;31mSyntaxError\u001b[0m\u001b[1;31m:\u001b[0m no binding for nonlocal 'y' found\n"
     ]
    }
   ],
   "metadata": {}
  },
  {
   "cell_type": "markdown",
   "source": [
    "## 주의\r\n",
    "- 기본적으로 함수에서 선언된 변수는 Local scope에 생성되며, 함수 종료 시 사라진다.\r\n",
    "- 해당 스코프에 변수가 없는 경우 LEGB rule에 의해 이름을 검색한다.\r\n",
    "  - 변수에 접근은 가능하지만, 해당 변수를 수정할 수는 없다.\r\n",
    "  - 값을 할당하는 경우 해당 스코프의 이름공간에 새롭게 생성되기 때문\r\n",
    "  - ★ 단, 함수 내에서 필요한 상위 스코프 변수는 인자로 넘겨서 활용할 것(클로저 제외)\r\n",
    "    - 클로저란? 어떤 함수 내부에 중첩된 형태로써 외부 스코프 변수에 접근 가능한 함수\r\n",
    "\r\n",
    "- 상위 스코프에 있는 변수를 수정하고 싶다면 global, nonlocal 키워드를 활용 가능하다.\r\n",
    "  - 단, 코드가 복잡해지면서 변수의 변경을 추적하기 어렵고, 예기치 못한 오류가 발생한다.\r\n",
    "  - 가급적 사용하지 않는 것을 권장하며, ★ 함수로 값을 바꾸고자 한다면 항상 인자로 넘기고 리턴 값을 사용하는 것을 추천한다."
   ],
   "metadata": {}
  }
 ],
 "metadata": {
  "orig_nbformat": 4,
  "language_info": {
   "name": "python",
   "version": "3.9.6",
   "mimetype": "text/x-python",
   "codemirror_mode": {
    "name": "ipython",
    "version": 3
   },
   "pygments_lexer": "ipython3",
   "nbconvert_exporter": "python",
   "file_extension": ".py"
  },
  "kernelspec": {
   "name": "python3",
   "display_name": "Python 3.9.6 64-bit"
  },
  "interpreter": {
   "hash": "826c1ff5c4179778aab3a3c529716f5482c58a2cdc9450e70eef1a1010bf897b"
  }
 },
 "nbformat": 4,
 "nbformat_minor": 2
}