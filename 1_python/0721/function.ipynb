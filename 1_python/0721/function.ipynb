{
 "cells": [
  {
   "cell_type": "markdown",
   "source": [
    "# 함수(Function)\r\n",
    "- 특정한 기능을 하는 코드의 조각(묶음)\r\n",
    "- 하나의 큰 프로그램을 여러 부분으로 나누어 같은 하수를 여러 상황에서 호출하고(`높은 재사용성`), 일부분을 수정하기 쉽다는(`유지보수 용이`) 장점을 가진다.\r\n",
    "- 함수를 쓰는 이유\r\n",
    "  - 가독성\r\n",
    "  - 재사용성\r\n",
    "  - 유지보수\r\n",
    "- 함수의 특징\r\n",
    "  - 함수의 이름\r\n",
    "  - 함수의 매개변수(parameters)\r\n",
    "  - 함수의 바디(body) - Docstring(선택적) 및 코드셋\r\n",
    "  - 함수의 반환값(return)"
   ],
   "metadata": {}
  },
  {
   "cell_type": "code",
   "execution_count": 1,
   "source": [
    "print('hi')"
   ],
   "outputs": [
    {
     "output_type": "stream",
     "name": "stdout",
     "text": [
      "hi\n"
     ]
    }
   ],
   "metadata": {}
  },
  {
   "cell_type": "code",
   "execution_count": 2,
   "source": [
    "x = -3\r\n",
    "y = abs(x)\r\n",
    "print(x, y)"
   ],
   "outputs": [
    {
     "output_type": "stream",
     "name": "stdout",
     "text": [
      "-3 3\n"
     ]
    }
   ],
   "metadata": {}
  },
  {
   "cell_type": "code",
   "execution_count": 3,
   "source": [
    "y = abs(-3) + sum([1, 2, 3])\r\n",
    "print(y)"
   ],
   "outputs": [
    {
     "output_type": "stream",
     "name": "stdout",
     "text": [
      "9\n"
     ]
    }
   ],
   "metadata": {}
  },
  {
   "cell_type": "code",
   "execution_count": 4,
   "source": [
    "# 조건문 반복문 활용\r\n",
    "# 초기 값 설정\r\n",
    "values = [100, 75, 85, 90, 65, 95, 90, 60, 85, 50, 90, 80]\r\n",
    "total = 0\r\n",
    "cnt = 0\r\n",
    "\r\n",
    "# 평균 정의\r\n",
    "for value in values:\r\n",
    "    total += value\r\n",
    "    cnt += 1\r\n",
    "mean = total / cnt\r\n",
    "\r\n",
    "# 분산 정의\r\n",
    "total_var = 0\r\n",
    "for value in values:\r\n",
    "    total_var += (value - mean) ** 2\r\n",
    "sum_var = total_var / cnt\r\n",
    "\r\n",
    "# 표준편차 정의\r\n",
    "target = sum_var\r\n",
    "count = 0\r\n",
    "while True:\r\n",
    "    count += 1\r\n",
    "    root = 0.5 * (target + (sum_var / target))\r\n",
    "    if (abs(root - target) < 0.00000000001):\r\n",
    "        break\r\n",
    "    target = root\r\n",
    "\r\n",
    "std_dev = target\r\n",
    "print(std_dev)"
   ],
   "outputs": [
    {
     "output_type": "stream",
     "name": "stdout",
     "text": [
      "14.49976053442111\n"
     ]
    }
   ],
   "metadata": {}
  },
  {
   "cell_type": "code",
   "execution_count": 5,
   "source": [
    "# 내장함수 활용\r\n",
    "import math\r\n",
    "\r\n",
    "values  = [100, 75, 85, 90, 65, 95, 90, 60, 85, 50, 90, 80]\r\n",
    "cnt     = len(values)\r\n",
    "mean    = sum(values) / cnt\r\n",
    "# pow(a, b) a의 b제곱을 계산\r\n",
    "sum_var = sum(pow(value - mean, 2) for value in values) / cnt\r\n",
    "std_div = math.sqrt(sum_var)\r\n",
    "\r\n",
    "print(std_dev)"
   ],
   "outputs": [
    {
     "output_type": "stream",
     "name": "stdout",
     "text": [
      "14.49976053442111\n"
     ]
    }
   ],
   "metadata": {}
  },
  {
   "cell_type": "code",
   "execution_count": 6,
   "source": [
    "# 한줄로 만들기\r\n",
    "import statistics\r\n",
    "\r\n",
    "values  = [100, 75, 85, 90, 65, 95, 90, 60, 85, 50, 90, 80]\r\n",
    "statistics.pstdev(values)"
   ],
   "outputs": [
    {
     "output_type": "execute_result",
     "data": {
      "text/plain": [
       "14.499760534421096"
      ]
     },
     "metadata": {},
     "execution_count": 6
    }
   ],
   "metadata": {}
  },
  {
   "cell_type": "code",
   "execution_count": null,
   "source": [
    "# def pstdev(data , mu=None):\r\n",
    "#     '''Return the square root of the population variance.\r\n",
    "\r\n",
    "#     See ''pvariance'' for arguments and other details.\r\n",
    "\r\n",
    "#     >>> pstdev([1.5, 2.5, 2.5, 2.75, 3.25, 4.75])\r\n",
    "#     0.986893273527251\r\n",
    "#     '''\r\n",
    "#     var = statistics.pvariance(data, mu)\r\n",
    "#     try:\r\n",
    "#         return var.sqrt()\r\n",
    "#     except AttributeError:\r\n",
    "#         return math.sqrt(var)"
   ],
   "outputs": [],
   "metadata": {}
  },
  {
   "cell_type": "markdown",
   "source": [
    "## Docstring(Document String)\r\n",
    "- 함수나 클래스의 설명"
   ],
   "metadata": {}
  },
  {
   "cell_type": "code",
   "execution_count": 7,
   "source": [
    "def foo():\r\n",
    "    \"\"\"이 함수는 foo입니다.\r\n",
    "    docstring으로 함수나 클래스의 기능을 설명합니다.\"\"\"\r\n",
    "\r\n",
    "foo.__doc__"
   ],
   "outputs": [
    {
     "output_type": "execute_result",
     "data": {
      "text/plain": [
       "'이 함수는 foo입니다.\\n    docstring으로 함수나 클래스의 기능을 설명합니다.'"
      ]
     },
     "metadata": {},
     "execution_count": 7
    }
   ],
   "metadata": {}
  },
  {
   "cell_type": "markdown",
   "source": [
    "## 함수의 선언\r\n",
    "- 함수의 선언은 `def` 키워드를 활용\r\n",
    "- `들여쓰기`를 통해 함수 body(실행할 코드 블록)를 작성\r\n",
    "  - Docstring은 함수 body 앞에 선택적으로 작성 가능\r\n",
    "  - 작성시에는 반드시 첫번째 문장에 문자영 ''' '''\r\n",
    "- 함수는 `매개변수(parameter)`를 넘겨줄 수도 있다.\r\n",
    "- 함수 동작 후에 `return`을 통해 결과값을 전달한다.\r\n",
    "  - 반드시 하나의 객체를 반환(return 값이 없으면, `None`을 반환)"
   ],
   "metadata": {}
  },
  {
   "cell_type": "markdown",
   "source": [
    "## 함수의 호출\r\n",
    "- 함수는 함수명()으로 호출\r\n",
    "  - 매개변수가 있는 경우, 함수명(값1, 값2, ...)으로 호출"
   ],
   "metadata": {}
  },
  {
   "cell_type": "code",
   "execution_count": 8,
   "source": [
    "num1 = 0\r\n",
    "num2 = 1\r\n",
    "\r\n",
    "def func1(a, b):\r\n",
    "    return a + b\r\n",
    "\r\n",
    "def func2(a, b):\r\n",
    "    return a - b\r\n",
    "\r\n",
    "def func3(a, b):\r\n",
    "    return func1(a, 5) + func2(5, b)\r\n",
    "\r\n",
    "result = func3(num1, num2)\r\n",
    "print(result)"
   ],
   "outputs": [
    {
     "output_type": "stream",
     "name": "stdout",
     "text": [
      "9\n"
     ]
    }
   ],
   "metadata": {}
  },
  {
   "cell_type": "markdown",
   "source": [
    "### [실습] 세제곱 함수\r\n",
    "> 입력 받은 수를 세제곱하여 반환하는 함수 cube를 작성하고, 함수 cube를 활용하여 2의 세제곱, 100의 세제곱을 구하시오."
   ],
   "metadata": {}
  },
  {
   "cell_type": "code",
   "execution_count": 9,
   "source": [
    "def cube(num):\r\n",
    "    return num ** 3\r\n",
    "\r\n",
    "result1 = cube(2)\r\n",
    "result2 = cube(100)\r\n",
    "\r\n",
    "print(result1, result2)"
   ],
   "outputs": [
    {
     "output_type": "stream",
     "name": "stdout",
     "text": [
      "8 1000000\n"
     ]
    }
   ],
   "metadata": {}
  },
  {
   "cell_type": "code",
   "execution_count": null,
   "source": [
    "# 내장함수 목록을 직접 확인\r\n",
    "dir(__builtins__)"
   ],
   "outputs": [],
   "metadata": {}
  },
  {
   "cell_type": "code",
   "execution_count": null,
   "source": [
    "# 편하게 써왔던 random.sample() 함수의 내부도 직접 확인\r\n",
    "# https://github.com/python/cpython/blob/master/Lib/random.py#L385"
   ],
   "outputs": [],
   "metadata": {}
  },
  {
   "cell_type": "markdown",
   "source": [
    "### [실습] max()\r\n",
    "> max()함수를 사용하지 않고, 정수 2개를 받아 큰 값을 반환하는 my_max 함수 만드시오."
   ],
   "metadata": {}
  },
  {
   "cell_type": "code",
   "execution_count": 11,
   "source": [
    "def my_max(a, b):\r\n",
    "    if a > b:\r\n",
    "        return a\r\n",
    "    elif b > a:\r\n",
    "        return b\r\n",
    "    else:\r\n",
    "        print('두 수는 같습니다.')\r\n",
    "\r\n",
    "my_max(1, 5)"
   ],
   "outputs": [
    {
     "output_type": "execute_result",
     "data": {
      "text/plain": [
       "5"
      ]
     },
     "metadata": {},
     "execution_count": 11
    }
   ],
   "metadata": {}
  }
 ],
 "metadata": {
  "orig_nbformat": 4,
  "language_info": {
   "name": "python",
   "version": "3.9.6",
   "mimetype": "text/x-python",
   "codemirror_mode": {
    "name": "ipython",
    "version": 3
   },
   "pygments_lexer": "ipython3",
   "nbconvert_exporter": "python",
   "file_extension": ".py"
  },
  "kernelspec": {
   "name": "python3",
   "display_name": "Python 3.9.6 64-bit"
  },
  "interpreter": {
   "hash": "826c1ff5c4179778aab3a3c529716f5482c58a2cdc9450e70eef1a1010bf897b"
  }
 },
 "nbformat": 4,
 "nbformat_minor": 2
}