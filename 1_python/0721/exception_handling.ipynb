{
 "cells": [
  {
   "cell_type": "markdown",
   "source": [
    "# 예외처리\r\n",
    "- try문(statement) / except절(clause)을 이용하여 예외 처리를 할 수 있다.\r\n",
    "- try 아래의 코드 블록이 실행된다.\r\n",
    "  - 예외가 발생되지 않으면, except 없이 실행 종료\r\n",
    "  - 예외가 발생하면, except 절이 실행된다."
   ],
   "metadata": {}
  },
  {
   "cell_type": "code",
   "execution_count": 1,
   "source": [
    "try:\r\n",
    "    num = input('숫자입력 :')\r\n",
    "    print(int(num))\r\n",
    "except ValueError:\r\n",
    "    print('숫자가 입력되지 않았습니다.')"
   ],
   "outputs": [
    {
     "output_type": "stream",
     "name": "stdout",
     "text": [
      "5\n"
     ]
    }
   ],
   "metadata": {}
  },
  {
   "cell_type": "code",
   "execution_count": 2,
   "source": [
    "try:\r\n",
    "    num = input('숫자입력 :')\r\n",
    "    print(int(num))\r\n",
    "except ValueError:\r\n",
    "    print('숫자가 입력되지 않았습니다.')"
   ],
   "outputs": [
    {
     "output_type": "stream",
     "name": "stdout",
     "text": [
      "숫자가 입력되지 않았습니다.\n"
     ]
    }
   ],
   "metadata": {}
  },
  {
   "cell_type": "code",
   "execution_count": 3,
   "source": [
    "try:\r\n",
    "    num = input('숫자입력 :')\r\n",
    "    print(int(num))\r\n",
    "# except 에러의 종류가 없으면, 모든 에러에 반응 \r\n",
    "except:\r\n",
    "    print('숫자가 입력되지 않았습니다.')"
   ],
   "outputs": [
    {
     "output_type": "stream",
     "name": "stdout",
     "text": [
      "숫자가 입력되지 않았습니다.\n"
     ]
    }
   ],
   "metadata": {}
  },
  {
   "cell_type": "code",
   "execution_count": 4,
   "source": [
    "# 복수의 예외 처리 실습\r\n",
    "# 100을 사용자가 입력한 값으로 나누고 출력하는 코드를 작성\r\n",
    "num = input('100을 나눌 값을 입력하시오 :')\r\n",
    "print(100/int(num))"
   ],
   "outputs": [
    {
     "output_type": "stream",
     "name": "stdout",
     "text": [
      "50.0\n"
     ]
    }
   ],
   "metadata": {}
  },
  {
   "cell_type": "code",
   "execution_count": 5,
   "source": [
    "# 이 때, 발생가능한 에러의 경우는\r\n",
    "# 1. 문자를 입력할 경우\r\n",
    "# 2. 0을 입력할 경우\r\n",
    "# 3. 아무것도 입력하지 않을 경우\r\n",
    "# 4. ..."
   ],
   "outputs": [],
   "metadata": {}
  },
  {
   "cell_type": "code",
   "execution_count": null,
   "source": [
    "# 1. 문자를 입력할 경우\r\n",
    "# 2. 0을 입력할 경우\r\n",
    "try:\r\n",
    "    num = input('100을 나눌 값을 입력하시오 :')\r\n",
    "    print(100/int(num))\r\n",
    "except(ValueError, ZeroDivisionError):\r\n",
    "    print('제대로 입력해라!!')"
   ],
   "outputs": [],
   "metadata": {}
  },
  {
   "cell_type": "code",
   "execution_count": null,
   "source": [
    "# 1. 문자를 입력할 경우\r\n",
    "# 2. 0을 입력할 경우\r\n",
    "try:\r\n",
    "    num = input('100을 나눌 값을 입력하시오 :')\r\n",
    "    print(100/int(num))\r\n",
    "# 이러한 경우 순차적으로 수행된다.\r\n",
    "# 가장 작은 범주부터 예외 처리를 해야지, 모든 예외처리를 다 지나서 실행된다.\r\n",
    "except ValueError:\r\n",
    "    print('숫자를 입력하시오.')\r\n",
    "except ZeroDivisionError:\r\n",
    "    print('0으로 나눌 수 없습니다.')\r\n",
    "except:\r\n",
    "    print('무튼 에러 발생!!')"
   ],
   "outputs": [],
   "metadata": {}
  },
  {
   "cell_type": "code",
   "execution_count": null,
   "source": [
    "try:\r\n",
    "    num = input('100을 나눌 값을 입력하시오 :')\r\n",
    "    print(100/int(num))\r\n",
    "# 이러한 경우 순차적으로 수행된다.\r\n",
    "# 가장 작은 범주부터 예외 처리를 해야지, 모든 예외처리를 다 지나서 실행된다.\r\n",
    "except Exception:   # Exception은 가장 큰 범주, 따라서 아래의 코드는 실해되지 않는다.\r\n",
    "    print('무튼 에러 발생!!')\r\n",
    "except ValueError:\r\n",
    "    print('숫자를 입력하시오.')\r\n",
    "except ZeroDivisionError:\r\n",
    "    print('0으로 나눌 수 없습니다.')"
   ],
   "outputs": [],
   "metadata": {}
  },
  {
   "cell_type": "markdown",
   "source": [
    "## 예외 처리 종합\r\n",
    "- try\r\n",
    "  - 코드를 실행한다.\r\n",
    "- except\r\n",
    "  - try 문에서 예외가 발생시 실행한다.\r\n",
    "- else\r\n",
    "  - try문에서 예외가 발생하지 않으면 실행한다.\r\n",
    "- finally\r\n",
    "  - 예외 발생 여부와 관계 없이 항상 실행한다."
   ],
   "metadata": {}
  },
  {
   "cell_type": "markdown",
   "source": [
    "## 예외 처리 종합 예시\r\n",
    "- 파일을 열고 읽는 코드를 작성하는 경우\r\n",
    "  - 파일 열기 시도\r\n",
    "    - 파일 없는 경우 => '해당 파일이 없습니다.' 출력\r\n",
    "    - 파일이 있는 경우 => 파일 내용을 출력\r\n",
    "  - 해당 파일 읽기 작업 종료 메세지 출력"
   ],
   "metadata": {}
  },
  {
   "cell_type": "code",
   "execution_count": 6,
   "source": [
    "# 예외 처리 종합 예시\r\n",
    "try:\r\n",
    "    f = open('noofile.txt')\r\n",
    "except FileNotFoundError:\r\n",
    "    print('해당 파일이 없습니다.')\r\n",
    "else:\r\n",
    "    print('파일을 읽기 시작합니다.')\r\n",
    "    print(f.read())\r\n",
    "    print('파일을 모두 읽었습니다.')\r\n",
    "finally:\r\n",
    "    print('파일 읽기를 종료합니다.')"
   ],
   "outputs": [
    {
     "output_type": "stream",
     "name": "stdout",
     "text": [
      "해당 파일이 없습니다.\n",
      "파일 읽기를 종료합니다.\n"
     ]
    }
   ],
   "metadata": {}
  },
  {
   "cell_type": "markdown",
   "source": [
    "## 에러 메세지 처리\r\n",
    "- as  키워드를 활용하여 원본 에러 메세지를 사용할 수 있음\r\n",
    "  - 예외를 다른 이름에 대입"
   ],
   "metadata": {}
  },
  {
   "cell_type": "code",
   "execution_count": 7,
   "source": [
    "[][-1]"
   ],
   "outputs": [
    {
     "output_type": "error",
     "ename": "IndexError",
     "evalue": "list index out of range",
     "traceback": [
      "\u001b[1;31m---------------------------------------------------------------------------\u001b[0m",
      "\u001b[1;31mIndexError\u001b[0m                                Traceback (most recent call last)",
      "\u001b[1;32m~\\AppData\\Local\\Temp/ipykernel_10940/1054649334.py\u001b[0m in \u001b[0;36m<module>\u001b[1;34m\u001b[0m\n\u001b[1;32m----> 1\u001b[1;33m \u001b[1;33m[\u001b[0m\u001b[1;33m]\u001b[0m\u001b[1;33m[\u001b[0m\u001b[1;33m-\u001b[0m\u001b[1;36m1\u001b[0m\u001b[1;33m]\u001b[0m\u001b[1;33m\u001b[0m\u001b[1;33m\u001b[0m\u001b[0m\n\u001b[0m",
      "\u001b[1;31mIndexError\u001b[0m: list index out of range"
     ]
    }
   ],
   "metadata": {}
  },
  {
   "cell_type": "code",
   "execution_count": 8,
   "source": [
    "try:\r\n",
    "    empty_list = []\r\n",
    "    print(empty_list[-1])\r\n",
    "except IndexError as err:\r\n",
    "    print(f'{err}, 오류가 발생했습니다.')"
   ],
   "outputs": [
    {
     "output_type": "stream",
     "name": "stdout",
     "text": [
      "list index out of range, 오류가 발생했습니다.\n"
     ]
    }
   ],
   "metadata": {}
  },
  {
   "cell_type": "code",
   "execution_count": null,
   "source": [
    "my_dict = {'key' : 'value'}\r\n",
    "\r\n",
    "# try...\r\n",
    "# EAFP\r\n",
    "# 허락보다 용서를 구하는 것이 쉽다.\r\n",
    "# 예외처리를 활용하며 검사를 수행하지 않고 일단 실행하고 예외처리를 진행하는 스타일\r\n",
    "# 파이썬 코드가 문제 없이 '실행될 것'을 전제로 코드를 실행\r\n",
    "# 파이썬은 try를 더 권장\r\n",
    "try:\r\n",
    "    x = my_dict['key']\r\n",
    "except KeyError:\r\n",
    "    pass\r\n",
    "\r\n",
    "# if...\r\n",
    "# LBYL\r\n",
    "# 도약하기 전에 봐라\r\n",
    "# 어떤 것이 실행하기 전에 에러가 날만한 요소들을 조건문으로 검사를하고 수행\r\n",
    "if 'key' in my_dict:\r\n",
    "    x = my_dict['key']\r\n",
    "else:\r\n",
    "    pass"
   ],
   "outputs": [],
   "metadata": {}
  }
 ],
 "metadata": {
  "orig_nbformat": 4,
  "language_info": {
   "name": "python",
   "version": "3.9.6",
   "mimetype": "text/x-python",
   "codemirror_mode": {
    "name": "ipython",
    "version": 3
   },
   "pygments_lexer": "ipython3",
   "nbconvert_exporter": "python",
   "file_extension": ".py"
  },
  "kernelspec": {
   "name": "python3",
   "display_name": "Python 3.9.6 64-bit"
  },
  "interpreter": {
   "hash": "826c1ff5c4179778aab3a3c529716f5482c58a2cdc9450e70eef1a1010bf897b"
  }
 },
 "nbformat": 4,
 "nbformat_minor": 2
}