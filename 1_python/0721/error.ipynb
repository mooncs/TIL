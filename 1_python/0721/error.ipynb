{
 "cells": [
  {
   "cell_type": "markdown",
   "source": [
    "## 디버깅\r\n",
    "- print문 활용\r\n",
    "  - 특정 함수 결과, 반복/조건 결과 등 나눠서 생각\r\n",
    "- 개발환경(text editor, IDE)등에서 제공하는 기능 활용\r\n",
    "  - breakpoint, 변수 조회 등\r\n",
    "- Python tutor 활용(단순 파이썬 코드인 경우)\r\n",
    "- 뇌컴파일, 눈디버깅"
   ],
   "metadata": {}
  },
  {
   "cell_type": "markdown",
   "source": [
    "### 코드를 작성하다가...\r\n",
    "- 에러 메세지가 발생하는 경우\r\n",
    "    - 해당 위치를 찾아 메세지를 해결\r\n",
    "- 로직 에러가 발생하는 경우\r\n",
    "    - 명시적인 에러 메세지 없이 예상과 다른 결과가 나온 경우\r\n",
    "        - 정상적으로 동작하였던 코드 이후 작성된 코드를 생각해본다.\r\n",
    "        - 전체 코드를 살펴본다.\r\n",
    "        - 휴식을 가져본다.\r\n",
    "        - 누군가에게 설명을 해본다.\r\n",
    "        - ..."
   ],
   "metadata": {}
  },
  {
   "cell_type": "markdown",
   "source": [
    "# 에러\r\n",
    "\r\n",
    "## 문법 에러(Syntax Error)\r\n",
    "- SyntaxError가 발생하면, 파이썬 프로그램은 실행이 되지 않는다.\r\n",
    "- 파일이름, 줄번호, ^문자를 통해 파이썬 코드를 읽어 나갈 때(parser) 문제가 발생한 위치를 표현\r\n",
    "- 줄에서 에러가 감지된 가장 앞의 위치를 가리키는 캐럿(caret)기호(^)를 표시한다."
   ],
   "metadata": {}
  },
  {
   "cell_type": "code",
   "execution_count": 2,
   "source": [
    "# Invaild syntax\r\n",
    "# 문법적으로 틀렸다\r\n",
    "while"
   ],
   "outputs": [
    {
     "output_type": "error",
     "ename": "SyntaxError",
     "evalue": "invalid syntax (Temp/ipykernel_9272/3223422649.py, line 2)",
     "traceback": [
      "\u001b[1;36m  File \u001b[1;32m\"C:\\Users\\csmoo\\AppData\\Local\\Temp/ipykernel_9272/3223422649.py\"\u001b[1;36m, line \u001b[1;32m2\u001b[0m\n\u001b[1;33m    while\u001b[0m\n\u001b[1;37m         ^\u001b[0m\n\u001b[1;31mSyntaxError\u001b[0m\u001b[1;31m:\u001b[0m invalid syntax\n"
     ]
    }
   ],
   "metadata": {}
  },
  {
   "cell_type": "code",
   "execution_count": 3,
   "source": [
    "# cannot assign to literal\r\n",
    "# 고정된 값에 또다른 값을 할당할 수 없다\r\n",
    "5 = 3"
   ],
   "outputs": [
    {
     "output_type": "error",
     "ename": "SyntaxError",
     "evalue": "cannot assign to literal (Temp/ipykernel_9272/373851509.py, line 2)",
     "traceback": [
      "\u001b[1;36m  File \u001b[1;32m\"C:\\Users\\csmoo\\AppData\\Local\\Temp/ipykernel_9272/373851509.py\"\u001b[1;36m, line \u001b[1;32m2\u001b[0m\n\u001b[1;33m    5 = 3\u001b[0m\n\u001b[1;37m    ^\u001b[0m\n\u001b[1;31mSyntaxError\u001b[0m\u001b[1;31m:\u001b[0m cannot assign to literal\n"
     ]
    }
   ],
   "metadata": {}
  },
  {
   "cell_type": "code",
   "execution_count": 4,
   "source": [
    "# EOL(End Of Line)\r\n",
    "print('hello"
   ],
   "outputs": [
    {
     "output_type": "error",
     "ename": "SyntaxError",
     "evalue": "EOL while scanning string literal (Temp/ipykernel_9272/4071037427.py, line 2)",
     "traceback": [
      "\u001b[1;36m  File \u001b[1;32m\"C:\\Users\\csmoo\\AppData\\Local\\Temp/ipykernel_9272/4071037427.py\"\u001b[1;36m, line \u001b[1;32m2\u001b[0m\n\u001b[1;33m    print('hello\u001b[0m\n\u001b[1;37m                ^\u001b[0m\n\u001b[1;31mSyntaxError\u001b[0m\u001b[1;31m:\u001b[0m EOL while scanning string literal\n"
     ]
    }
   ],
   "metadata": {}
  },
  {
   "cell_type": "code",
   "execution_count": 5,
   "source": [
    "# EOF(End Of File)\r\n",
    "print("
   ],
   "outputs": [
    {
     "output_type": "error",
     "ename": "SyntaxError",
     "evalue": "unexpected EOF while parsing (Temp/ipykernel_9272/223020880.py, line 2)",
     "traceback": [
      "\u001b[1;36m  File \u001b[1;32m\"C:\\Users\\csmoo\\AppData\\Local\\Temp/ipykernel_9272/223020880.py\"\u001b[1;36m, line \u001b[1;32m2\u001b[0m\n\u001b[1;33m    print(\u001b[0m\n\u001b[1;37m          ^\u001b[0m\n\u001b[1;31mSyntaxError\u001b[0m\u001b[1;31m:\u001b[0m unexpected EOF while parsing\n"
     ]
    }
   ],
   "metadata": {}
  }
 ],
 "metadata": {
  "orig_nbformat": 4,
  "language_info": {
   "name": "python",
   "version": "3.9.6",
   "mimetype": "text/x-python",
   "codemirror_mode": {
    "name": "ipython",
    "version": 3
   },
   "pygments_lexer": "ipython3",
   "nbconvert_exporter": "python",
   "file_extension": ".py"
  },
  "kernelspec": {
   "name": "python3",
   "display_name": "Python 3.9.6 64-bit"
  },
  "interpreter": {
   "hash": "826c1ff5c4179778aab3a3c529716f5482c58a2cdc9450e70eef1a1010bf897b"
  }
 },
 "nbformat": 4,
 "nbformat_minor": 2
}