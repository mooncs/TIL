{
 "cells": [
  {
   "cell_type": "markdown",
   "source": [
    "# 모듈과 패키지"
   ],
   "metadata": {}
  },
  {
   "cell_type": "markdown",
   "source": [
    "## **모듈**\r\n",
    "- 특정 기능을 `파이썬 파일(.py) 단위로 작성`한 것\r\n",
    "- 예) random.py\r\n",
    "## **패키지**\r\n",
    "- 특정 기능과 관련된 `여러 모듈의 집합`\r\n",
    "- 패키지 안에는 또 다른 서브 패키지를 포함"
   ],
   "metadata": {}
  },
  {
   "cell_type": "markdown",
   "source": [
    "## 파이썬 표준 라이브러리(Python Standard Library, PSL)\r\n",
    "- 파이썬에 기본적으로 설치된 모듈과 내장함수\r\n",
    "  - <https://docs.python.org/ko/3/library/index.html>\r\n",
    "- 외부 패키지 예시) request, BeautifulSoup"
   ],
   "metadata": {}
  },
  {
   "cell_type": "markdown",
   "source": [
    "## 파이썬 패키지 관리자(pip)\r\n",
    "- PyPI(Python Package Index)에 저장된 외부 패키지들을 설치하도록 도와주는 패키지 관리 시스템\r\n",
    "- pip documentation 참고\r\n",
    "\r\n",
    "## 파이썬 패키지 관리자(pip)명령\r\n",
    "### 패키지 설치\r\n",
    "  > $ pip install SomePackage\r\n",
    "  >\r\n",
    "  > $ pip install SomePackage==1.0.5\r\n",
    "  >\r\n",
    "  > $ pip install 'SomePackage>=1.0.4'\r\n",
    "  - 최신 버전 / 특정 버전 / 최소 버전을 명시하여 설치할 수 있다.\r\n",
    "  - 이미 설치되어 있는 경우, 이미 설치되어 있음을 알리고 아무것도 하지 않는다.\r\n",
    "\r\n",
    "  \r\n",
    "### 패키지 삭제\r\n",
    "  > $ pip uninstall SomePackage\r\n",
    "  - pip는 패키지 업그레이드 하는 경우 과거 버전을 자동으로 지워준다.\r\n",
    "\r\n",
    "### 패키지 목록 및 특정 패키지 정보\r\n",
    "  > $ pip list\r\n",
    "  >\r\n",
    "  > $ pip show SomePackage\r\n",
    "\r\n",
    "### 패키지 freeze\r\n",
    "  > $ pip freeze\r\n",
    "  - 설치된 패키지의 비슷한 목록을 만들지만, pip install에서 활용되는 형식으로 출력\r\n",
    "  - 해당하는 목록을 requirements.txt(관습)로 만들어 관리한다.\r\n",
    "\r\n",
    "### 패키지 관리하기\r\n",
    "  > $ pip freeze > requirements.txt\r\n",
    "  >\r\n",
    "  > $ pip install -r requirements.txt\r\n",
    "  - 위 명령어들을 통해 패키지 목록을 관리(1)하고 설치(2)할 수 있다.\r\n",
    "  - 일반적으로 패키지를 기록하는 파일의 이름은 requirements.txt로 정의한다."
   ],
   "metadata": {}
  },
  {
   "cell_type": "markdown",
   "source": [
    "# 모듈/패키지 활용하기"
   ],
   "metadata": {}
  },
  {
   "cell_type": "markdown",
   "source": [
    "## 모듈 만들기 - check\r\n",
    "- check.py에 짝수를 판별하는 함수(even)와 홀수를 판별하는 함수(odd)를 만들고 check 모듈을 활용해보자."
   ],
   "metadata": {}
  },
  {
   "cell_type": "code",
   "execution_count": 1,
   "source": [
    "# 모듈을 활용하기 위해 import문을 통해 가져온다.\r\n",
    "import check                # check.odd(6)\r\n",
    "# from check import odd     # odd함수만을 가져온다. odd(6)\r\n",
    "# from check import *       # check모듈 안의 모든 함수를 가져온다. odd(6)"
   ],
   "outputs": [],
   "metadata": {}
  },
  {
   "cell_type": "code",
   "execution_count": 4,
   "source": [
    "# 모듈 활용법\r\n",
    "import random\r\n",
    "from random import randint, choice\r\n",
    "from random import *\r\n",
    "\r\n",
    "from numpy import random\r\n",
    "from numpy.random import randint"
   ],
   "outputs": [],
   "metadata": {}
  },
  {
   "cell_type": "code",
   "execution_count": 2,
   "source": [
    "dir(check)"
   ],
   "outputs": [
    {
     "output_type": "execute_result",
     "data": {
      "text/plain": [
       "['__builtins__',\n",
       " '__cached__',\n",
       " '__doc__',\n",
       " '__file__',\n",
       " '__loader__',\n",
       " '__name__',\n",
       " '__package__',\n",
       " '__spec__',\n",
       " 'even',\n",
       " 'odd']"
      ]
     },
     "metadata": {},
     "execution_count": 2
    }
   ],
   "metadata": {}
  },
  {
   "cell_type": "code",
   "execution_count": 3,
   "source": [
    "print(check.odd(6))\r\n",
    "print(check.even(6))"
   ],
   "outputs": [
    {
     "output_type": "stream",
     "name": "stdout",
     "text": [
      "False\n",
      "True\n"
     ]
    }
   ],
   "metadata": {}
  },
  {
   "cell_type": "markdown",
   "source": [
    "## 패키지\r\n",
    "- 패키지는 여러 모듈/하위 패키지로 구조화\r\n",
    "  - 활용 예시 : package.module\r\n",
    "- 모든 폴더에는 `__init__.py`를 만들어 패키지로 인식\r\n",
    "  - Python 3.3부터는 파일이 없어도 되지만, 하위 버전 호환 및 프레임워크 등에서의 동작을 위해 파일을 생성하는 것을 권장한다.\r\n"
   ],
   "metadata": {}
  },
  {
   "cell_type": "markdown",
   "source": [
    "## 패키지 만들기\r\n",
    "- 수학과 통계 기능이 들어간 패키지를 아래와 같이 구성\r\n",
    "  - math의 tools : 자연 상수 e, 원주율 pi 값, 최대값을 구하는 my_max함수\r\n",
    "  - statistics의 tools : 평균을 구하는 mean gkatn\r\n",
    "  - 폴더구조\r\n",
    "\r\n",
    "    ```python\r\n",
    "    my_package/\r\n",
    "      __init__.py\r\n",
    "      math/\r\n",
    "        __init__.py\r\n",
    "        tools.py\r\n",
    "      statistics/\r\n",
    "        __init__.py\r\n",
    "        tools.py\r\n",
    "    ```"
   ],
   "metadata": {}
  }
 ],
 "metadata": {
  "orig_nbformat": 4,
  "language_info": {
   "name": "python",
   "version": "3.9.6",
   "mimetype": "text/x-python",
   "codemirror_mode": {
    "name": "ipython",
    "version": 3
   },
   "pygments_lexer": "ipython3",
   "nbconvert_exporter": "python",
   "file_extension": ".py"
  },
  "kernelspec": {
   "name": "python3",
   "display_name": "Python 3.9.6 64-bit"
  },
  "interpreter": {
   "hash": "826c1ff5c4179778aab3a3c529716f5482c58a2cdc9450e70eef1a1010bf897b"
  }
 },
 "nbformat": 4,
 "nbformat_minor": 2
}