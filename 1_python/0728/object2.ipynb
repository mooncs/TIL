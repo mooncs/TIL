{
 "cells": [
  {
   "cell_type": "markdown",
   "source": [
    "# 클래스와 인스턴스"
   ],
   "metadata": {}
  },
  {
   "cell_type": "markdown",
   "source": [
    "## 인스턴스 변수\r\n",
    "- 인스턴스의 속석(attribute)\r\n",
    "- 각 인스턴스들의 고유한 변수\r\n",
    "  - 메서드에서 `self.name`으로 정의\r\n",
    "  - 인스턴스가 생성된 이후 `instance.name`으로 접근 및 할당"
   ],
   "metadata": {}
  },
  {
   "cell_type": "code",
   "execution_count": 31,
   "source": [
    "class Person:\r\n",
    "    def __init__(self, name):\r\n",
    "        # 인스턴스 변수 정의\r\n",
    "        self.name = name"
   ],
   "outputs": [],
   "metadata": {}
  },
  {
   "cell_type": "code",
   "execution_count": 32,
   "source": [
    "harry = Person('harry')\r\n",
    "# 인스턴스 변수 접근\r\n",
    "print(harry.name)"
   ],
   "outputs": [
    {
     "output_type": "stream",
     "name": "stdout",
     "text": [
      "harry\n"
     ]
    }
   ],
   "metadata": {}
  },
  {
   "cell_type": "code",
   "execution_count": 33,
   "source": [
    "# 인스턴스 변수 할당\r\n",
    "harry.name = 'daniel'\r\n",
    "print(harry.name)"
   ],
   "outputs": [
    {
     "output_type": "stream",
     "name": "stdout",
     "text": [
      "daniel\n"
     ]
    }
   ],
   "metadata": {}
  },
  {
   "cell_type": "code",
   "execution_count": 34,
   "source": [
    "me = Person('Harry')\r\n",
    "you = Person('Ron')\r\n",
    "print(me.name)\r\n",
    "print(you.name)"
   ],
   "outputs": [
    {
     "output_type": "stream",
     "name": "stdout",
     "text": [
      "Harry\n",
      "Ron\n"
     ]
    }
   ],
   "metadata": {}
  },
  {
   "cell_type": "markdown",
   "source": [
    "## 클래스 변수\r\n",
    "- 클래스 속성(attribute)\r\n",
    "- 모든 인스턴스가 공유\r\n",
    "- 클래스 선언 내부에서 정의\r\n",
    "- `classname.name`으로 접근 및 할당"
   ],
   "metadata": {}
  },
  {
   "cell_type": "code",
   "execution_count": 4,
   "source": [
    "class Circle:\r\n",
    "    # 클래스 변수 정의\r\n",
    "    pi = 3.14"
   ],
   "outputs": [],
   "metadata": {}
  },
  {
   "cell_type": "code",
   "execution_count": 5,
   "source": [
    "c1 = Circle()\r\n",
    "c2 = Circle()\r\n",
    "\r\n",
    "print(Circle.pi)\r\n",
    "print(c1.pi)\r\n",
    "print(c2.pi)"
   ],
   "outputs": [
    {
     "output_type": "stream",
     "name": "stdout",
     "text": [
      "3.14\n",
      "3.14\n",
      "3.14\n"
     ]
    }
   ],
   "metadata": {}
  },
  {
   "cell_type": "code",
   "execution_count": 35,
   "source": [
    "c1.pi = 3.141592\r\n",
    "\r\n",
    "print(c1.pi)\r\n",
    "print(c2.pi)"
   ],
   "outputs": [
    {
     "output_type": "stream",
     "name": "stdout",
     "text": [
      "3.141592\n",
      "3.14\n"
     ]
    }
   ],
   "metadata": {}
  },
  {
   "cell_type": "markdown",
   "source": [
    "## 인스턴스와 클래스 간의 이름 공간(namespace)\r\n",
    "- 클래스를 정의하면, 클래스와 해당하는 이름 공간 생성\r\n",
    "- 인스턴스를 만들면, 인스턴스 객체가 생성되고 이름 공간 생성\r\n",
    "- 인스턴스에서 특정 속성에 접근하면, 인스턴스-클래스 순으로 탐색\r\n",
    "- 인스턴스의 어트리뷰트가 변경되면, 변경된 데이터를 인스턴스 객체 이름 공간에 저장"
   ],
   "metadata": {}
  },
  {
   "cell_type": "code",
   "execution_count": 6,
   "source": [
    "# Person 정의\r\n",
    "class Person:\r\n",
    "    name = 'unknown'\r\n",
    "\r\n",
    "    def talk(self):\r\n",
    "        print(self.name)"
   ],
   "outputs": [],
   "metadata": {}
  },
  {
   "cell_type": "code",
   "execution_count": 7,
   "source": [
    "# p1은 인스턴스 변수가 정의되어 있지 않아 클래스 변수(unknown)가 출력된다.\r\n",
    "p1 = Person()\r\n",
    "p1.talk()"
   ],
   "outputs": [
    {
     "output_type": "stream",
     "name": "stdout",
     "text": [
      "unknown\n"
     ]
    }
   ],
   "metadata": {}
  },
  {
   "cell_type": "code",
   "execution_count": 8,
   "source": [
    "# p2 인스턴스 변수 설정 전/후\r\n",
    "# p2는 인스턴스 변수가 정의되어 인스턴스 변수(Kim)가 출력된다.\r\n",
    "p2 = Person()\r\n",
    "p2.talk()\r\n",
    "p2.name = 'Kim'\r\n",
    "p2.talk()"
   ],
   "outputs": [
    {
     "output_type": "stream",
     "name": "stdout",
     "text": [
      "unknown\n",
      "Kim\n"
     ]
    }
   ],
   "metadata": {}
  },
  {
   "cell_type": "code",
   "execution_count": 9,
   "source": [
    "# Person 클래스의 값이 Kim으로 변경된 것이 아니라, p2 인스턴스의 이름 공간에 name이 Kim으로 저장된 것\r\n",
    "print(Person.name)\r\n",
    "print(p1.name)\r\n",
    "print(p2.name)"
   ],
   "outputs": [
    {
     "output_type": "stream",
     "name": "stdout",
     "text": [
      "unknown\n",
      "unknown\n",
      "Kim\n"
     ]
    }
   ],
   "metadata": {}
  },
  {
   "cell_type": "markdown",
   "source": [
    "## 메서드 종류\r\n",
    "- 인스턴스 메서드\r\n",
    "- 클래스 메서드\r\n",
    "- 스태틱 메서드"
   ],
   "metadata": {}
  },
  {
   "cell_type": "markdown",
   "source": [
    "## 인스턴스 메서드\r\n",
    "- 인스턴스가 사용할 메서드\r\n",
    "- 클래스 내부에 정의되는 메서드의 기본\r\n",
    "- 호출시, 첫번째 인자로 인스턴스 자기자신(self)이 전달된다.\r\n",
    "\r\n",
    "  ```python\r\n",
    "  class MyClass:\r\n",
    "    def instance_method(self, arg1, ...):\r\n",
    "\r\n",
    "  my_instance = MyClass()\r\n",
    "  my_instance.instance_method(...)\r\n",
    "  ```"
   ],
   "metadata": {}
  },
  {
   "cell_type": "markdown",
   "source": [
    "## 클래스 메서드\r\n",
    "- 클래스가 사용할 메서드 (클래스 자기 자신의 변수나 속성을 변경하는...)\r\n",
    "- @classmethod 데코레이터를 사용하여 정의\r\n",
    "- 호출시, 첫번째 인자로 클래스(cls)가 전달된다.\r\n",
    "\r\n",
    "  ```python\r\n",
    "  class MyClass:\r\n",
    "    @classmethod\r\n",
    "    def class_method(cls, arg1, ...):\r\n",
    "\r\n",
    "  MyClass.class_method(...)\r\n",
    "  ```"
   ],
   "metadata": {}
  },
  {
   "cell_type": "markdown",
   "source": [
    "## 스태틱 메서드\r\n",
    "- 클래스가 사용할 메서드\r\n",
    "- @staticmethod 데코레이터를 사용하여 정의\r\n",
    "- 호출시, 어떠한 인자도 전달되지 않는다.(클래스 정보에 접근/수정 불가)\r\n",
    "\r\n",
    "  ```python\r\n",
    "  class MyClass:\r\n",
    "    @staticmethod\r\n",
    "    def static_method(arg1, ...):\r\n",
    "\r\n",
    "  MyClass.static_method(...)\r\n",
    "  ```"
   ],
   "metadata": {}
  },
  {
   "cell_type": "code",
   "execution_count": 10,
   "source": [
    "class Korean:\r\n",
    "    nation = 'Republic of Korea'\r\n",
    "    code = 'KR'\r\n",
    "\r\n",
    "    def __init__(self, name, age):\r\n",
    "        self.name = name\r\n",
    "        self.age = age\r\n",
    "    \r\n",
    "    def talk(self):\r\n",
    "        return f'Hello. I\\'m {self.name}.'\r\n",
    "\r\n",
    "    @classmethod\r\n",
    "    def info(cls):\r\n",
    "        return (cls.nation, cls.code)\r\n",
    "\r\n",
    "    @staticmethod\r\n",
    "    def anthem():\r\n",
    "        return '동해물과 백두산이 마르고 닳도록...'"
   ],
   "outputs": [],
   "metadata": {}
  },
  {
   "cell_type": "code",
   "execution_count": 11,
   "source": [
    "# 스태틱메서드\r\n",
    "# 스태틱메서드는 메서드 내부에서 어떠한 객체의 정보도 활용하지 않으며, 클래스가 호출하여 활용\r\n",
    "Korean.anthem()"
   ],
   "outputs": [
    {
     "output_type": "execute_result",
     "data": {
      "text/plain": [
       "'동해물과 백두산이 마르고 닳도록...'"
      ]
     },
     "metadata": {},
     "execution_count": 11
    }
   ],
   "metadata": {}
  },
  {
   "cell_type": "code",
   "execution_count": 12,
   "source": [
    "# 클래스메서드\r\n",
    "# 클래스메서드는 메서드 내부에서 클래스 정보(cls)를 활용, 클래스가 호출하여 활용\r\n",
    "Korean.info()"
   ],
   "outputs": [
    {
     "output_type": "execute_result",
     "data": {
      "text/plain": [
       "('Republic of Korea', 'KR')"
      ]
     },
     "metadata": {},
     "execution_count": 12
    }
   ],
   "metadata": {}
  },
  {
   "cell_type": "code",
   "execution_count": 13,
   "source": [
    "# 인스턴스메서드\r\n",
    "# 인스턴스메서드는 메서드 내부에서 인스턴스 정보(self)를 활용, 인스턴스가 호출하여 활용\r\n",
    "moon = Korean('Ik-chum Moon', 694)\r\n",
    "moon.talk()"
   ],
   "outputs": [
    {
     "output_type": "execute_result",
     "data": {
      "text/plain": [
       "\"Hello. I'm Ik-chum Moon.\""
      ]
     },
     "metadata": {},
     "execution_count": 13
    }
   ],
   "metadata": {}
  },
  {
   "cell_type": "code",
   "execution_count": 14,
   "source": [
    "# 인스턴스는 스태틱메서드, 클래스메서드 호출 가능\r\n",
    "print(moon.anthem())\r\n",
    "print(moon.info())"
   ],
   "outputs": [
    {
     "output_type": "stream",
     "name": "stdout",
     "text": [
      "동해물과 백두산이 마르고 닳도록...\n",
      "('Republic of Korea', 'KR')\n"
     ]
    }
   ],
   "metadata": {}
  },
  {
   "cell_type": "markdown",
   "source": [
    "## 실습\r\n",
    "> Puppy 클래스의 속성에 접근하는 클래스 메서드를 생성\r\n",
    ">\r\n",
    "> 클래스 변수 `population`를 통해 강아지가 생길 때마다 증가 \r\n",
    ">\r\n",
    "> 강아지들은 각자의 이름(`name`)과 종(`breed`)을 갖고 있다.\r\n",
    ">\r\n",
    "> `bark()` 메서드를 호출하면 짖을 수 있다."
   ],
   "metadata": {}
  },
  {
   "cell_type": "code",
   "execution_count": 36,
   "source": [
    "class Puppy:\r\n",
    "    population = 0\r\n",
    "    \r\n",
    "    def __init__(self, name, breed):\r\n",
    "        self.name = name\r\n",
    "        self.breed = breed\r\n",
    "        Puppy.population += 1\r\n",
    "        \r\n",
    "    def __del__(self):\r\n",
    "        Puppy.population -= 1\r\n",
    "    \r\n",
    "    def bark(self):\r\n",
    "        print(f'왈왈! 나는 {self.name}, {self.breed}(이)야')\r\n",
    "    \r\n",
    "    @classmethod\r\n",
    "    def get_population(cls):\r\n",
    "        print(f'현재 강아지 마리수: {cls.population}')\r\n",
    "        return cls.population"
   ],
   "outputs": [],
   "metadata": {}
  },
  {
   "cell_type": "code",
   "execution_count": 37,
   "source": [
    "p1 = Puppy('왕배', '그레이하운드')\r\n",
    "p2 = Puppy('만복', '웰시코기')\r\n",
    "p3 = Puppy('코코', '포메라니안')\r\n",
    "\r\n",
    "p1.bark()\r\n",
    "p2.bark()\r\n",
    "p3.bark()"
   ],
   "outputs": [
    {
     "output_type": "stream",
     "name": "stdout",
     "text": [
      "왈왈! 나는 왕배, 그레이하운드(이)야\n",
      "왈왈! 나는 만복, 웰시코기(이)야\n",
      "왈왈! 나는 코코, 포메라니안(이)야\n"
     ]
    }
   ],
   "metadata": {}
  },
  {
   "cell_type": "code",
   "execution_count": 38,
   "source": [
    "Puppy.get_population()"
   ],
   "outputs": [
    {
     "output_type": "stream",
     "name": "stdout",
     "text": [
      "현재 강아지 마리수: 3\n"
     ]
    },
    {
     "output_type": "execute_result",
     "data": {
      "text/plain": [
       "3"
      ]
     },
     "metadata": {},
     "execution_count": 38
    }
   ],
   "metadata": {}
  },
  {
   "cell_type": "markdown",
   "source": [
    "## 메서드 정리\r\n",
    "- 메서드는 해당 함수에서 어떤 값을 활용하고 변경하는지에 따라 정의할 것\r\n",
    "  - 인스턴스는 모든 메서드를 호출 할 수 있다.\r\n",
    "    - 하지만, `인스턴스의 동작`은 반드시 `인스턴스 메서드`로 정의한다.\r\n",
    "  - 클래스는 `클래스 속성 접근 여부에 따라`, 클래스 메서드나 스태틱 메서드(정적 메서드)로 정의한다."
   ],
   "metadata": {}
  },
  {
   "cell_type": "markdown",
   "source": [
    "## 객체지향 프로그래밍 정리\r\n",
    "- 클래스 구현\r\n",
    "  - 클래스 정의\r\n",
    "  - 데이터 속성 정의 (객체의 정보는 무엇인지)\r\n",
    "  - 메서드 정의 (객체를 어떻게 사용할 것인지)\r\n",
    "- 클래스 활용\r\n",
    "  - 해당 객체 타입의 인스턴스 생성 및 조작\r\n",
    "  \r\n",
    "---"
   ],
   "metadata": {}
  },
  {
   "cell_type": "markdown",
   "source": [
    "# 상속\r\n",
    "- 클래스는 상속이 가능하다.\r\n",
    "  - 모든 파이썬 클래스는 object를 상속 받는다.\r\n",
    "- 상속을 통해 객체 간의 관계를 구축\r\n",
    "- 부모 클래스의 속성, 메서드가 자식 클래스에 상속되므로 코드 재사용성이 높아진다.\r\n",
    "\r\n",
    "  ```python\r\n",
    "  class ChildClass(ParentClass):\r\n",
    "    pass\r\n",
    "  ```"
   ],
   "metadata": {}
  },
  {
   "cell_type": "markdown",
   "source": [
    "## 상속 - 상속 없이 구현 하는 경우1"
   ],
   "metadata": {}
  },
  {
   "cell_type": "code",
   "execution_count": 15,
   "source": [
    "class Person:\r\n",
    "\r\n",
    "    def __init__(self, name, age):\r\n",
    "        self.name = name\r\n",
    "        self.age = age\r\n",
    "    \r\n",
    "    def talk(self):\r\n",
    "        return f'Hello. I\\'m {self.name}.'"
   ],
   "outputs": [],
   "metadata": {}
  },
  {
   "cell_type": "code",
   "execution_count": 16,
   "source": [
    "s1 = Person('Harry', 16)\r\n",
    "s1.talk()"
   ],
   "outputs": [
    {
     "output_type": "execute_result",
     "data": {
      "text/plain": [
       "\"Hello. I'm Harry.\""
      ]
     },
     "metadata": {},
     "execution_count": 16
    }
   ],
   "metadata": {}
  },
  {
   "cell_type": "code",
   "execution_count": 17,
   "source": [
    "p1 = Person('Dumbledore', 116)\r\n",
    "p1.talk()"
   ],
   "outputs": [
    {
     "output_type": "execute_result",
     "data": {
      "text/plain": [
       "\"Hello. I'm Dumbledore.\""
      ]
     },
     "metadata": {},
     "execution_count": 17
    }
   ],
   "metadata": {}
  },
  {
   "cell_type": "code",
   "execution_count": 18,
   "source": [
    "s1.gpa = 4.5"
   ],
   "outputs": [],
   "metadata": {}
  },
  {
   "cell_type": "code",
   "execution_count": 19,
   "source": [
    "s1.department = 'Gryffindor'"
   ],
   "outputs": [],
   "metadata": {}
  },
  {
   "cell_type": "markdown",
   "source": [
    "## 상속 - 상속 없이 구현 하는 경우2"
   ],
   "metadata": {}
  },
  {
   "cell_type": "code",
   "execution_count": 20,
   "source": [
    "class Professor:\r\n",
    "\r\n",
    "    def __init__(self, name, age, department):\r\n",
    "        self.name = name\r\n",
    "        self.age = age\r\n",
    "        self.department = department\r\n",
    "    \r\n",
    "    def talk(self):\r\n",
    "        return f'Hello. I\\'m {self.name}.'\r\n",
    "\r\n",
    "class Student:\r\n",
    "\r\n",
    "    def __init__(self, name, age, gpa):\r\n",
    "        self.name = name\r\n",
    "        self.age = age\r\n",
    "        self.gpa = gpa\r\n",
    "    \r\n",
    "    def talk(self):\r\n",
    "        return f'Hello. I\\'m {self.name}.'"
   ],
   "outputs": [],
   "metadata": {}
  },
  {
   "cell_type": "code",
   "execution_count": 21,
   "source": [
    "p1 = Professor('Dumbledore', 116, 'Gryffindor')\r\n",
    "s1 = Student('Harry', 16, 4.5)"
   ],
   "outputs": [],
   "metadata": {}
  },
  {
   "cell_type": "markdown",
   "source": [
    "## 상속\r\n",
    "- 상속을 통한 메서드 재사용"
   ],
   "metadata": {}
  },
  {
   "cell_type": "code",
   "execution_count": 22,
   "source": [
    "class Person:\r\n",
    "\r\n",
    "    def __init__(self, name, age):\r\n",
    "        self.name = name\r\n",
    "        self.age = age\r\n",
    "    \r\n",
    "    def talk(self):\r\n",
    "        return f'Hello. I\\'m {self.name}.'\r\n",
    "\r\n",
    "\r\n",
    "class Professor(Person):\r\n",
    "\r\n",
    "    def __init__(self, name, age, department):\r\n",
    "        self.name = name\r\n",
    "        self.age = age\r\n",
    "        self.department = department\r\n",
    "\r\n",
    "\r\n",
    "class Student(Person):\r\n",
    "\r\n",
    "    def __init__(self, name, age, gpa):\r\n",
    "        self.name = name\r\n",
    "        self.age = age\r\n",
    "        self.gpa = gpa"
   ],
   "outputs": [],
   "metadata": {}
  },
  {
   "cell_type": "code",
   "execution_count": 23,
   "source": [
    "p1 = Professor('Dumbledore', 116, 'Gryffindor')\r\n",
    "s1 = Student('Harry', 16, 4.5)"
   ],
   "outputs": [],
   "metadata": {}
  },
  {
   "cell_type": "code",
   "execution_count": 24,
   "source": [
    "# 부모 Person 클래스의 talk 메서드를 활용\r\n",
    "print( p1.talk() )\r\n",
    "print( s1.talk() )"
   ],
   "outputs": [
    {
     "output_type": "stream",
     "name": "stdout",
     "text": [
      "Hello. I'm Dumbledore.\n",
      "Hello. I'm Harry.\n"
     ]
    }
   ],
   "metadata": {}
  },
  {
   "cell_type": "markdown",
   "source": [
    "## 상속 isinstance\r\n",
    "> .isinstance(object, classinfo)\r\n",
    "- classinfo의 instance이거나 subclass인 경우 True\r\n",
    "- classinfo는 클래스 객체의 튜플일 수 있으며, classinfo의 모든 항목을 검사"
   ],
   "metadata": {}
  },
  {
   "cell_type": "code",
   "execution_count": 25,
   "source": [
    "print(isinstance(bool, int))\r\n",
    "print(isinstance(float, int))\r\n",
    "print(isinstance(Professor, Person))\r\n",
    "print(isinstance(Professor, (Person, Student)))"
   ],
   "outputs": [
    {
     "output_type": "stream",
     "name": "stdout",
     "text": [
      "False\n",
      "False\n",
      "False\n",
      "False\n"
     ]
    }
   ],
   "metadata": {}
  },
  {
   "cell_type": "markdown",
   "source": [
    "> issubclass(class, classinfo)\r\n",
    "- class가 classinfo의 subclass면 True"
   ],
   "metadata": {}
  },
  {
   "cell_type": "markdown",
   "source": [
    "> super()\r\n",
    "- 자식클래스에서 부모클래스를 사용하고 싶은 경우"
   ],
   "metadata": {}
  },
  {
   "cell_type": "code",
   "execution_count": 26,
   "source": [
    "class Person:\r\n",
    "\r\n",
    "    def __init__(self, name, age):\r\n",
    "        self.name = name\r\n",
    "        self.age = age\r\n",
    "    \r\n",
    "    def talk(self):\r\n",
    "        return f'Hello. I\\'m {self.name}.'\r\n",
    "        \r\n",
    "class Student(Person):\r\n",
    "\r\n",
    "    def __init__(self, name, age, gpa):\r\n",
    "        self.name = name\r\n",
    "        self.age = age\r\n",
    "        self.gpa = gpa"
   ],
   "outputs": [],
   "metadata": {}
  },
  {
   "cell_type": "code",
   "execution_count": 27,
   "source": [
    "class Person:\r\n",
    "\r\n",
    "    def __init__(self, name, age):\r\n",
    "        self.name = name\r\n",
    "        self.age = age\r\n",
    "    \r\n",
    "    def talk(self):\r\n",
    "        return f'Hello. I\\'m {self.name}.'\r\n",
    "        \r\n",
    "class Student(Person):\r\n",
    "\r\n",
    "    def __init__(self, name, age, gpa):\r\n",
    "        # Person 클래스\r\n",
    "        super.__init__(name, age)\r\n",
    "        self.gpa = gpa"
   ],
   "outputs": [],
   "metadata": {}
  },
  {
   "cell_type": "markdown",
   "source": [
    "### [실습] Rectangle & Square\r\n",
    "\r\n",
    "> 아래의 조건에 만족하는 클래스 `Rentangle` 을 작성\r\n",
    ">\r\n",
    "> Rectangle 클래스는 아래와 같은 속성과 메서드를 갖는다.\r\n",
    "> - 인스턴스 속성\r\n",
    ">    - `length`: 가로 길이\r\n",
    ">    - `width`: 세로 길이\r\n",
    ">\r\n",
    ">   \r\n",
    ">- 인스턴스 메서드\r\n",
    ">    - `area`: 직사각형의 넓이를 리턴\r\n",
    ">    - `perimeter`: 직사각형의 둘레의 길이를 리턴"
   ],
   "metadata": {}
  },
  {
   "cell_type": "code",
   "execution_count": 40,
   "source": [
    "class Rectangle:\r\n",
    "    def __init__(self, length, width):\r\n",
    "        self.length = length\r\n",
    "        self.width = width\r\n",
    "\r\n",
    "    def area(self):\r\n",
    "        return self.length * self.width\r\n",
    "\r\n",
    "    def perimeter(self):\r\n",
    "        return 2 * (self.length + self.width)"
   ],
   "outputs": [],
   "metadata": {}
  },
  {
   "cell_type": "code",
   "execution_count": 41,
   "source": [
    "rectangle = Rectangle(8,4)\r\n",
    "print(rectangle.area())\r\n",
    "print(rectangle.perimeter())"
   ],
   "outputs": [
    {
     "output_type": "stream",
     "name": "stdout",
     "text": [
      "32\n",
      "24\n"
     ]
    }
   ],
   "metadata": {}
  },
  {
   "cell_type": "markdown",
   "source": [
    "> Rectangle 클래스를 상속받아 Sqaure 클래스를 만드시오.\r\n",
    ">\r\n",
    "> Square 클래스는 Rectangle 클래스에서 상속받은 속성 외 추가 속성을 가지고 있지 않다. \r\n",
    "> - 단, 정사각형이므로 인스턴스 생성시 인자로 한 변의 길이만 받는다."
   ],
   "metadata": {}
  },
  {
   "cell_type": "code",
   "execution_count": 42,
   "source": [
    "class Square(Rectangle):\r\n",
    "    def __init__(self, length):\r\n",
    "        super().__init__(length, length)"
   ],
   "outputs": [],
   "metadata": {}
  },
  {
   "cell_type": "code",
   "execution_count": 43,
   "source": [
    "square = Square(4)\r\n",
    "print(square.area())\r\n",
    "print(square.perimeter())"
   ],
   "outputs": [
    {
     "output_type": "stream",
     "name": "stdout",
     "text": [
      "16\n",
      "16\n"
     ]
    }
   ],
   "metadata": {}
  },
  {
   "cell_type": "markdown",
   "source": [
    "## 메서드 오버라이딩(method overriding)\r\n",
    "- 자식 클래스에서 부모 클래스의 메서드를 재정의하는 것\r\n",
    "- 상속 받은 메서드를 재정의\r\n",
    "  - 상속받은 클래스에서 같은 이름의 메서드를 덮어쓴다.\r\n",
    "  - 부모 클래스의 메서드를 실행시키고 싶은 경우 super를 활용"
   ],
   "metadata": {}
  },
  {
   "cell_type": "code",
   "execution_count": 28,
   "source": [
    "class Person:\r\n",
    "    def __init__(self, name):\r\n",
    "        self.name = name\r\n",
    "    \r\n",
    "    def talk(self):\r\n",
    "        print(f'반갑습니다. {self.name}입니다.')\r\n",
    "\r\n",
    "\r\n",
    "class Professor(Person):\r\n",
    "    def talk(self):\r\n",
    "        print(f'{self.name}일세.')\r\n",
    "\r\n",
    "\r\n",
    "class Student(Person):\r\n",
    "    def talk(self):\r\n",
    "        super().talk()\r\n",
    "        print('저는 학생입니다.')"
   ],
   "outputs": [],
   "metadata": {}
  },
  {
   "cell_type": "code",
   "execution_count": 29,
   "source": [
    "p1 = Professor('덤블도어')\r\n",
    "p1.talk()"
   ],
   "outputs": [
    {
     "output_type": "stream",
     "name": "stdout",
     "text": [
      "덤블도어일세.\n"
     ]
    }
   ],
   "metadata": {}
  },
  {
   "cell_type": "code",
   "execution_count": 30,
   "source": [
    "s1 = Student('해리')\r\n",
    "s1.talk()"
   ],
   "outputs": [
    {
     "output_type": "stream",
     "name": "stdout",
     "text": [
      "반갑습니다. 해리입니다.\n",
      "저는 학생입니다.\n"
     ]
    }
   ],
   "metadata": {}
  },
  {
   "cell_type": "markdown",
   "source": [
    "## 상속 관계에서의 이름 공간\r\n",
    "- 기존의 `인스턴스 -> 클래스` 순으로 이름 공간을 탐색해나가는 과정에서 상속관계에 있으면 아래와 같이 확장\r\n",
    "\r\n",
    "    - 인스턴스 -> 자식 클래스 -> 부모 클래스"
   ],
   "metadata": {}
  },
  {
   "cell_type": "markdown",
   "source": [
    "### [실습] Person & Animal (메서드 오버라이딩)\r\n",
    "\r\n",
    "> 사실 사람은 포유류이다. \r\n",
    ">\r\n",
    "> Animal Class를 만들고, Person Class 가 상속받도록 구성\r\n",
    ">\r\n",
    "> (변수나, 메서드는 자유롭게 만드시오.)\r\n",
    "\r\n",
    "```\r\n",
    "예) \r\n",
    "모든 동물은 이름이 있고, 사람은 이름과 이메일이 있다.\r\n",
    "모든 동물은 talk 메서드가 있다. \r\n",
    "동물은 '으르렁'하고, 사람은 '안녕'한다.\r\n",
    "```"
   ],
   "metadata": {}
  },
  {
   "cell_type": "code",
   "execution_count": 44,
   "source": [
    "class Animal:\r\n",
    "    def __init__(self, name):\r\n",
    "        self.name = name\r\n",
    "\r\n",
    "    def talk(self):\r\n",
    "        print('으르렁')\r\n",
    "\r\n",
    "class Person(Animal):\r\n",
    "    def __init__(self, name, email):\r\n",
    "        super().__init__(name)\r\n",
    "        self.email = email\r\n",
    "\r\n",
    "    def talk(self):\r\n",
    "        print('안녕')"
   ],
   "outputs": [],
   "metadata": {}
  },
  {
   "cell_type": "code",
   "execution_count": 45,
   "source": [
    "animal = Animal('호랑이')\r\n",
    "animal.talk()\r\n",
    "\r\n",
    "person = Person('이지은', 'iu@gmail.com')\r\n",
    "person.talk()"
   ],
   "outputs": [
    {
     "output_type": "stream",
     "name": "stdout",
     "text": [
      "으르렁\n",
      "안녕\n"
     ]
    }
   ],
   "metadata": {}
  },
  {
   "cell_type": "markdown",
   "source": [
    "## 다중 상속\r\n",
    "- 두개 이상의 클래스를 상속받는 경우, 다중 상속이 된다.\r\n",
    "  - 상속 받은 모든 클래스의 요소를 활용 가능\r\n",
    "  - 중복된 속성이나 메서드가 있는 경우 상속 순서에 의해 결정"
   ],
   "metadata": {}
  },
  {
   "cell_type": "code",
   "execution_count": 49,
   "source": [
    "class Person:\r\n",
    "    def __init__(self, name):\r\n",
    "        self.name = name\r\n",
    "\r\n",
    "    def greeting(self):\r\n",
    "        return f'안녕, {self.name}'\r\n",
    "\r\n",
    "class Mom(Person):\r\n",
    "    gene = 'XX'\r\n",
    "    \r\n",
    "    def swim(self):\r\n",
    "        return '첨벙첨벙'\r\n",
    "\r\n",
    "class Dad(Person):\r\n",
    "    gene = 'XY'\r\n",
    "    \r\n",
    "    def walk(self):\r\n",
    "        return '성큼성큼'\r\n",
    "\r\n",
    "class FirstChild(Dad, Mom): \r\n",
    "    def __init__(self, name):\r\n",
    "        super().__init__(name)\r\n",
    "\r\n",
    "    def swim(self):  # Mom의 swim 메서드를 오버라이딩\r\n",
    "        return '챱챱'\r\n",
    "    \r\n",
    "    def cry(self):  # Child 만이 가지는 인스턴스 메서드\r\n",
    "        return f'{self.name}, 응애'\r\n",
    "\r\n",
    "class SecondChild(Mom, Dad):  \r\n",
    "    def walk(self):  # Dad 의 walk 메서드를 오버라이딩\r\n",
    "        return '아장아장'\r\n",
    "    \r\n",
    "    def cry(self):  \r\n",
    "        return '응애'"
   ],
   "outputs": [],
   "metadata": {}
  },
  {
   "cell_type": "code",
   "execution_count": 50,
   "source": [
    "baby1 = FirstChild('다운')\r\n",
    "print( baby1.cry() )    # 다운, 응애\r\n",
    "print( baby1.swim() )   # 챱챱\r\n",
    "print( baby1.walk() )   # 성큼성큼\r\n",
    "print( baby1.gene )     # XY\r\n",
    "\r\n",
    "baby2 = SecondChild('음정')\r\n",
    "print( baby2.cry() )    # 응애\r\n",
    "print( baby2.swim() )   # 첨벙첨벙\r\n",
    "print( baby2.walk() )   # 아장아장\r\n",
    "print( baby2.gene )     # XX"
   ],
   "outputs": [
    {
     "output_type": "stream",
     "name": "stdout",
     "text": [
      "다운, 응애\n",
      "챱챱\n",
      "성큼성큼\n",
      "XY\n",
      "응애\n",
      "첨벙첨벙\n",
      "아장아장\n",
      "XX\n"
     ]
    }
   ],
   "metadata": {}
  },
  {
   "cell_type": "markdown",
   "source": [
    "## 상속정리\r\n",
    "- 파이썬의 모든 클래스는 object로부터 상속된다.\r\n",
    "- 부모 클래스의 모든 요소(속성, 메서드)가 상속된다.\r\n",
    "- super()를 통해 부모 클래스의 요소를 호출할 수 있다.\r\n",
    "- 메서드 오버라이딩을 통해 자식 클래스에서 재정의가 가능하다.\r\n",
    "- 상속관계에서의 이름 공간은 인스턴스, 자식 클래스, 부모 클래스 순으로 탐색한다."
   ],
   "metadata": {}
  }
 ],
 "metadata": {
  "orig_nbformat": 4,
  "language_info": {
   "name": "python",
   "version": "3.9.6",
   "mimetype": "text/x-python",
   "codemirror_mode": {
    "name": "ipython",
    "version": 3
   },
   "pygments_lexer": "ipython3",
   "nbconvert_exporter": "python",
   "file_extension": ".py"
  },
  "kernelspec": {
   "name": "python3",
   "display_name": "Python 3.9.6 64-bit"
  },
  "interpreter": {
   "hash": "826c1ff5c4179778aab3a3c529716f5482c58a2cdc9450e70eef1a1010bf897b"
  }
 },
 "nbformat": 4,
 "nbformat_minor": 2
}