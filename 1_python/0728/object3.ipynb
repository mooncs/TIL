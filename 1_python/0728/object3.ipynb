{
 "cells": [
  {
   "cell_type": "markdown",
   "source": [
    "# 객체 비교"
   ],
   "metadata": {}
  },
  {
   "cell_type": "markdown",
   "source": [
    "## == & is\r\n",
    "> ==\r\n",
    "- 동등한(equal)\r\n",
    "- 변수가 참조하는 객체가 동등한(내용이 같은) 경우 True\r\n",
    "- 두 객체가 같아 보이지만 실제로 동일한 대상을 가리키고 있다고 확인해 준 것은 아니다.\r\n",
    "\r\n",
    "> is\r\n",
    "- 동일한(identical)\r\n",
    "- 두 변수가 동일한 객체를 가리키는 경우 True\r\n",
    "\r\n",
    "---"
   ],
   "metadata": {}
  },
  {
   "cell_type": "markdown",
   "source": [
    "# 클래스 변수와 인스턴스 변수"
   ],
   "metadata": {}
  },
  {
   "cell_type": "markdown",
   "source": [
    "> 클래스 변수\r\n",
    "- 클래스 정의 안에(+인스턴스 메서드 밖에) 선언\r\n",
    "- 특정 클래스 인스턴스에 묶여 있지 않다.\r\n",
    "- 클래스 자체의 내용을 저장\r\n",
    "- 같은 클래스에서 생성된 모든 객체는 동일한 클래스 변수를 공유\r\n",
    "\r\n",
    "> 인스턴스 변수\r\n",
    "- 항상 특정 인스턴스에 묶여 있다.\r\n",
    "- 클래스에 저장되지 않고 클래스에서 생성된 개별 객체에 저장\r\n",
    "- 인스턴스 마다 완전히 독립적이므로 변수의 값을 수정하면 오로지 해당 객체에만 영향을 미친다."
   ],
   "metadata": {}
  },
  {
   "cell_type": "markdown",
   "source": [
    "## 클래스 변수와 인스턴스 변수의 함정"
   ],
   "metadata": {}
  },
  {
   "cell_type": "code",
   "execution_count": 1,
   "source": [
    "class Cat:\r\n",
    "    num_tails = 1           # 클래스 변수\r\n",
    "\r\n",
    "    def __init__(self, name):\r\n",
    "        self.name = name    # 인스턴스 변수"
   ],
   "outputs": [],
   "metadata": {}
  },
  {
   "cell_type": "code",
   "execution_count": 2,
   "source": [
    "# 새 Cat 인스턴스를 만들고 각 인스턴스는 name이라는 인스턴스 변수를 얻는다.\r\n",
    "emma = Cat('emma')\r\n",
    "daniel = Cat('daniel')\r\n",
    "print(emma.name)\r\n",
    "print(daniel.name)"
   ],
   "outputs": [
    {
     "output_type": "stream",
     "name": "stdout",
     "text": [
      "emma\n",
      "daniel\n"
     ]
    }
   ],
   "metadata": {}
  },
  {
   "cell_type": "code",
   "execution_count": 3,
   "source": [
    "# 각 Cat 인스턴스 또는 클래스 자체에서 직접 클래스 변수(num_tails)에 접근 가능\r\n",
    "print(emma.num_tails)\r\n",
    "print(daniel.num_tails)\r\n",
    "print(Cat.num_tails)"
   ],
   "outputs": [
    {
     "output_type": "stream",
     "name": "stdout",
     "text": [
      "1\n",
      "1\n",
      "1\n"
     ]
    }
   ],
   "metadata": {}
  },
  {
   "cell_type": "code",
   "execution_count": 4,
   "source": [
    "# 그러나 클래스를 통해 인스턴스 변수에 접근할 수 없다.\r\n",
    "# 인스턴스 변수는 각 객체 인스턴스에 특정되고 __init__생성자가 실행될 때 만들어 진다.(클래스 자체에는 존재하지 않는다.)\r\n",
    "\r\n",
    "print(Cat.name)"
   ],
   "outputs": [
    {
     "output_type": "error",
     "ename": "AttributeError",
     "evalue": "type object 'Cat' has no attribute 'name'",
     "traceback": [
      "\u001b[1;31m---------------------------------------------------------------------------\u001b[0m",
      "\u001b[1;31mAttributeError\u001b[0m                            Traceback (most recent call last)",
      "\u001b[1;32m~\\AppData\\Local\\Temp/ipykernel_25544/3997652280.py\u001b[0m in \u001b[0;36m<module>\u001b[1;34m\u001b[0m\n\u001b[0;32m      2\u001b[0m \u001b[1;31m# 인스턴스 변수는 각 객체 인스턴스에 특정되고 __init__생성자가 실행될 때 만들어 진다.(클래스 자체에는 존재하지 않는다.)\u001b[0m\u001b[1;33m\u001b[0m\u001b[1;33m\u001b[0m\u001b[1;33m\u001b[0m\u001b[0m\n\u001b[0;32m      3\u001b[0m \u001b[1;33m\u001b[0m\u001b[0m\n\u001b[1;32m----> 4\u001b[1;33m \u001b[0mprint\u001b[0m\u001b[1;33m(\u001b[0m\u001b[0mCat\u001b[0m\u001b[1;33m.\u001b[0m\u001b[0mname\u001b[0m\u001b[1;33m)\u001b[0m\u001b[1;33m\u001b[0m\u001b[1;33m\u001b[0m\u001b[0m\n\u001b[0m",
      "\u001b[1;31mAttributeError\u001b[0m: type object 'Cat' has no attribute 'name'"
     ]
    }
   ],
   "metadata": {}
  },
  {
   "cell_type": "code",
   "execution_count": 5,
   "source": [
    "# 클래스 변수를 수정하고 각 인스턴스가 클래스 변수에 접근\r\n",
    "Cat.num_tails = 2\r\n",
    "print(daniel.num_tails)\r\n",
    "print(emma.num_tails)"
   ],
   "outputs": [
    {
     "output_type": "stream",
     "name": "stdout",
     "text": [
      "2\n",
      "2\n"
     ]
    }
   ],
   "metadata": {}
  },
  {
   "cell_type": "code",
   "execution_count": 6,
   "source": [
    "# 클래스 변수를 다시 원래 값으로 변경\r\n",
    "Cat.num_tails = 1\r\n",
    "\r\n",
    "# 인스턴스로 클래스 변수를 다시 변경하고자 해도 해당 인스턴스에 인스턴스 변수가 생길 뿐 클래스 변수에는 영향이 없다.\r\n",
    "daniel.num_tails = 2\r\n",
    "\r\n",
    "print(Cat.num_tails)\r\n",
    "print(daniel.num_tails)\r\n",
    "print(emma.num_tails)"
   ],
   "outputs": [
    {
     "output_type": "stream",
     "name": "stdout",
     "text": [
      "1\n",
      "2\n",
      "1\n"
     ]
    }
   ],
   "metadata": {}
  },
  {
   "cell_type": "markdown",
   "source": [
    "## 클래스 변수와 인스턴스 변수의 함정\r\n",
    "- 클래스 변수가 동기화되지 않는 것처럼 보이지만, 실제로는 클래스 변수와 똑같은 이름의 인스턴스 변수가 만들어졌기 때문이다.\r\n",
    "- 이는 잘못된 것은 아니지만 수 많은 버그를 만들어 낼 수 있는 주범이 될 수 있다.\r\n",
    "- 인스턴스를 통해 클래스 변수를 수정하려고 시도하는 것\r\n",
    "  - 즉, 이름이 같은 인스턴스 변수를 만들어서 원래 클래스 변수를 가리는 것은 객체 지향 프로그래밍 스타일의 함정이라고 볼 수 있다.\r\n",
    "- 클래스 변수는 모든 클래스 인스턴스에서 공유하는 데이터를 위한 변수\r\n",
    "- 인스턴스 변수는 각 인스턴스 고유한 데이터를 위한 것\r\n",
    "- 클래스 변수는 동일한 이름의 인스턴스 변수에 의해 가려질 수 있기 떄문에 주의해야 한다.(버그나 원치 않는 동작을 유발할 수 있다.)\r\n",
    "---"
   ],
   "metadata": {}
  },
  {
   "cell_type": "markdown",
   "source": [
    "# 인스턴스 메서드 / 클래스 메서드 / 스태틱 메서드\r\n",
    "## 인스턴스 메서드\r\n",
    "- self 매개 변수를 통해 동일한 객체에 정의된 속성 및 다른 메서드에 자유롭게 접근 가능\r\n",
    "- 뿐만 아니라 클래스 자체에 접근할 수 있다.\r\n",
    "  - 즉, 인스턴스 메서드가 클래스 상태를 수정할 수도 있다.\r\n",
    "\r\n",
    "## 클래스 메서드\r\n",
    "- 클래스를 가리키는 cls 매개 변수를 받는다.\r\n",
    "- cls 인자에만 접근할 수 있기 때문에 객체 인스턴스 상태를 수정할 수는 없다.\r\n",
    "\r\n",
    "## 스태틱 메서드\r\n",
    "- 임의 개수의 매개 변수를 받을 수 있지만, self나 친 매개 변수는 사용하지 않는다.\r\n",
    "- 즉, 객체 상태나 클래스 상태를 수정할 수는 없다.\r\n",
    "- 일반 함수처럼 동작하지만 클래스의 이름 공간에 귀속된다.\r\n",
    "  - 주로 해당 클래스로 한정하는 용도로 사용"
   ],
   "metadata": {}
  },
  {
   "cell_type": "code",
   "execution_count": 7,
   "source": [
    "class MyClass:\r\n",
    "    def method(self):\r\n",
    "        return 'instance method', self\r\n",
    "\r\n",
    "    @classmethod\r\n",
    "    def classmethod(cls):\r\n",
    "        return 'class method', cls\r\n",
    "\r\n",
    "    @staticmethod\r\n",
    "    def staticmethod():\r\n",
    "        return 'static method'"
   ],
   "outputs": [],
   "metadata": {}
  },
  {
   "cell_type": "code",
   "execution_count": 8,
   "source": [
    "# 인스턴스 메서드를 호출한 결과\r\n",
    "obj = MyClass()\r\n",
    "\r\n",
    "obj.method()"
   ],
   "outputs": [
    {
     "output_type": "execute_result",
     "data": {
      "text/plain": [
       "('instance method', <__main__.MyClass at 0x22d0a61c790>)"
      ]
     },
     "metadata": {},
     "execution_count": 8
    }
   ],
   "metadata": {}
  },
  {
   "cell_type": "code",
   "execution_count": 9,
   "source": [
    "MyClass.method(obj)"
   ],
   "outputs": [
    {
     "output_type": "execute_result",
     "data": {
      "text/plain": [
       "('instance method', <__main__.MyClass at 0x22d0a61c790>)"
      ]
     },
     "metadata": {},
     "execution_count": 9
    }
   ],
   "metadata": {}
  },
  {
   "cell_type": "code",
   "execution_count": 10,
   "source": [
    "# 인스턴스는 클래스 메서드와 스태틱 메서드 모두 접근할 수 있다.\r\n",
    "obj.classmethod()"
   ],
   "outputs": [
    {
     "output_type": "execute_result",
     "data": {
      "text/plain": [
       "('class method', __main__.MyClass)"
      ]
     },
     "metadata": {},
     "execution_count": 10
    }
   ],
   "metadata": {}
  },
  {
   "cell_type": "code",
   "execution_count": 11,
   "source": [
    "MyClass.classmethod()"
   ],
   "outputs": [
    {
     "output_type": "execute_result",
     "data": {
      "text/plain": [
       "('class method', __main__.MyClass)"
      ]
     },
     "metadata": {},
     "execution_count": 11
    }
   ],
   "metadata": {}
  },
  {
   "cell_type": "code",
   "execution_count": 12,
   "source": [
    "obj.staticmethod()"
   ],
   "outputs": [
    {
     "output_type": "execute_result",
     "data": {
      "text/plain": [
       "'static method'"
      ]
     },
     "metadata": {},
     "execution_count": 12
    }
   ],
   "metadata": {}
  },
  {
   "cell_type": "markdown",
   "source": [
    "- 클래스 자체에서 각 타임의 메서드를 호출하는 경우\r\n",
    "- 인스턴스 메서드는 호출할 수 없다.\r\n",
    "  - 파이썬이 self 인자를 채울 수 있는 방법이 없으므로 TypeError 예외 발생"
   ],
   "metadata": {}
  },
  {
   "cell_type": "code",
   "execution_count": 13,
   "source": [
    "MyClass.classmethod()"
   ],
   "outputs": [
    {
     "output_type": "execute_result",
     "data": {
      "text/plain": [
       "('class method', __main__.MyClass)"
      ]
     },
     "metadata": {},
     "execution_count": 13
    }
   ],
   "metadata": {}
  },
  {
   "cell_type": "code",
   "execution_count": 14,
   "source": [
    "MyClass.staticmethod()"
   ],
   "outputs": [
    {
     "output_type": "execute_result",
     "data": {
      "text/plain": [
       "'static method'"
      ]
     },
     "metadata": {},
     "execution_count": 14
    }
   ],
   "metadata": {}
  },
  {
   "cell_type": "code",
   "execution_count": 15,
   "source": [
    "# 파이썬이 self 인자를 채울 수 있는 방법이 없으므로 TypeError 예외 발생\r\n",
    "MyClass.method()"
   ],
   "outputs": [
    {
     "output_type": "error",
     "ename": "TypeError",
     "evalue": "method() missing 1 required positional argument: 'self'",
     "traceback": [
      "\u001b[1;31m---------------------------------------------------------------------------\u001b[0m",
      "\u001b[1;31mTypeError\u001b[0m                                 Traceback (most recent call last)",
      "\u001b[1;32m~\\AppData\\Local\\Temp/ipykernel_25544/715810027.py\u001b[0m in \u001b[0;36m<module>\u001b[1;34m\u001b[0m\n\u001b[1;32m----> 1\u001b[1;33m \u001b[0mMyClass\u001b[0m\u001b[1;33m.\u001b[0m\u001b[0mmethod\u001b[0m\u001b[1;33m(\u001b[0m\u001b[1;33m)\u001b[0m\u001b[1;33m\u001b[0m\u001b[1;33m\u001b[0m\u001b[0m\n\u001b[0m",
      "\u001b[1;31mTypeError\u001b[0m: method() missing 1 required positional argument: 'self'"
     ]
    }
   ],
   "metadata": {}
  },
  {
   "cell_type": "markdown",
   "source": [
    "# 스태틱 메서드는 언제 사용해야 할까?\r\n",
    "- 스태틱 메서드는 self, cls 인자를 취하지 않기 때문에 사용에 있어 큰 제약이 있다.\r\n",
    "  - 하지만, 반대로 특정한 메서드가 주변의 다른 것들과 독립적일 수 있음을 뜻하는 것이기도하다.\r\n",
    "- 스태틱 메서드와 클래스 메서드를 사용하는 것은 개발자의 의도를 전달하는 동시에 개발자가 자신의 의도를 강제해 버그로 인해 설계를 깨뜨리지 않도록 한다.\r\n",
    "- self, cls 인자를 전달하지 않기 때문에 객체 인스턴스, 클래스 상태에 접근할 수 없음을 보장한다.\r\n",
    "- 또한 일반 함수를 사용하는 것처럼 실행할 수 있기 때문에 객체 지향 프로그래밍과 절차 지향 프로그래밍 스타일 사이를 연결하는 역할을 하기도 한다.\r\n",
    "---"
   ],
   "metadata": {}
  },
  {
   "cell_type": "markdown",
   "source": [
    "# 인스턴스 메서드 / 클래스 메서드 / 스태틱 메서드 정리\r\n",
    "- 인스턴스 메서드는 인스턴스가 필요하며 self를 통해 인스턴스에 접근\r\n",
    "- 클래스 메서드는 인스턴스가 필요하지 않는다.\r\n",
    "  - 인스턴스(self)에는 접근할 수 없지만 cls를 통해 클래스 자체에 접근할 수 있다.\r\n",
    "- 스태틱 메서드는 self, cls에 접근할 수 없으며, 일반 함수처럼 작동하지만, 자신이 정의된 클래스의 이름공간에 속함\r\n",
    "- 스태틱 및 클래스 메서드는 클래스 설계에 대한 개발자의 의도를 전달하고 강제한다.\r\n",
    "  - 이러한 점을 통해 코드의 유지 보수를 하는 데 많은 도움을 줄 수 있다."
   ],
   "metadata": {}
  }
 ],
 "metadata": {
  "orig_nbformat": 4,
  "language_info": {
   "name": "python",
   "version": "3.9.6",
   "mimetype": "text/x-python",
   "codemirror_mode": {
    "name": "ipython",
    "version": 3
   },
   "pygments_lexer": "ipython3",
   "nbconvert_exporter": "python",
   "file_extension": ".py"
  },
  "kernelspec": {
   "name": "python3",
   "display_name": "Python 3.9.6 64-bit"
  },
  "interpreter": {
   "hash": "826c1ff5c4179778aab3a3c529716f5482c58a2cdc9450e70eef1a1010bf897b"
  }
 },
 "nbformat": 4,
 "nbformat_minor": 2
}