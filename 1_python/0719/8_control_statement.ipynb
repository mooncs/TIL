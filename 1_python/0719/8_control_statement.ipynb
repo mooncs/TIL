{
 "metadata": {
  "language_info": {
   "codemirror_mode": {
    "name": "ipython",
    "version": 3
   },
   "file_extension": ".py",
   "mimetype": "text/x-python",
   "name": "python",
   "nbconvert_exporter": "python",
   "pygments_lexer": "ipython3",
   "version": "3.9.6"
  },
  "orig_nbformat": 4,
  "kernelspec": {
   "name": "python3",
   "display_name": "Python 3.9.6 64-bit"
  },
  "interpreter": {
   "hash": "826c1ff5c4179778aab3a3c529716f5482c58a2cdc9450e70eef1a1010bf897b"
  }
 },
 "nbformat": 4,
 "nbformat_minor": 2,
 "cells": [
  {
   "source": [
    "## 제어문(Control Statement)\n",
    "### 파이썬은 기본적으로 위에서 아래 순차적으로 명령을 수행한다.\n",
    "### 특정 상황에 따라 코드를 선택적으로 실행(분기/조건)하거나 계속하여 실행(반복)하는 제어가 필요하다.\n",
    "### 제어문은 순서도(flow chart)로 표현이 가능"
   ],
   "cell_type": "markdown",
   "metadata": {}
  },
  {
   "source": [
    "## 조건문(Conditional Statement)\n",
    "### if문은 참/거짓을 판단할 수 있는 조건식과 함께 사용\n",
    "- expression에는 참/거짓에 대한 조건식\n",
    "- 조건이 참인 경우 이후 들여쓰기 되어있는 코드 블록 실행\n",
    "- 이외의 경우 else 이후 들여쓰기 되어있는 코드 블럭 실행\n",
    "    - else는 선택적으로 활용 가능하다."
   ],
   "cell_type": "markdown",
   "metadata": {}
  },
  {
   "cell_type": "code",
   "execution_count": 2,
   "metadata": {},
   "outputs": [
    {
     "output_type": "stream",
     "name": "stdout",
     "text": [
      "5 이하\n5\n"
     ]
    }
   ],
   "source": [
    "a = 5\n",
    "if a > 5:\n",
    "    print('5 초과')\n",
    "else:\n",
    "    print('5 이하')\n",
    "print(a)"
   ]
  },
  {
   "cell_type": "code",
   "execution_count": 3,
   "metadata": {},
   "outputs": [
    {
     "output_type": "stream",
     "name": "stdout",
     "text": [
      "5 초과\n6\n"
     ]
    }
   ],
   "source": [
    "a = 6\n",
    "if a > 5:\n",
    "    print('5 초과')\n",
    "else:\n",
    "    print('5 이하')\n",
    "print(a)"
   ]
  },
  {
   "cell_type": "code",
   "execution_count": 4,
   "metadata": {},
   "outputs": [],
   "source": [
    "# 조건문 실습\n",
    "# 조건문을 통해 변수 num의 홀/짝 여부를 출력하시오."
   ]
  },
  {
   "cell_type": "code",
   "execution_count": 9,
   "metadata": {},
   "outputs": [
    {
     "output_type": "stream",
     "name": "stdout",
     "text": [
      "12은(는) 짝수입니다.\n"
     ]
    }
   ],
   "source": [
    "num = int(input('숫자를 입력하세요. : '))\n",
    "if num % 2 == 0:\n",
    "    print('{}은(는) 짝수입니다.'.format(num))\n",
    "else:\n",
    "    print('{}은(는) 홀수입니다.'.format(num))"
   ]
  },
  {
   "cell_type": "code",
   "execution_count": 11,
   "metadata": {},
   "outputs": [
    {
     "output_type": "stream",
     "name": "stdout",
     "text": [
      "Bad\n"
     ]
    }
   ],
   "source": [
    "dust = 140\n",
    "if dust > 150:\n",
    "    print('Very Bad')\n",
    "elif dust > 80:\n",
    "    print('Bad')\n",
    "elif dust > 30:\n",
    "    print('Normal')\n",
    "else:\n",
    "    print('Good')"
   ]
  },
  {
   "cell_type": "code",
   "execution_count": 15,
   "metadata": {},
   "outputs": [
    {
     "output_type": "stream",
     "name": "stdout",
     "text": [
      "You've got the wrong value\n"
     ]
    }
   ],
   "source": [
    "dust = -5\n",
    "if dust > 150:\n",
    "    print('Very Bad')\n",
    "    if dust > 300:\n",
    "        print('Plz stay in home.')\n",
    "elif dust > 80:\n",
    "    print('Bad')\n",
    "elif dust > 30:\n",
    "    print('Normal')\n",
    "else:\n",
    "    if dust >= 0:\n",
    "        print('Good')\n",
    "    else:\n",
    "        print('You\\'ve got the wrong value')"
   ]
  },
  {
   "cell_type": "code",
   "execution_count": 14,
   "metadata": {},
   "outputs": [
    {
     "output_type": "stream",
     "name": "stdout",
     "text": [
      "Very Bad\nPlz stay in home\n"
     ]
    }
   ],
   "source": [
    "dust = 350\n",
    "if dust > 150:\n",
    "    print('Very Bad')\n",
    "    if dust > 300:\n",
    "        print('Plz stay in home.')\n",
    "elif dust > 80:\n",
    "    print('Bad')\n",
    "elif dust > 30:\n",
    "    print('Normal')\n",
    "else:\n",
    "    if dust >= 0:\n",
    "        print('Good')\n",
    "    else:\n",
    "        print('You\\'ve got the wrong value')"
   ]
  },
  {
   "cell_type": "code",
   "execution_count": 22,
   "metadata": {},
   "outputs": [
    {
     "output_type": "stream",
     "name": "stdout",
     "text": [
      "5\n"
     ]
    }
   ],
   "source": [
    "# 참일 경우 앞의 값, 거짓일 경우 뒤의 값\n",
    "num = 5\n",
    "value = num if num >= 0 else -num\n",
    "print(value)"
   ]
  },
  {
   "cell_type": "code",
   "execution_count": 21,
   "metadata": {},
   "outputs": [
    {
     "output_type": "stream",
     "name": "stdout",
     "text": [
      "2\n"
     ]
    }
   ],
   "source": [
    "num = -2\n",
    "value = num if num >= 0 else -num\n",
    "print(value)"
   ]
  },
  {
   "cell_type": "code",
   "execution_count": 24,
   "metadata": {},
   "outputs": [
    {
     "output_type": "stream",
     "name": "stdout",
     "text": [
      "홀수입니다.\n"
     ]
    }
   ],
   "source": [
    "num = int(input('숫자를 입력하세요. : '))\n",
    "# if num % 2 != 0:\n",
    "#     print('{}은(는) 홀수입니다.'.format(num))\n",
    "# else:\n",
    "#     print('{}은(는) 짝수입니다.'.format(num))\n",
    "result = '홀수입니다.' if num % 2 else '짝수입니다.'\n",
    "print(result)"
   ]
  },
  {
   "source": [
    "## 반복문(Loop Statement)\n",
    "### while문\n",
    "- 종료조건에 해당하는 코드를 통해 반복문을 종료 시켜야한다.\n",
    "### for문\n",
    "- 반복가능한 객체를 모두 순회하면 종료한다.(별도 종료조건 불필요)\n",
    "### 반복제어\n",
    "- break, continue, for-else"
   ],
   "cell_type": "markdown",
   "metadata": {}
  },
  {
   "cell_type": "code",
   "execution_count": 25,
   "metadata": {},
   "outputs": [
    {
     "output_type": "stream",
     "name": "stdout",
     "text": [
      "0\n1\n2\n3\n4\nfinish\n"
     ]
    }
   ],
   "source": [
    "# while문\n",
    "a = 0\n",
    "while a<5:\n",
    "    print(a)\n",
    "    a += 1\n",
    "print('finish')"
   ]
  },
  {
   "cell_type": "code",
   "execution_count": 26,
   "metadata": {},
   "outputs": [
    {
     "output_type": "error",
     "ename": "ValueError",
     "evalue": "invalid literal for int() with base 10: ''",
     "traceback": [
      "\u001b[1;31m---------------------------------------------------------------------------\u001b[0m",
      "\u001b[1;31mValueError\u001b[0m                                Traceback (most recent call last)",
      "\u001b[1;32m~\\AppData\\Local\\Temp/ipykernel_22040/3746101364.py\u001b[0m in \u001b[0;36m<module>\u001b[1;34m\u001b[0m\n\u001b[0;32m      3\u001b[0m \u001b[0mn\u001b[0m \u001b[1;33m=\u001b[0m \u001b[1;36m0\u001b[0m\u001b[1;33m\u001b[0m\u001b[1;33m\u001b[0m\u001b[0m\n\u001b[0;32m      4\u001b[0m \u001b[0mtotal\u001b[0m \u001b[1;33m=\u001b[0m \u001b[1;36m0\u001b[0m\u001b[1;33m\u001b[0m\u001b[1;33m\u001b[0m\u001b[0m\n\u001b[1;32m----> 5\u001b[1;33m \u001b[0muser_input\u001b[0m \u001b[1;33m=\u001b[0m \u001b[0mint\u001b[0m\u001b[1;33m(\u001b[0m\u001b[0minput\u001b[0m\u001b[1;33m(\u001b[0m\u001b[1;33m)\u001b[0m\u001b[1;33m)\u001b[0m\u001b[1;33m\u001b[0m\u001b[1;33m\u001b[0m\u001b[0m\n\u001b[0m",
      "\u001b[1;31mValueError\u001b[0m: invalid literal for int() with base 10: ''"
     ]
    }
   ],
   "source": [
    "# while 실습문\n",
    "# 1부터 사용자가 입력한 양의 정수까지의 총합을 구하는 코드를 작성하시오.\n",
    "n = 0\n",
    "total = 0\n",
    "user_input = int(input())"
   ]
  },
  {
   "cell_type": "code",
   "execution_count": 28,
   "metadata": {},
   "outputs": [
    {
     "output_type": "stream",
     "name": "stdout",
     "text": [
      "15\n"
     ]
    }
   ],
   "source": [
    "n = 0\n",
    "total = 0\n",
    "user_input = int(input())\n",
    "for i in range(1,user_input+1):\n",
    "    total += i\n",
    "print(total)"
   ]
  },
  {
   "cell_type": "code",
   "execution_count": 30,
   "metadata": {},
   "outputs": [
    {
     "output_type": "stream",
     "name": "stdout",
     "text": [
      "15\n"
     ]
    }
   ],
   "source": [
    "n = 0\n",
    "total = 0\n",
    "user_input = int(input())\n",
    "while n <= user_input:\n",
    "    total += n\n",
    "    n += 1\n",
    "print(total)"
   ]
  },
  {
   "cell_type": "code",
   "execution_count": 31,
   "metadata": {},
   "outputs": [
    {
     "output_type": "stream",
     "name": "stdout",
     "text": [
      "apple\nbanana\nmango\n끝\n"
     ]
    }
   ],
   "source": [
    "# for문\n",
    "for fruit in ['apple', 'banana', 'mango']:\n",
    "    print(fruit)\n",
    "print('끝')"
   ]
  },
  {
   "cell_type": "code",
   "execution_count": 33,
   "metadata": {},
   "outputs": [],
   "source": [
    "# for문 실습문제\n",
    "# 사용자가 입력한 문자를 한글자씩 출력하시오.\n",
    "chars = input()"
   ]
  },
  {
   "cell_type": "code",
   "execution_count": 34,
   "metadata": {},
   "outputs": [
    {
     "output_type": "stream",
     "name": "stdout",
     "text": [
      "z\nx\nc\nv\nb\n"
     ]
    }
   ],
   "source": [
    "chars = input()\n",
    "for char in chars:\n",
    "    print(char)"
   ]
  },
  {
   "cell_type": "code",
   "execution_count": 35,
   "metadata": {},
   "outputs": [],
   "source": [
    "# 조건/반복문 실습문제\n",
    "# 반복문과 조건문만 활용하여 1~30까지 숫자 중에 홀수만 출력하시오."
   ]
  },
  {
   "cell_type": "code",
   "execution_count": 36,
   "metadata": {},
   "outputs": [
    {
     "output_type": "stream",
     "name": "stdout",
     "text": [
      "1\n3\n5\n7\n9\n11\n13\n15\n17\n19\n21\n23\n25\n27\n29\n"
     ]
    }
   ],
   "source": [
    "for i in range(1, 31):\n",
    "    if i % 2:\n",
    "        print(i)"
   ]
  },
  {
   "cell_type": "code",
   "execution_count": 38,
   "metadata": {},
   "outputs": [
    {
     "output_type": "stream",
     "name": "stdout",
     "text": [
      "1번 Tom\n2번 Aiden\n3번 Alice\n"
     ]
    }
   ],
   "source": [
    "# 리스트 순회하기 - range\n",
    "members = ['Tom', 'Aiden', 'Alice']\n",
    "for i in range(len(members)):\n",
    "    print('{}번 {}'.format(i+1, members[i]))"
   ]
  },
  {
   "cell_type": "code",
   "execution_count": 40,
   "metadata": {},
   "outputs": [
    {
     "output_type": "stream",
     "name": "stdout",
     "text": [
      "1번 Tom\n2번 Aiden\n3번 Alice\n"
     ]
    }
   ],
   "source": [
    "# 리스트 순회하기 - enumerate\n",
    "members = ['Tom', 'Aiden', 'Alice']\n",
    "for idx, member in enumerate(members):\n",
    "    print(f'{idx+1}번 {member}')"
   ]
  },
  {
   "cell_type": "code",
   "execution_count": 41,
   "metadata": {},
   "outputs": [
    {
     "output_type": "execute_result",
     "data": {
      "text/plain": [
       "[(0, 'Tom'), (1, 'Aiden'), (2, 'Alice')]"
      ]
     },
     "metadata": {},
     "execution_count": 41
    }
   ],
   "source": [
    "list(enumerate(members))"
   ]
  },
  {
   "cell_type": "code",
   "execution_count": 42,
   "metadata": {},
   "outputs": [
    {
     "output_type": "execute_result",
     "data": {
      "text/plain": [
       "[(1, 'Tom'), (2, 'Aiden'), (3, 'Alice')]"
      ]
     },
     "metadata": {},
     "execution_count": 42
    }
   ],
   "source": [
    "# start를 지정하면 해당 값부터 순차적으로 증가한다.\n",
    "list(enumerate(members, start=1))"
   ]
  },
  {
   "source": [
    "### break\n",
    "- 반복문 종료\n",
    "### continue\n",
    "- continue 이후의 코드 블록은 수행하지 않고, 다음 반복을 수행\n",
    "### for-else\n",
    "- 끝까지 반복문을 실행한 이후에 else문 실행\n",
    "- break를 통해 중간에 종료되는 경우 else문은 실행되지 않는다."
   ],
   "cell_type": "markdown",
   "metadata": {}
  },
  {
   "cell_type": "code",
   "execution_count": 43,
   "metadata": {},
   "outputs": [
    {
     "output_type": "stream",
     "name": "stdout",
     "text": [
      "0\n1\n2\n"
     ]
    }
   ],
   "source": [
    "n = 0\n",
    "while True:\n",
    "    if n == 3:\n",
    "        break\n",
    "    print(n)\n",
    "    n += 1"
   ]
  },
  {
   "cell_type": "code",
   "execution_count": 44,
   "metadata": {},
   "outputs": [
    {
     "output_type": "stream",
     "name": "stdout",
     "text": [
      "0\n1\nonly needs 0 & 1!\n"
     ]
    }
   ],
   "source": [
    "for i in range(10):\n",
    "    if i > 1:\n",
    "        print('only needs 0 & 1!')\n",
    "        break\n",
    "    print(i)"
   ]
  },
  {
   "cell_type": "code",
   "execution_count": 46,
   "metadata": {},
   "outputs": [
    {
     "output_type": "stream",
     "name": "stdout",
     "text": [
      "1\n3\n5\n"
     ]
    }
   ],
   "source": [
    "# continue 이후의 코드 블록은 수행하지 않고, 다시 반복을 수행\n",
    "for i in range(6):\n",
    "    if i % 2 == 0:\n",
    "        continue\n",
    "    print(i)"
   ]
  },
  {
   "cell_type": "code",
   "execution_count": 49,
   "metadata": {},
   "outputs": [
    {
     "output_type": "stream",
     "name": "stdout",
     "text": [
      "There is no 'b'\n"
     ]
    }
   ],
   "source": [
    "for char in 'apple':\n",
    "    if char == 'b':\n",
    "        print('b')\n",
    "        break\n",
    "else:\n",
    "    print('There is no \\'b\\'')"
   ]
  },
  {
   "cell_type": "code",
   "execution_count": 51,
   "metadata": {},
   "outputs": [
    {
     "output_type": "stream",
     "name": "stdout",
     "text": [
      "b!!!\n"
     ]
    }
   ],
   "source": [
    "for char in 'banana':\n",
    "    if char == 'b':\n",
    "        print('b!!!')\n",
    "        break\n",
    "else:\n",
    "    print('There is no \\'b\\'')"
   ]
  },
  {
   "cell_type": "code",
   "execution_count": 52,
   "metadata": {},
   "outputs": [],
   "source": [
    "# pass\n",
    "# 특별히 할 일이 없을 때 자리를 채우는 채우는 용도로 사용한다.\n",
    "# 반복문이 아니어도 사용이 가능"
   ]
  },
  {
   "cell_type": "code",
   "execution_count": 57,
   "metadata": {},
   "outputs": [
    {
     "output_type": "stream",
     "name": "stdout",
     "text": [
      "0\n1\n2\n3\n4\n"
     ]
    }
   ],
   "source": [
    "for i in range(5):\n",
    "    if i == 3 :\n",
    "        pass\n",
    "    print(i)"
   ]
  },
  {
   "cell_type": "code",
   "execution_count": 58,
   "metadata": {},
   "outputs": [
    {
     "output_type": "stream",
     "name": "stdout",
     "text": [
      "0\n1\n2\n4\n"
     ]
    }
   ],
   "source": [
    "for i in range(5):\n",
    "    if i == 3 :\n",
    "        continue\n",
    "    print(i)"
   ]
  },
  {
   "cell_type": "code",
   "execution_count": null,
   "metadata": {},
   "outputs": [],
   "source": []
  }
 ]
}