{
 "metadata": {
  "language_info": {
   "codemirror_mode": {
    "name": "ipython",
    "version": 3
   },
   "file_extension": ".py",
   "mimetype": "text/x-python",
   "name": "python",
   "nbconvert_exporter": "python",
   "pygments_lexer": "ipython3",
   "version": "3.9.6"
  },
  "orig_nbformat": 4,
  "kernelspec": {
   "name": "python3",
   "display_name": "Python 3.9.6 64-bit"
  },
  "interpreter": {
   "hash": "826c1ff5c4179778aab3a3c529716f5482c58a2cdc9450e70eef1a1010bf897b"
  }
 },
 "nbformat": 4,
 "nbformat_minor": 2,
 "cells": [
  {
   "cell_type": "code",
   "execution_count": 2,
   "metadata": {},
   "outputs": [
    {
     "output_type": "stream",
     "name": "stdout",
     "text": [
      "9223372036854775807\n"
     ]
    }
   ],
   "source": [
    "# 모든 정수의 타입은 int\n",
    "import sys\n",
    "# 오버플로우가 발생하지 않음\n",
    "print(sys.maxsize)"
   ]
  },
  {
   "cell_type": "code",
   "execution_count": 5,
   "metadata": {},
   "outputs": [
    {
     "output_type": "stream",
     "name": "stdout",
     "text": [
      "2\n24\n16\n"
     ]
    }
   ],
   "source": [
    "# 진수표현\n",
    "print(0b10)     # 0b 2진수\n",
    "print(0o30)     # 0o 8진수\n",
    "print(0x10)     # 0x 16진수"
   ]
  },
  {
   "cell_type": "code",
   "execution_count": 6,
   "metadata": {},
   "outputs": [
    {
     "output_type": "execute_result",
     "data": {
      "text/plain": [
       "False"
      ]
     },
     "metadata": {},
     "execution_count": 6
    }
   ],
   "source": [
    "# 정수가 아닌 모든 실수는 float타입\n",
    "# 부동소수점 오류\n",
    "3.14 - 3.02 == 0.12     # False"
   ]
  },
  {
   "cell_type": "code",
   "execution_count": 7,
   "metadata": {},
   "outputs": [
    {
     "output_type": "execute_result",
     "data": {
      "text/plain": [
       "0.1200000000000001"
      ]
     },
     "metadata": {},
     "execution_count": 7
    }
   ],
   "source": [
    "3.14 - 3.02"
   ]
  },
  {
   "cell_type": "code",
   "execution_count": 8,
   "metadata": {},
   "outputs": [
    {
     "output_type": "stream",
     "name": "stdout",
     "text": [
      "True\nTrue\n2.220446049250313e-16\nTrue\n"
     ]
    }
   ],
   "source": [
    "# 부동소수점 오류 해결\n",
    "a = 3.14-3.02\n",
    "b = 0.12\n",
    "# 1. 임의의 작은수\n",
    "print(abs(a - b) <= 1e-10)\n",
    "\n",
    "# system상의 machine epslion\n",
    "import sys\n",
    "print(abs(a - b) <= sys.float_info.epsilon)\n",
    "print(sys.float_info.epsilon)\n",
    "\n",
    "# python 3.5이상 사용 가능\n",
    "import math\n",
    "print(math.isclose(a, b))   # isclose(1, 2) 1과 2가 가깝니?"
   ]
  },
  {
   "cell_type": "code",
   "execution_count": 9,
   "metadata": {},
   "outputs": [
    {
     "output_type": "stream",
     "name": "stdout",
     "text": [
      "<class 'complex'>\n3.0\n4.0\n"
     ]
    }
   ],
   "source": [
    "# complex 복소수\n",
    "# 허수부를 j로 표현\n",
    "a = 3+4j\n",
    "print(type(a))\n",
    "print(a.real)\n",
    "print(a.imag)"
   ]
  },
  {
   "cell_type": "code",
   "execution_count": null,
   "metadata": {},
   "outputs": [],
   "source": []
  }
 ]
}