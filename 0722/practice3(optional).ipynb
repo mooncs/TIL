{
 "cells": [
  {
   "cell_type": "markdown",
   "source": [
    "# Practice 3\n",
    "\n",
    "> 자료 구조 "
   ],
   "metadata": {}
  },
  {
   "cell_type": "markdown",
   "source": [
    "## 회문 판별\n",
    "\n",
    "> 회문 또는 팰린드롬은 거꾸로 읽어도 제대로 읽는 것과 같은 문장이나 낱말, 숫자, 문자열 등을 말한다. \n",
    "> \n",
    "> 입력으로 짧은 영어단어 word가 주어질 때, 해당 단어가 회문이면 True 회문이 아니면 False를 반환하는 함수를 작성하시오.\n",
    "> \n",
    "> 이때, 반복문(`while`)과 재귀 함수를 사용해서 각각 작성하시오.\n",
    "\n",
    "---\n",
    "\n",
    "예시)\n",
    "\n",
    "```python\n",
    "is_pal_while('tomato') #=> False\n",
    "is_pal_while('racecar') #=> True\n",
    "is_pal_recursive('azza') #=> True\n",
    "```"
   ],
   "metadata": {}
  },
  {
   "cell_type": "code",
   "execution_count": 1,
   "source": [
    "# while1\r\n",
    "def is_pal_while(word):\r\n",
    "    while True:\r\n",
    "        if word == word[::-1]:\r\n",
    "        # if word == ''.join(reversed(word)):\r\n",
    "        # if word == word[::-1]:\r\n",
    "            return True\r\n",
    "        else:\r\n",
    "            return False"
   ],
   "outputs": [],
   "metadata": {}
  },
  {
   "cell_type": "code",
   "execution_count": 3,
   "source": [
    "# while2\r\n",
    "def is_pal_while(word):\r\n",
    "    # 문자열 첫 인덱스\r\n",
    "    start = 0\r\n",
    "    # 문자열 마지막 인덱스\r\n",
    "    end = len(word)-1\r\n",
    "    while start < end:\r\n",
    "        if word[start] != word[end]:\r\n",
    "            return False\r\n",
    "        # 문자열 인덱스 이동\r\n",
    "        start +=1\r\n",
    "        end -=1\r\n",
    "    # while문을 통과했다면 회문이다.\r\n",
    "    return True"
   ],
   "outputs": [],
   "metadata": {}
  },
  {
   "cell_type": "code",
   "execution_count": null,
   "source": [
    "def is_pal_while(word):\r\n",
    "    while len(word) > 1:\r\n",
    "        if word[0] == word[-1]:\r\n",
    "            word = word[1:-1]\r\n",
    "        else:\r\n",
    "            return False\r\n",
    "    return True"
   ],
   "outputs": [],
   "metadata": {}
  },
  {
   "cell_type": "code",
   "execution_count": 4,
   "source": [
    "# 해당 코드를 통해 올바른 결과가 나오는지 확인하시오.\r\n",
    "print(is_pal_while('tomato'))\r\n",
    "print(is_pal_while('racecar'))\r\n",
    "print(is_pal_while('azza'))"
   ],
   "outputs": [
    {
     "output_type": "stream",
     "name": "stdout",
     "text": [
      "False\n",
      "True\n",
      "True\n"
     ]
    }
   ],
   "metadata": {
    "ExecuteTime": {
     "end_time": "2020-07-22T06:02:28.799426Z",
     "start_time": "2020-07-22T06:02:28.795559Z"
    }
   }
  },
  {
   "cell_type": "code",
   "execution_count": 5,
   "source": [
    "# recursive\r\n",
    "def is_pal_recursive(word):\r\n",
    "    if len(word) < 2:\r\n",
    "        return True\r\n",
    "    elif word[0] != word[-1]:\r\n",
    "        return False\r\n",
    "\r\n",
    "    return is_pal_recursive(word[1:-1])    "
   ],
   "outputs": [],
   "metadata": {}
  },
  {
   "cell_type": "code",
   "execution_count": null,
   "source": [
    "def is_pal_recursive(word):\r\n",
    "    # base_case\r\n",
    "    if len(word) <= 1:\r\n",
    "        return True\r\n",
    "    # recursion_case\r\n",
    "    if word[0] == word[-1]:\r\n",
    "        return is_pal_recursive(word[1:-1])\r\n",
    "    else:\r\n",
    "        return False"
   ],
   "outputs": [],
   "metadata": {}
  },
  {
   "cell_type": "code",
   "execution_count": 6,
   "source": [
    "# 해당 코드를 통해 올바른 결과가 나오는지 확인하시오.\r\n",
    "print(is_pal_recursive('tomato'))\r\n",
    "print(is_pal_recursive('racecar'))\r\n",
    "print(is_pal_recursive('azza'))"
   ],
   "outputs": [
    {
     "output_type": "stream",
     "name": "stdout",
     "text": [
      "False\n",
      "True\n",
      "True\n"
     ]
    }
   ],
   "metadata": {
    "ExecuteTime": {
     "end_time": "2020-07-22T05:45:13.268969Z",
     "start_time": "2020-07-22T05:45:13.263708Z"
    }
   }
  }
 ],
 "metadata": {
  "kernelspec": {
   "name": "python3",
   "display_name": "Python 3.9.6 64-bit"
  },
  "language_info": {
   "codemirror_mode": {
    "name": "ipython",
    "version": 3
   },
   "file_extension": ".py",
   "mimetype": "text/x-python",
   "name": "python",
   "nbconvert_exporter": "python",
   "pygments_lexer": "ipython3",
   "version": "3.9.6"
  },
  "toc": {
   "base_numbering": 1,
   "nav_menu": {},
   "number_sections": true,
   "sideBar": true,
   "skip_h1_title": false,
   "title_cell": "Table of Contents",
   "title_sidebar": "Contents",
   "toc_cell": false,
   "toc_position": {},
   "toc_section_display": true,
   "toc_window_display": false
  },
  "interpreter": {
   "hash": "826c1ff5c4179778aab3a3c529716f5482c58a2cdc9450e70eef1a1010bf897b"
  }
 },
 "nbformat": 4,
 "nbformat_minor": 4
}