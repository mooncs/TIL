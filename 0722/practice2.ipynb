{
 "cells": [
  {
   "cell_type": "markdown",
   "source": [
    "# Practice 2\n",
    "\n",
    "> 함수"
   ],
   "metadata": {}
  },
  {
   "cell_type": "markdown",
   "source": [
    "## 불쌍한 달팽이\n",
    "\n",
    "> 달팽이는 낮 시간 동안에 기둥을 올라간다. 하지만 밤에는 잠을 자면서 어느 정도의 거리만큼 미끄러진다. (낮 시간 동안 올라간 거리보다는 적게 미끄러진다.)\n",
    "> \n",
    "> 달팽이가 기둥의 꼭대기에 도달하는 날까지 걸리는 시간을 반환하는 함수 `snail()`을 작성하시오.\n",
    "\n",
    "> 함수의 인자는 다음과 같다.\n",
    "1. 기둥의 높이(미터)\n",
    "2. 낮 시간 동안 달팽이가 올라가는 거리(미터)\n",
    "3. 달팽이가 야간에 잠을 자는 동안 미끄러지는 거리(미터)\n",
    "\n",
    "---\n",
    "\n",
    "예시)\n",
    "\n",
    "```python\n",
    "snail(100, 5, 2) #=> 33\n",
    "```"
   ],
   "metadata": {}
  },
  {
   "cell_type": "code",
   "execution_count": 5,
   "source": [
    "def snail(height, day, night):\r\n",
    "    cnt = 1\r\n",
    "    move = 0\r\n",
    "    while True:\r\n",
    "        move += day\r\n",
    "        if move >= height:\r\n",
    "            return cnt \r\n",
    "        move -= night\r\n",
    "        cnt += 1"
   ],
   "outputs": [],
   "metadata": {}
  },
  {
   "cell_type": "code",
   "execution_count": null,
   "source": [
    "def snail(height, day, night):\r\n",
    "    ans = 0\r\n",
    "    while True:\r\n",
    "        ans += 1\r\n",
    "        height -= day\r\n",
    "        if height <=0:\r\n",
    "            return ans\r\n",
    "        height += night"
   ],
   "outputs": [],
   "metadata": {}
  },
  {
   "cell_type": "code",
   "execution_count": 6,
   "source": [
    "# 해당 코드를 통해 올바른 결과가 나오는지 확인하시오.\r\n",
    "print(snail(100, 5, 2))"
   ],
   "outputs": [
    {
     "output_type": "stream",
     "name": "stdout",
     "text": [
      "33\n"
     ]
    }
   ],
   "metadata": {}
  },
  {
   "cell_type": "markdown",
   "source": [
    "## 자릿수 더하기 (SWEA #2058)\n",
    "\n",
    "> 자연수 number를 입력 받아, 각 자릿수의 합을 계산하여 출력하시오.\n",
    "\n",
    "---\n",
    "\n",
    "예시)\n",
    "\n",
    "```python\n",
    "sum_of_digit(1234) #=> 10\n",
    "sum_of_digit(4321) #=> 10\n",
    "```"
   ],
   "metadata": {}
  },
  {
   "cell_type": "code",
   "execution_count": 7,
   "source": [
    "def sum_of_digit(number):\r\n",
    "    sum_num = 0\r\n",
    "    # 인덱싱을 위해 문자열로 변환\r\n",
    "    number = str(number)\r\n",
    "    for n in number:\r\n",
    "        sum_num += int(n)\r\n",
    "    \r\n",
    "    return sum_num"
   ],
   "outputs": [],
   "metadata": {}
  },
  {
   "cell_type": "code",
   "execution_count": 9,
   "source": [
    "# 재귀함수를 활용\r\n",
    "def sum_of_digit(number):\r\n",
    "    if number < 10:\r\n",
    "        return number\r\n",
    "    # 10으로 나눴을 때의 나머지와 10으로 나눴을 때의 몫을 다시 함수에 넣어을 때의 반환 값을 더해 반환\r\n",
    "    return (number%10) + sum_of_digit(number//10)"
   ],
   "outputs": [],
   "metadata": {}
  },
  {
   "cell_type": "code",
   "execution_count": 11,
   "source": [
    "# map함수를 활용\r\n",
    "def sum_of_digit(number):\r\n",
    "    return sum(map(int, str(number)))"
   ],
   "outputs": [],
   "metadata": {}
  },
  {
   "cell_type": "code",
   "execution_count": null,
   "source": [
    "def sum_of_digit(number):\r\n",
    "    ans = 0\r\n",
    "    while number > 0:\r\n",
    "        ans += number % 10\r\n",
    "        number = number // 10\r\n",
    "    \r\n",
    "    return ans\r\n",
    "\r\n",
    "def sum_of_digit2(number):\r\n",
    "    str_number = str(number)\r\n",
    "    ans = 0\r\n",
    "\r\n",
    "    for s in str_number:\r\n",
    "    \r\n",
    "    return ans"
   ],
   "outputs": [],
   "metadata": {}
  },
  {
   "cell_type": "code",
   "execution_count": 12,
   "source": [
    "# 해당 코드를 통해 올바른 결과가 나오는지 확인하시오.\r\n",
    "print(sum_of_digit(1234))\r\n",
    "print(sum_of_digit(4321))"
   ],
   "outputs": [
    {
     "output_type": "stream",
     "name": "stdout",
     "text": [
      "10\n",
      "10\n"
     ]
    }
   ],
   "metadata": {}
  }
 ],
 "metadata": {
  "kernelspec": {
   "name": "python3",
   "display_name": "Python 3.9.6 64-bit"
  },
  "language_info": {
   "codemirror_mode": {
    "name": "ipython",
    "version": 3
   },
   "file_extension": ".py",
   "mimetype": "text/x-python",
   "name": "python",
   "nbconvert_exporter": "python",
   "pygments_lexer": "ipython3",
   "version": "3.9.6"
  },
  "toc": {
   "base_numbering": 1,
   "nav_menu": {},
   "number_sections": true,
   "sideBar": true,
   "skip_h1_title": false,
   "title_cell": "Table of Contents",
   "title_sidebar": "Contents",
   "toc_cell": false,
   "toc_position": {},
   "toc_section_display": true,
   "toc_window_display": false
  },
  "interpreter": {
   "hash": "826c1ff5c4179778aab3a3c529716f5482c58a2cdc9450e70eef1a1010bf897b"
  }
 },
 "nbformat": 4,
 "nbformat_minor": 4
}