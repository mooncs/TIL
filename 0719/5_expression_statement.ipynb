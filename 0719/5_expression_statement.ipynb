{
 "metadata": {
  "language_info": {
   "codemirror_mode": {
    "name": "ipython",
    "version": 3
   },
   "file_extension": ".py",
   "mimetype": "text/x-python",
   "name": "python",
   "nbconvert_exporter": "python",
   "pygments_lexer": "ipython3",
   "version": "3.9.6"
  },
  "orig_nbformat": 4,
  "kernelspec": {
   "name": "python3",
   "display_name": "Python 3.9.6 64-bit"
  },
  "interpreter": {
   "hash": "826c1ff5c4179778aab3a3c529716f5482c58a2cdc9450e70eef1a1010bf897b"
  }
 },
 "nbformat": 4,
 "nbformat_minor": 2,
 "cells": [
  {
   "source": [
    "## 표현식, Expression\n",
    "- 표현식은 평가(evaluate)되고, 값으로 변경\n",
    "- 하나의 값으로 환원(reduce)될 수 있는 문장\n",
    "- 식별자, 값, 연산자로 구성"
   ],
   "cell_type": "markdown",
   "metadata": {}
  },
  {
   "cell_type": "code",
   "execution_count": 1,
   "metadata": {},
   "outputs": [
    {
     "output_type": "execute_result",
     "data": {
      "text/plain": [
       "'hello'"
      ]
     },
     "metadata": {},
     "execution_count": 1
    }
   ],
   "source": [
    "# 하나의 value도 expression이 될 수 있다.\n",
    "'hello'"
   ]
  },
  {
   "cell_type": "code",
   "execution_count": 2,
   "metadata": {},
   "outputs": [],
   "source": [
    "# expression은 하나의 값으로 evaluate 될 수 있어야 한다.\n",
    "# 할당문(assignment statement)은 표현식?\n",
    "radius = 10"
   ]
  },
  {
   "cell_type": "code",
   "execution_count": 3,
   "metadata": {},
   "outputs": [
    {
     "output_type": "execute_result",
     "data": {
      "text/plain": [
       "78.5"
      ]
     },
     "metadata": {},
     "execution_count": 3
    }
   ],
   "source": [
    "# 식별자가 값이 할당되어 있는 경우 수식의 일부가 될 수 있다.\n",
    "3.14 * (radius / 2) **2"
   ]
  },
  {
   "cell_type": "code",
   "execution_count": 4,
   "metadata": {},
   "outputs": [
    {
     "output_type": "error",
     "ename": "SyntaxError",
     "evalue": "invalid syntax (Temp/ipykernel_5432/75681225.py, line 3)",
     "traceback": [
      "\u001b[1;36m  File \u001b[1;32m\"C:\\Users\\csmoo\\AppData\\Local\\Temp/ipykernel_5432/75681225.py\"\u001b[1;36m, line \u001b[1;32m3\u001b[0m\n\u001b[1;33m    4 +\u001b[0m\n\u001b[1;37m       ^\u001b[0m\n\u001b[1;31mSyntaxError\u001b[0m\u001b[1;31m:\u001b[0m invalid syntax\n"
     ]
    }
   ],
   "source": [
    "# 표현식을 만드는 문법(syntax)은 일반적인 (중위표기) 수식의 규칙과 유사하다.\n",
    "# 아래와 같은 문장은 표현식이 될 수 없다.\n",
    "4 +"
   ]
  },
  {
   "source": [
    "## 문장, Statement\n",
    "- 파이썬이 실행 가능한 최소한의 코드 단위\n",
    "- 모든 표현식(expression)은 문장(statement)이다.\n",
    "    - 표현식이 아닌 문장이 존재"
   ],
   "cell_type": "markdown",
   "metadata": {}
  },
  {
   "cell_type": "code",
   "execution_count": 7,
   "metadata": {},
   "outputs": [
    {
     "output_type": "execute_result",
     "data": {
      "text/plain": [
       "'hello'"
      ]
     },
     "metadata": {},
     "execution_count": 7
    }
   ],
   "source": [
    "# 하나의 value도 문장이 될 수 있다.\n",
    "'hello'"
   ]
  },
  {
   "cell_type": "code",
   "execution_count": 8,
   "metadata": {},
   "outputs": [
    {
     "output_type": "execute_result",
     "data": {
      "text/plain": [
       "24"
      ]
     },
     "metadata": {},
     "execution_count": 8
    }
   ],
   "source": [
    "# 표현식도 문장이 될 수 있다.\n",
    "5 * 5 - 1 "
   ]
  },
  {
   "cell_type": "code",
   "execution_count": 9,
   "metadata": {},
   "outputs": [
    {
     "output_type": "error",
     "ename": "SyntaxError",
     "evalue": "EOL while scanning string literal (Temp/ipykernel_5432/2687865945.py, line 2)",
     "traceback": [
      "\u001b[1;36m  File \u001b[1;32m\"C:\\Users\\csmoo\\AppData\\Local\\Temp/ipykernel_5432/2687865945.py\"\u001b[1;36m, line \u001b[1;32m2\u001b[0m\n\u001b[1;33m    name = '\u001b[0m\n\u001b[1;37m            ^\u001b[0m\n\u001b[1;31mSyntaxError\u001b[0m\u001b[1;31m:\u001b[0m EOL while scanning string literal\n"
     ]
    }
   ],
   "source": [
    "# 문장은 실행가능(executable) 해야한다.\n",
    "name = '"
   ]
  },
  {
   "cell_type": "code",
   "execution_count": null,
   "metadata": {},
   "outputs": [],
   "source": []
  }
 ]
}