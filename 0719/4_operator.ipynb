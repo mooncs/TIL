{
 "metadata": {
  "language_info": {
   "codemirror_mode": {
    "name": "ipython",
    "version": 3
   },
   "file_extension": ".py",
   "mimetype": "text/x-python",
   "name": "python",
   "nbconvert_exporter": "python",
   "pygments_lexer": "ipython3",
   "version": "3.9.6"
  },
  "orig_nbformat": 4,
  "kernelspec": {
   "name": "python3",
   "display_name": "Python 3.9.6 64-bit"
  },
  "interpreter": {
   "hash": "826c1ff5c4179778aab3a3c529716f5482c58a2cdc9450e70eef1a1010bf897b"
  }
 },
 "nbformat": 4,
 "nbformat_minor": 2,
 "cells": [
  {
   "source": [
    "## 산술연산자\n",
    "### +    덧셈\n",
    "### -    뺄셈\n",
    "### *    곱셈\n",
    "### /    나눗셈\n",
    "### //   몫\n",
    "### %    나머지\n",
    "### **   거듭제곱"
   ],
   "cell_type": "markdown",
   "metadata": {}
  },
  {
   "cell_type": "code",
   "execution_count": 1,
   "metadata": {},
   "outputs": [
    {
     "output_type": "stream",
     "name": "stdout",
     "text": [
      "2.5\n2.0\n2\n2\n1\n"
     ]
    }
   ],
   "source": [
    "print(5 / 2)\n",
    "print(4 / 2)\n",
    "print(5 // 2)\n",
    "print(int(5/2))\n",
    "print(5 % 2)"
   ]
  },
  {
   "cell_type": "code",
   "execution_count": 3,
   "metadata": {},
   "outputs": [
    {
     "output_type": "stream",
     "name": "stdout",
     "text": [
      "(2, 1)\n"
     ]
    }
   ],
   "source": [
    "# 몫과 나머지를 동시에 반환\n",
    "print(divmod(5, 2))"
   ]
  },
  {
   "source": [
    "## 비교연산자\n",
    "### <            미만\n",
    "### <=           이하\n",
    "### >            초과\n",
    "### >=           이상\n",
    "### ==           같음\n",
    "### !=           같지않음\n",
    "### is           객체 아이덴티티(OOP)\n",
    "### is not       OPP가 아닌 경우"
   ],
   "cell_type": "markdown",
   "metadata": {}
  },
  {
   "cell_type": "code",
   "execution_count": 4,
   "metadata": {},
   "outputs": [
    {
     "output_type": "execute_result",
     "data": {
      "text/plain": [
       "False"
      ]
     },
     "metadata": {},
     "execution_count": 4
    }
   ],
   "source": [
    "3 > 6"
   ]
  },
  {
   "cell_type": "code",
   "execution_count": 5,
   "metadata": {},
   "outputs": [
    {
     "output_type": "execute_result",
     "data": {
      "text/plain": [
       "True"
      ]
     },
     "metadata": {},
     "execution_count": 5
    }
   ],
   "source": [
    "4.0 == 4"
   ]
  },
  {
   "cell_type": "code",
   "execution_count": 6,
   "metadata": {},
   "outputs": [
    {
     "output_type": "execute_result",
     "data": {
      "text/plain": [
       "True"
      ]
     },
     "metadata": {},
     "execution_count": 6
    }
   ],
   "source": [
    "6 > 0"
   ]
  },
  {
   "cell_type": "code",
   "execution_count": 7,
   "metadata": {},
   "outputs": [
    {
     "output_type": "execute_result",
     "data": {
      "text/plain": [
       "True"
      ]
     },
     "metadata": {},
     "execution_count": 7
    }
   ],
   "source": [
    "'5' != 5"
   ]
  },
  {
   "cell_type": "code",
   "execution_count": 8,
   "metadata": {},
   "outputs": [
    {
     "output_type": "execute_result",
     "data": {
      "text/plain": [
       "False"
      ]
     },
     "metadata": {},
     "execution_count": 8
    }
   ],
   "source": [
    "x = 6\n",
    "x is None"
   ]
  },
  {
   "source": [
    "## 논리연산자\n",
    "### A and B     A와 B 모두 True일 경우, True\n",
    "### A or B      A와 B 모두 False일 경우, False\n",
    "### Not         True를 False로, False를 True로"
   ],
   "cell_type": "markdown",
   "metadata": {}
  },
  {
   "cell_type": "code",
   "execution_count": 9,
   "metadata": {},
   "outputs": [
    {
     "output_type": "execute_result",
     "data": {
      "text/plain": [
       "True"
      ]
     },
     "metadata": {},
     "execution_count": 9
    }
   ],
   "source": [
    "num = 10\n",
    "num >= 10 and num % 3 ==1"
   ]
  },
  {
   "cell_type": "code",
   "execution_count": 11,
   "metadata": {},
   "outputs": [
    {
     "output_type": "stream",
     "name": "stdout",
     "text": [
      "4 5 0 5\n"
     ]
    }
   ],
   "source": [
    "# 결과가 확실한 경우 두번째 값은 확인하지 않는다.\n",
    "# and 연산에서 첫번째 값이 False인 경우 무조건 False => 첫번째 값 반환\n",
    "# or 연산에서 첫번째 값이 True인 경우 무조건 True => 첫번째 값 반환\n",
    "x = 5 and 4\n",
    "y = 5 or 3\n",
    "z = 0 and 5\n",
    "i = 0 or 5\n",
    "print(x, y, z, i)"
   ]
  },
  {
   "source": [
    "## 복합연산자\n",
    "### 연산과 대입이 함께 이뤄짐"
   ],
   "cell_type": "markdown",
   "metadata": {}
  },
  {
   "cell_type": "code",
   "execution_count": 13,
   "metadata": {},
   "outputs": [
    {
     "output_type": "stream",
     "name": "stdout",
     "text": [
      "1\n"
     ]
    }
   ],
   "source": [
    "total = 0\n",
    "total += 1\n",
    "print(total)"
   ]
  },
  {
   "cell_type": "code",
   "execution_count": 14,
   "metadata": {},
   "outputs": [
    {
     "output_type": "stream",
     "name": "stdout",
     "text": [
      "0\n1\n2\n3\n4\n"
     ]
    }
   ],
   "source": [
    "total = 0\n",
    "while total < 5:\n",
    "    print(total)\n",
    "    total += 1"
   ]
  },
  {
   "source": [
    "## Concatenation\n"
   ],
   "cell_type": "markdown",
   "metadata": {}
  },
  {
   "cell_type": "code",
   "execution_count": 16,
   "metadata": {},
   "outputs": [
    {
     "output_type": "execute_result",
     "data": {
      "text/plain": [
       "'hello, friend!'"
      ]
     },
     "metadata": {},
     "execution_count": 16
    }
   ],
   "source": [
    "'hello, ' + 'friend!'"
   ]
  },
  {
   "cell_type": "code",
   "execution_count": 17,
   "metadata": {},
   "outputs": [
    {
     "output_type": "execute_result",
     "data": {
      "text/plain": [
       "True"
      ]
     },
     "metadata": {},
     "execution_count": 17
    }
   ],
   "source": [
    "'f' in 'friend'"
   ]
  },
  {
   "source": [
    "## Identity"
   ],
   "cell_type": "markdown",
   "metadata": {}
  },
  {
   "cell_type": "code",
   "execution_count": 18,
   "metadata": {},
   "outputs": [
    {
     "output_type": "stream",
     "name": "stdout",
     "text": [
      "True\n1891237325168 1891237325168\n"
     ]
    }
   ],
   "source": [
    "# 파이썬에서 -5에서 256까지 숫자의 id는 동일하다\n",
    "a = 3\n",
    "b = 3\n",
    "print(a is b)\n",
    "print(id(a), id(b))"
   ]
  },
  {
   "cell_type": "code",
   "execution_count": 19,
   "metadata": {},
   "outputs": [
    {
     "output_type": "stream",
     "name": "stdout",
     "text": [
      "False\n1891325411216 1891325410128\n"
     ]
    }
   ],
   "source": [
    "a = 258\n",
    "b = 258\n",
    "print(a is b)\n",
    "print(id(a), id(b))"
   ]
  },
  {
   "source": [
    "## Indexing / Slicing"
   ],
   "cell_type": "markdown",
   "metadata": {}
  },
  {
   "cell_type": "code",
   "execution_count": 20,
   "metadata": {},
   "outputs": [
    {
     "output_type": "execute_result",
     "data": {
      "text/plain": [
       "'h'"
      ]
     },
     "metadata": {},
     "execution_count": 20
    }
   ],
   "source": [
    "'hello, friend!'[0]"
   ]
  },
  {
   "cell_type": "code",
   "execution_count": 21,
   "metadata": {},
   "outputs": [
    {
     "output_type": "execute_result",
     "data": {
      "text/plain": [
       "'llo, '"
      ]
     },
     "metadata": {},
     "execution_count": 21
    }
   ],
   "source": [
    "'hello, friend!'[2:7]"
   ]
  },
  {
   "cell_type": "code",
   "execution_count": null,
   "metadata": {},
   "outputs": [],
   "source": []
  }
 ]
}