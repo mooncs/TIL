{
 "metadata": {
  "language_info": {
   "codemirror_mode": {
    "name": "ipython",
    "version": 3
   },
   "file_extension": ".py",
   "mimetype": "text/x-python",
   "name": "python",
   "nbconvert_exporter": "python",
   "pygments_lexer": "ipython3",
   "version": "3.9.6"
  },
  "orig_nbformat": 4,
  "kernelspec": {
   "name": "python3",
   "display_name": "Python 3.9.6 64-bit"
  },
  "interpreter": {
   "hash": "826c1ff5c4179778aab3a3c529716f5482c58a2cdc9450e70eef1a1010bf897b"
  }
 },
 "nbformat": 4,
 "nbformat_minor": 2,
 "cells": [
  {
   "cell_type": "code",
   "execution_count": 2,
   "metadata": {},
   "outputs": [
    {
     "output_type": "stream",
     "name": "stdout",
     "text": [
      "'Hello' Kim\nNext Enter.\nAnd Tab\tTab\n"
     ]
    }
   ],
   "source": [
    "# 이스케이프 시퀀스(escape sequence)\n",
    "# \\n  줄바꿈\n",
    "# \\t  탭\n",
    "# \\r  캐리지리턴\n",
    "# \\0  널(Null)\n",
    "# \\\\  \\\n",
    "# \\'  단일인용부호(')\n",
    "# \\\"  단일인용부호(\")\n",
    "\n",
    "print('\\'Hello\\' Kim')\n",
    "print('Next Enter.\\nAnd Tab\\tTab')"
   ]
  },
  {
   "cell_type": "code",
   "execution_count": 4,
   "metadata": {},
   "outputs": [
    {
     "output_type": "stream",
     "name": "stdout",
     "text": [
      "Hello, Lee\nYour score is 4\nYour score is 4.500000\n"
     ]
    }
   ],
   "source": [
    "# String Interpolation\n",
    "# %-formatting\n",
    "# str.format()\n",
    "# f-string      # python 3.6+\n",
    "name = 'Lee'\n",
    "score = 4.5\n",
    "print('Hello, %s' % name)\n",
    "print('Your score is %d' % score)\n",
    "print('Your score is %f' % score)"
   ]
  },
  {
   "cell_type": "code",
   "execution_count": 5,
   "metadata": {},
   "outputs": [
    {
     "output_type": "stream",
     "name": "stdout",
     "text": [
      "Hello, Lee\n Your score is 4.5\nHello, Lee\n Your score is 4.5\n"
     ]
    }
   ],
   "source": [
    "print('Hello, {}\\n Your score is {}'.format(name, score))\n",
    "print(f'Hello, {name}\\n Your score is {score}')"
   ]
  },
  {
   "cell_type": "code",
   "execution_count": 6,
   "metadata": {},
   "outputs": [
    {
     "output_type": "stream",
     "name": "stdout",
     "text": [
      "2021-07-19 11:14:39.423844\n"
     ]
    }
   ],
   "source": [
    "# f-string\n",
    "import datetime\n",
    "today = datetime.datetime.now()\n",
    "print(today)"
   ]
  },
  {
   "cell_type": "code",
   "execution_count": 7,
   "metadata": {},
   "outputs": [
    {
     "output_type": "execute_result",
     "data": {
      "text/plain": [
       "'Today is 21 07 19'"
      ]
     },
     "metadata": {},
     "execution_count": 7
    }
   ],
   "source": [
    "f'Today is {today:%y} {today:%m} {today:%d}'"
   ]
  },
  {
   "cell_type": "code",
   "execution_count": 11,
   "metadata": {},
   "outputs": [
    {
     "output_type": "execute_result",
     "data": {
      "text/plain": [
       "'원주율은 3.14 반지름이 3일때 원의 넓이는 28.27'"
      ]
     },
     "metadata": {},
     "execution_count": 11
    }
   ],
   "source": [
    "pi = 3.141592\n",
    "f'원주율은 {pi:.3} 반지름이 3일때 원의 넓이는 {pi*3*3:.4}'"
   ]
  },
  {
   "cell_type": "code",
   "execution_count": null,
   "metadata": {},
   "outputs": [],
   "source": []
  }
 ]
}