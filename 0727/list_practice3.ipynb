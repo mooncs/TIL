{
 "cells": [
  {
   "cell_type": "markdown",
   "source": [
    "# Practice 3\n",
    "\n",
    "> 자료 구조 "
   ],
   "metadata": {}
  },
  {
   "cell_type": "markdown",
   "source": [
    "## 썩은 과일 찾기\n",
    "\n",
    "> 과수원에 농부 한명이 썩은 과일이 몇개 들어있는 과일 봉지를 가지고 있다. (과일 봉지는 리스트를 의미한다.)\n",
    ">\n",
    "> 썩은 과일 조각들을 모두 신선한 것으로 교체하는 함수 `change_rotten_fruit()`를 작성하시오. \n",
    ">\n",
    "> 예를 들어,\n",
    "- `['apple', 'rottenBanana', 'apple']` 이라는 리스트가 주어진 경우, 대체된 리스트는 `['apple', 'banana', 'apple']` 이어야 한다. \n",
    ">\n",
    ">\n",
    "> **유의**\n",
    "- 만약 리스트가 null/nil/None이거나 비어 있는 경우 빈 리스트를 반환한다.\n",
    "- 반환된 리스트의 요소는 모두 소문자여야 한다.\n",
    "\n",
    "---\n",
    "\n",
    "예시)\n",
    "\n",
    "```python\n",
    "change_rotten_fruit(['apple', 'rottenBanana', 'apple']) \n",
    "#=> ['apple', 'banana', 'apple']\n",
    "\n",
    "change_rotten_fruit(['rottenapple', 'rottenBanana', 'apple', 'rottenGrape']) \n",
    "#=> ['apple', 'banana', 'apple', 'grape']\n",
    "```"
   ],
   "metadata": {}
  },
  {
   "cell_type": "code",
   "execution_count": 3,
   "source": [
    "def change_rotten_fruit(fruit_bag):\r\n",
    "    if not fruit_bag:\r\n",
    "        return []\r\n",
    "    else:\r\n",
    "        fresh_fruit = [fruit.replace('rotten', '').lower() if 'rotten' in fruit else fruit.lower() for fruit in fruit_bag ]\r\n",
    "        return fresh_fruit"
   ],
   "outputs": [],
   "metadata": {}
  },
  {
   "cell_type": "code",
   "execution_count": 4,
   "source": [
    "# 해당 코드를 통해 올바른 결과가 나오는지 확인하시오.\r\n",
    "print(change_rotten_fruit(['apple', 'rottenBanana', 'apple'] ))\r\n",
    "print(change_rotten_fruit(['rottenapple', 'rottenBanana', 'apple', 'rottenGrape']))"
   ],
   "outputs": [
    {
     "output_type": "stream",
     "name": "stdout",
     "text": [
      "['apple', 'banana', 'apple']\n",
      "['apple', 'banana', 'apple', 'grape']\n"
     ]
    }
   ],
   "metadata": {}
  },
  {
   "cell_type": "markdown",
   "source": [
    "## 중복되지 않은 숫자의 합\n",
    "\n",
    "> 같은 숫자가 한개 있거나 두개가 들어있는 리스트가 주어진다. 이러한 리스트에서 숫자가 한개만 있는 요소들의 합을 구하는 함수 `sum_of_repeat_number()`를 작성하시오.\n",
    ">\n",
    "> 예를 들어, `[4, 5, 7, 5, 4, 8]`는 7과 8이 한번만 나오기 때문에 두개를 더한 15가 결과값으로 도출된다.\n",
    "\n",
    "---\n",
    "\n",
    "예시)\n",
    "\n",
    "```python\n",
    "sum_of_repeat_number([4, 4, 7, 8, 10]) # => 25\n",
    "```\n"
   ],
   "metadata": {}
  },
  {
   "cell_type": "code",
   "execution_count": 25,
   "source": [
    "def sum_of_repeat_number(numbers):\r\n",
    "    uni_numbers = [number for number in numbers if numbers.count(number) < 2]\r\n",
    "    return sum(uni_numbers)"
   ],
   "outputs": [],
   "metadata": {}
  },
  {
   "cell_type": "code",
   "execution_count": 27,
   "source": [
    "def sum_of_repeat_number(numbers):\r\n",
    "    total = 0\r\n",
    "    uni_numbers = []\r\n",
    "    for number in numbers:\r\n",
    "        if numbers.count(number) < 2:\r\n",
    "            uni_numbers.append(number)\r\n",
    "    for uni in uni_numbers:\r\n",
    "        total += uni\r\n",
    "    return total"
   ],
   "outputs": [],
   "metadata": {}
  },
  {
   "cell_type": "code",
   "execution_count": 28,
   "source": [
    "# 해당 코드를 통해 올바른 결과가 나오는지 확인하시오.\r\n",
    "print(sum_of_repeat_number([4, 4, 7, 8, 10]))"
   ],
   "outputs": [
    {
     "output_type": "stream",
     "name": "stdout",
     "text": [
      "25\n"
     ]
    }
   ],
   "metadata": {}
  }
 ],
 "metadata": {
  "kernelspec": {
   "name": "python3",
   "display_name": "Python 3.9.6 64-bit"
  },
  "language_info": {
   "codemirror_mode": {
    "name": "ipython",
    "version": 3
   },
   "file_extension": ".py",
   "mimetype": "text/x-python",
   "name": "python",
   "nbconvert_exporter": "python",
   "pygments_lexer": "ipython3",
   "version": "3.9.6"
  },
  "toc": {
   "base_numbering": 1,
   "nav_menu": {},
   "number_sections": true,
   "sideBar": true,
   "skip_h1_title": false,
   "title_cell": "Table of Contents",
   "title_sidebar": "Contents",
   "toc_cell": false,
   "toc_position": {},
   "toc_section_display": true,
   "toc_window_display": false
  },
  "interpreter": {
   "hash": "826c1ff5c4179778aab3a3c529716f5482c58a2cdc9450e70eef1a1010bf897b"
  }
 },
 "nbformat": 4,
 "nbformat_minor": 4
}